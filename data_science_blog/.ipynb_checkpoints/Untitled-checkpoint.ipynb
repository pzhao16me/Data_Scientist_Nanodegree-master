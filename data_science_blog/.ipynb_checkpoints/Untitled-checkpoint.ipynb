{
 "cells": [
  {
   "cell_type": "code",
   "execution_count": 1,
   "metadata": {},
   "outputs": [],
   "source": [
    "import pandas as pd\n",
    "import numpy as np\n",
    "import seaborn as sns\n",
    "import matplotlib.pyplot as plt\n",
    "from sklearn.preprocessing import Imputer, LabelEncoder"
   ]
  },
  {
   "cell_type": "code",
   "execution_count": 2,
   "metadata": {},
   "outputs": [],
   "source": [
    "bos_listings = pd.read_csv(\"D://boston-airbnb-open-data/listings.csv\")\n",
    "bos_calendar = pd.read_csv(\"D://boston-airbnb-open-data/calendar.csv\")\n",
    "bos_reviews = pd.read_csv(\"D://boston-airbnb-open-data/reviews.csv\")"
   ]
  },
  {
   "cell_type": "code",
   "execution_count": 9,
   "metadata": {},
   "outputs": [
    {
     "data": {
      "text/plain": [
       "0      679\n",
       "1       26\n",
       "2       14\n",
       "3       15\n",
       "4       19\n",
       "5       20\n",
       "6       12\n",
       "7       13\n",
       "8       11\n",
       "9       15\n",
       "10       6\n",
       "11       4\n",
       "12       4\n",
       "13       8\n",
       "14       9\n",
       "15       8\n",
       "16       8\n",
       "17      12\n",
       "18       8\n",
       "19      10\n",
       "20       5\n",
       "21       9\n",
       "22       6\n",
       "23      10\n",
       "24       4\n",
       "25       3\n",
       "26       8\n",
       "27       6\n",
       "28       6\n",
       "29       7\n",
       "      ... \n",
       "336     18\n",
       "337     25\n",
       "338     16\n",
       "339     15\n",
       "340     40\n",
       "341     20\n",
       "342     19\n",
       "343     18\n",
       "344     19\n",
       "345     17\n",
       "346     11\n",
       "347     19\n",
       "348     18\n",
       "349     17\n",
       "350     19\n",
       "351     11\n",
       "352      9\n",
       "353     18\n",
       "354      8\n",
       "355     12\n",
       "356     25\n",
       "357     16\n",
       "358     19\n",
       "359     30\n",
       "360     20\n",
       "361     22\n",
       "362     17\n",
       "363     19\n",
       "364     95\n",
       "365    103\n",
       "Name: availability_365, Length: 348, dtype: int64"
      ]
     },
     "execution_count": 9,
     "metadata": {},
     "output_type": "execute_result"
    }
   ],
   "source": [
    "bos_listings.availability_365.value_counts(dropna=False).sort_index()"
   ]
  },
  {
   "cell_type": "code",
   "execution_count": 8,
   "metadata": {},
   "outputs": [
    {
     "data": {
      "text/plain": [
       "0      756\n",
       "1      380\n",
       "2      250\n",
       "3      176\n",
       "4      154\n",
       "5      111\n",
       "6       92\n",
       "7       85\n",
       "8       88\n",
       "9       81\n",
       "10      71\n",
       "11      54\n",
       "12      45\n",
       "13      47\n",
       "14      55\n",
       "15      47\n",
       "16      38\n",
       "17      38\n",
       "18      32\n",
       "19      42\n",
       "20      39\n",
       "21      33\n",
       "22      30\n",
       "23      33\n",
       "24      27\n",
       "25      22\n",
       "26      23\n",
       "27      19\n",
       "28      13\n",
       "29      27\n",
       "      ... \n",
       "176      2\n",
       "178      1\n",
       "179      1\n",
       "184      4\n",
       "185      1\n",
       "190      1\n",
       "192      3\n",
       "193      1\n",
       "194      2\n",
       "198      2\n",
       "215      2\n",
       "221      1\n",
       "222      1\n",
       "226      2\n",
       "230      1\n",
       "231      2\n",
       "232      1\n",
       "236      1\n",
       "237      1\n",
       "241      1\n",
       "242      1\n",
       "244      1\n",
       "252      1\n",
       "271      1\n",
       "280      1\n",
       "281      2\n",
       "291      1\n",
       "312      1\n",
       "320      1\n",
       "404      1\n",
       "Name: number_of_reviews, Length: 178, dtype: int64"
      ]
     },
     "execution_count": 8,
     "metadata": {},
     "output_type": "execute_result"
    }
   ],
   "source": [
    "bos_listings.number_of_reviews.value_counts(dropna=False).sort_index()"
   ]
  },
  {
   "cell_type": "code",
   "execution_count": 10,
   "metadata": {},
   "outputs": [
    {
     "data": {
      "text/plain": [
       "1      1426\n",
       "2       998\n",
       "3       615\n",
       "4       126\n",
       "5        95\n",
       "6        18\n",
       "7       124\n",
       "8         1\n",
       "9         2\n",
       "10       65\n",
       "11        1\n",
       "13        1\n",
       "14       25\n",
       "15       20\n",
       "17        1\n",
       "18        1\n",
       "20        8\n",
       "21        3\n",
       "23        1\n",
       "25        3\n",
       "27        2\n",
       "28        7\n",
       "30       29\n",
       "32        4\n",
       "60        4\n",
       "90        2\n",
       "200       1\n",
       "273       1\n",
       "300       1\n",
       "Name: minimum_nights, dtype: int64"
      ]
     },
     "execution_count": 10,
     "metadata": {},
     "output_type": "execute_result"
    }
   ],
   "source": [
    "bos_listings.minimum_nights.value_counts(dropna=False).sort_index()"
   ]
  },
  {
   "cell_type": "markdown",
   "metadata": {},
   "source": []
  }
 ],
 "metadata": {
  "kernelspec": {
   "display_name": "Python 3",
   "language": "python",
   "name": "python3"
  },
  "language_info": {
   "codemirror_mode": {
    "name": "ipython",
    "version": 3
   },
   "file_extension": ".py",
   "mimetype": "text/x-python",
   "name": "python",
   "nbconvert_exporter": "python",
   "pygments_lexer": "ipython3",
   "version": "3.6.6"
  }
 },
 "nbformat": 4,
 "nbformat_minor": 2
}
