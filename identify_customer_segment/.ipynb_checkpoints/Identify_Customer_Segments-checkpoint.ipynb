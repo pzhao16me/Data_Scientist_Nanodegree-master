{
 "cells": [
  {
   "cell_type": "markdown",
   "metadata": {},
   "source": [
    "# Project: Identify Customer Segments\n",
    "\n",
    "In this project, you will apply unsupervised learning techniques to identify segments of the population that form the core customer base for a mail-order sales company in Germany. These segments can then be used to direct marketing campaigns towards audiences that will have the highest expected rate of returns. The data that you will use has been provided by our partners at Bertelsmann Arvato Analytics, and represents a real-life data science task.\n",
    "\n",
    "This notebook will help you complete this task by providing a framework within which you will perform your analysis steps. In each step of the project, you will see some text describing the subtask that you will perform, followed by one or more code cells for you to complete your work. **Feel free to add additional code and markdown cells as you go along so that you can explore everything in precise chunks.** The code cells provided in the base template will outline only the major tasks, and will usually not be enough to cover all of the minor tasks that comprise it.\n",
    "\n",
    "It should be noted that while there will be precise guidelines on how you should handle certain tasks in the project, there will also be places where an exact specification is not provided. **There will be times in the project where you will need to make and justify your own decisions on how to treat the data.** These are places where there may not be only one way to handle the data. In real-life tasks, there may be many valid ways to approach an analysis task. One of the most important things you can do is clearly document your approach so that other scientists can understand the decisions you've made.\n",
    "\n",
    "At the end of most sections, there will be a Markdown cell labeled **Discussion**. In these cells, you will report your findings for the completed section, as well as document the decisions that you made in your approach to each subtask. **Your project will be evaluated not just on the code used to complete the tasks outlined, but also your communication about your observations and conclusions at each stage.**"
   ]
  },
  {
   "cell_type": "code",
   "execution_count": 1,
   "metadata": {},
   "outputs": [],
   "source": [
    "# import libraries here; add more as necessary\n",
    "import numpy as np\n",
    "import pandas as pd\n",
    "import matplotlib.pyplot as plt\n",
    "import seaborn as sns\n",
    "\n",
    "# magic word for producing visualizations in notebook\n",
    "%matplotlib inline"
   ]
  },
  {
   "cell_type": "code",
   "execution_count": 2,
   "metadata": {},
   "outputs": [],
   "source": [
    "# Seting random seeds\n",
    "np.random.seed(0)"
   ]
  },
  {
   "cell_type": "markdown",
   "metadata": {},
   "source": [
    "### Step 0: Load the Data\n",
    "\n",
    "There are four files associated with this project (not including this one):\n",
    "\n",
    "- `Udacity_AZDIAS_Subset.csv`: Demographics data for the general population of Germany; 891211 persons (rows) x 85 features (columns).\n",
    "- `Udacity_CUSTOMERS_Subset.csv`: Demographics data for customers of a mail-order company; 191652 persons (rows) x 85 features (columns).\n",
    "- `Data_Dictionary.md`: Detailed information file about the features in the provided datasets.\n",
    "- `AZDIAS_Feature_Summary.csv`: Summary of feature attributes for demographics data; 85 features (rows) x 4 columns\n",
    "\n",
    "Each row of the demographics files represents a single person, but also includes information outside of individuals, including information about their household, building, and neighborhood. You will use this information to cluster the general population into groups with similar demographic properties. Then, you will see how the people in the customers dataset fit into those created clusters. The hope here is that certain clusters are over-represented in the customers data, as compared to the general population; those over-represented clusters will be assumed to be part of the core userbase. This information can then be used for further applications, such as targeting for a marketing campaign.\n",
    "\n",
    "To start off with, load in the demographics data for the general population into a pandas DataFrame, and do the same for the feature attributes summary. Note for all of the `.csv` data files in this project: they're semicolon (`;`) delimited, so you'll need an additional argument in your [`read_csv()`](https://pandas.pydata.org/pandas-docs/stable/generated/pandas.read_csv.html) call to read in the data properly. Also, considering the size of the main dataset, it may take some time for it to load completely.\n",
    "\n",
    "Once the dataset is loaded, it's recommended that you take a little bit of time just browsing the general structure of the dataset and feature summary file. You'll be getting deep into the innards of the cleaning in the first major step of the project, so gaining some general familiarity can help you get your bearings."
   ]
  },
  {
   "cell_type": "code",
   "execution_count": 3,
   "metadata": {},
   "outputs": [],
   "source": [
    "# Load in the general demographics data.\n",
    "azdias = pd.read_csv('Udacity_AZDIAS_Subset.csv', sep=';')\n",
    "\n",
    "# Load in the feature summary file.\n",
    "feat_info = pd.read_csv('AZDIAS_Feature_Summary.csv', sep=';')"
   ]
  },
  {
   "cell_type": "code",
   "execution_count": 3,
   "metadata": {
    "scrolled": true
   },
   "outputs": [
    {
     "name": "stdout",
     "output_type": "stream",
     "text": [
      "   AGER_TYP  ALTERSKATEGORIE_GROB  ANREDE_KZ  CJT_GESAMTTYP  \\\n",
      "0        -1                     2          1            2.0   \n",
      "1        -1                     1          2            5.0   \n",
      "2        -1                     3          2            3.0   \n",
      "3         2                     4          2            2.0   \n",
      "4        -1                     3          1            5.0   \n",
      "\n",
      "   FINANZ_MINIMALIST  FINANZ_SPARER  FINANZ_VORSORGER  FINANZ_ANLEGER  \\\n",
      "0                  3              4                 3               5   \n",
      "1                  1              5                 2               5   \n",
      "2                  1              4                 1               2   \n",
      "3                  4              2                 5               2   \n",
      "4                  4              3                 4               1   \n",
      "\n",
      "   FINANZ_UNAUFFAELLIGER  FINANZ_HAUSBAUER    ...     PLZ8_ANTG1  PLZ8_ANTG2  \\\n",
      "0                      5                 3    ...            NaN         NaN   \n",
      "1                      4                 5    ...            2.0         3.0   \n",
      "2                      3                 5    ...            3.0         3.0   \n",
      "3                      1                 2    ...            2.0         2.0   \n",
      "4                      3                 2    ...            2.0         4.0   \n",
      "\n",
      "   PLZ8_ANTG3  PLZ8_ANTG4  PLZ8_BAUMAX  PLZ8_HHZ  PLZ8_GBZ  ARBEIT  \\\n",
      "0         NaN         NaN          NaN       NaN       NaN     NaN   \n",
      "1         2.0         1.0          1.0       5.0       4.0     3.0   \n",
      "2         1.0         0.0          1.0       4.0       4.0     3.0   \n",
      "3         2.0         0.0          1.0       3.0       4.0     2.0   \n",
      "4         2.0         1.0          2.0       3.0       3.0     4.0   \n",
      "\n",
      "   ORTSGR_KLS9  RELAT_AB  \n",
      "0          NaN       NaN  \n",
      "1          5.0       4.0  \n",
      "2          5.0       2.0  \n",
      "3          3.0       3.0  \n",
      "4          6.0       5.0  \n",
      "\n",
      "[5 rows x 85 columns]\n"
     ]
    }
   ],
   "source": [
    "# Check the structure of the data after it's loaded (e.g. print the number of\n",
    "# rows and columns, print the first few rows).\n",
    "print(azdias.head())"
   ]
  },
  {
   "cell_type": "code",
   "execution_count": 31,
   "metadata": {
    "scrolled": true
   },
   "outputs": [
    {
     "name": "stdout",
     "output_type": "stream",
     "text": [
      "            AGER_TYP  ALTERSKATEGORIE_GROB      ANREDE_KZ  CJT_GESAMTTYP  \\\n",
      "count  205378.000000         888340.000000  891221.000000  886367.000000   \n",
      "mean        1.743410              2.757217       1.522098       3.632838   \n",
      "std         0.674312              1.009951       0.499512       1.595021   \n",
      "min         1.000000              1.000000       1.000000       1.000000   \n",
      "25%         1.000000              2.000000       1.000000       2.000000   \n",
      "50%         2.000000              3.000000       2.000000       4.000000   \n",
      "75%         2.000000              4.000000       2.000000       5.000000   \n",
      "max         3.000000              4.000000       2.000000       6.000000   \n",
      "\n",
      "       FINANZ_MINIMALIST  FINANZ_SPARER  FINANZ_VORSORGER  FINANZ_ANLEGER  \\\n",
      "count      891221.000000  891221.000000     891221.000000   891221.000000   \n",
      "mean            3.074528       2.821039          3.401106        3.033328   \n",
      "std             1.321055       1.464749          1.322134        1.529603   \n",
      "min             1.000000       1.000000          1.000000        1.000000   \n",
      "25%             2.000000       1.000000          3.000000        2.000000   \n",
      "50%             3.000000       3.000000          3.000000        3.000000   \n",
      "75%             4.000000       4.000000          5.000000        5.000000   \n",
      "max             5.000000       5.000000          5.000000        5.000000   \n",
      "\n",
      "       FINANZ_UNAUFFAELLIGER  FINANZ_HAUSBAUER      ...           PLZ8_ANTG1  \\\n",
      "count          891221.000000     891221.000000      ...        774706.000000   \n",
      "mean                2.874167          3.075121      ...             2.253330   \n",
      "std                 1.486731          1.353248      ...             0.972008   \n",
      "min                 1.000000          1.000000      ...             0.000000   \n",
      "25%                 2.000000          2.000000      ...             1.000000   \n",
      "50%                 3.000000          3.000000      ...             2.000000   \n",
      "75%                 4.000000          4.000000      ...             3.000000   \n",
      "max                 5.000000          5.000000      ...             4.000000   \n",
      "\n",
      "          PLZ8_ANTG2     PLZ8_ANTG3     PLZ8_ANTG4    PLZ8_BAUMAX  \\\n",
      "count  774706.000000  774706.000000  774706.000000  774706.000000   \n",
      "mean        2.801858       1.595426       0.699166       1.943913   \n",
      "std         0.920309       0.986736       0.727137       1.459654   \n",
      "min         0.000000       0.000000       0.000000       1.000000   \n",
      "25%         2.000000       1.000000       0.000000       1.000000   \n",
      "50%         3.000000       2.000000       1.000000       1.000000   \n",
      "75%         3.000000       2.000000       1.000000       3.000000   \n",
      "max         4.000000       3.000000       2.000000       5.000000   \n",
      "\n",
      "            PLZ8_HHZ       PLZ8_GBZ         ARBEIT    ORTSGR_KLS9  \\\n",
      "count  774706.000000  774706.000000  793846.000000  793947.000000   \n",
      "mean        3.612821       3.381087       3.166686       5.293389   \n",
      "std         0.973967       1.111598       0.999072       2.303379   \n",
      "min         1.000000       1.000000       1.000000       1.000000   \n",
      "25%         3.000000       3.000000       3.000000       4.000000   \n",
      "50%         4.000000       3.000000       3.000000       5.000000   \n",
      "75%         4.000000       4.000000       4.000000       7.000000   \n",
      "max         5.000000       5.000000       5.000000       9.000000   \n",
      "\n",
      "            RELAT_AB  \n",
      "count  793846.000000  \n",
      "mean        3.071033  \n",
      "std         1.360532  \n",
      "min         1.000000  \n",
      "25%         2.000000  \n",
      "50%         3.000000  \n",
      "75%         4.000000  \n",
      "max         5.000000  \n",
      "\n",
      "[8 rows x 81 columns]\n"
     ]
    }
   ],
   "source": [
    "print(azdias.describe())"
   ]
  },
  {
   "cell_type": "code",
   "execution_count": 7,
   "metadata": {
    "scrolled": true
   },
   "outputs": [
    {
     "name": "stdout",
     "output_type": "stream",
     "text": [
      "                attribute information_level         type missing_or_unknown\n",
      "0                AGER_TYP            person  categorical             [-1,0]\n",
      "1    ALTERSKATEGORIE_GROB            person      ordinal           [-1,0,9]\n",
      "2               ANREDE_KZ            person  categorical             [-1,0]\n",
      "3           CJT_GESAMTTYP            person  categorical                [0]\n",
      "4       FINANZ_MINIMALIST            person      ordinal               [-1]\n",
      "5           FINANZ_SPARER            person      ordinal               [-1]\n",
      "6        FINANZ_VORSORGER            person      ordinal               [-1]\n",
      "7          FINANZ_ANLEGER            person      ordinal               [-1]\n",
      "8   FINANZ_UNAUFFAELLIGER            person      ordinal               [-1]\n",
      "9        FINANZ_HAUSBAUER            person      ordinal               [-1]\n",
      "10              FINANZTYP            person  categorical               [-1]\n",
      "11            GEBURTSJAHR            person      numeric                [0]\n",
      "12        GFK_URLAUBERTYP            person  categorical                 []\n",
      "13       GREEN_AVANTGARDE            person  categorical                 []\n",
      "14             HEALTH_TYP            person      ordinal             [-1,0]\n",
      "15    LP_LEBENSPHASE_FEIN            person        mixed                [0]\n",
      "16    LP_LEBENSPHASE_GROB            person        mixed                [0]\n",
      "17        LP_FAMILIE_FEIN            person  categorical                [0]\n",
      "18        LP_FAMILIE_GROB            person  categorical                [0]\n",
      "19         LP_STATUS_FEIN            person  categorical                [0]\n"
     ]
    }
   ],
   "source": [
    "print(feat_info[0:20])"
   ]
  },
  {
   "cell_type": "code",
   "execution_count": 8,
   "metadata": {
    "scrolled": true
   },
   "outputs": [
    {
     "name": "stdout",
     "output_type": "stream",
     "text": [
      "                attribute information_level         type missing_or_unknown\n",
      "20         LP_STATUS_GROB            person  categorical                [0]\n",
      "21       NATIONALITAET_KZ            person  categorical             [-1,0]\n",
      "22  PRAEGENDE_JUGENDJAHRE            person        mixed             [-1,0]\n",
      "23         RETOURTYP_BK_S            person      ordinal                [0]\n",
      "24              SEMIO_SOZ            person      ordinal             [-1,9]\n",
      "25              SEMIO_FAM            person      ordinal             [-1,9]\n",
      "26              SEMIO_REL            person      ordinal             [-1,9]\n",
      "27              SEMIO_MAT            person      ordinal             [-1,9]\n",
      "28             SEMIO_VERT            person      ordinal             [-1,9]\n",
      "29             SEMIO_LUST            person      ordinal             [-1,9]\n",
      "30              SEMIO_ERL            person      ordinal             [-1,9]\n",
      "31             SEMIO_KULT            person      ordinal             [-1,9]\n",
      "32              SEMIO_RAT            person      ordinal             [-1,9]\n",
      "33             SEMIO_KRIT            person      ordinal             [-1,9]\n",
      "34              SEMIO_DOM            person      ordinal             [-1,9]\n",
      "35             SEMIO_KAEM            person      ordinal             [-1,9]\n",
      "36          SEMIO_PFLICHT            person      ordinal             [-1,9]\n",
      "37            SEMIO_TRADV            person      ordinal             [-1,9]\n",
      "38            SHOPPER_TYP            person  categorical               [-1]\n",
      "39                SOHO_KZ            person  categorical               [-1]\n"
     ]
    }
   ],
   "source": [
    "print(feat_info[20:40])"
   ]
  },
  {
   "cell_type": "code",
   "execution_count": 9,
   "metadata": {
    "scrolled": true
   },
   "outputs": [
    {
     "name": "stdout",
     "output_type": "stream",
     "text": [
      "              attribute information_level         type missing_or_unknown\n",
      "40             TITEL_KZ            person  categorical             [-1,0]\n",
      "41             VERS_TYP            person  categorical               [-1]\n",
      "42             ZABEOTYP            person  categorical             [-1,9]\n",
      "43             ALTER_HH         household     interval                [0]\n",
      "44         ANZ_PERSONEN         household      numeric                 []\n",
      "45            ANZ_TITEL         household      numeric                 []\n",
      "46   HH_EINKOMMEN_SCORE         household      ordinal             [-1,0]\n",
      "47         KK_KUNDENTYP         household  categorical               [-1]\n",
      "48       W_KEIT_KIND_HH         household      ordinal             [-1,0]\n",
      "49       WOHNDAUER_2008         household      ordinal             [-1,0]\n",
      "50  ANZ_HAUSHALTE_AKTIV          building      numeric                [0]\n",
      "51         ANZ_HH_TITEL          building      numeric                 []\n",
      "52          GEBAEUDETYP          building  categorical             [-1,0]\n",
      "53          KONSUMNAEHE          building      ordinal                 []\n",
      "54     MIN_GEBAEUDEJAHR          building      numeric                [0]\n",
      "55          OST_WEST_KZ          building  categorical               [-1]\n",
      "56             WOHNLAGE          building        mixed               [-1]\n",
      "57      CAMEO_DEUG_2015     microcell_rr4  categorical             [-1,X]\n",
      "58       CAMEO_DEU_2015     microcell_rr4  categorical               [XX]\n",
      "59      CAMEO_INTL_2015     microcell_rr4        mixed            [-1,XX]\n"
     ]
    }
   ],
   "source": [
    "print(feat_info[40:60])"
   ]
  },
  {
   "cell_type": "code",
   "execution_count": 10,
   "metadata": {
    "scrolled": true
   },
   "outputs": [
    {
     "name": "stdout",
     "output_type": "stream",
     "text": [
      "             attribute information_level     type missing_or_unknown\n",
      "60         KBA05_ANTG1     microcell_rr3  ordinal               [-1]\n",
      "61         KBA05_ANTG2     microcell_rr3  ordinal               [-1]\n",
      "62         KBA05_ANTG3     microcell_rr3  ordinal               [-1]\n",
      "63         KBA05_ANTG4     microcell_rr3  ordinal               [-1]\n",
      "64        KBA05_BAUMAX     microcell_rr3    mixed             [-1,0]\n",
      "65           KBA05_GBZ     microcell_rr3  ordinal             [-1,0]\n",
      "66            BALLRAUM          postcode  ordinal               [-1]\n",
      "67            EWDICHTE          postcode  ordinal               [-1]\n",
      "68          INNENSTADT          postcode  ordinal               [-1]\n",
      "69  GEBAEUDETYP_RASTER        region_rr1  ordinal                 []\n",
      "70                 KKK        region_rr1  ordinal             [-1,0]\n",
      "71          MOBI_REGIO        region_rr1  ordinal                 []\n",
      "72   ONLINE_AFFINITAET        region_rr1  ordinal                 []\n",
      "73            REGIOTYP        region_rr1  ordinal             [-1,0]\n",
      "74    KBA13_ANZAHL_PKW    macrocell_plz8  numeric                 []\n",
      "75          PLZ8_ANTG1    macrocell_plz8  ordinal               [-1]\n",
      "76          PLZ8_ANTG2    macrocell_plz8  ordinal               [-1]\n",
      "77          PLZ8_ANTG3    macrocell_plz8  ordinal               [-1]\n",
      "78          PLZ8_ANTG4    macrocell_plz8  ordinal               [-1]\n",
      "79         PLZ8_BAUMAX    macrocell_plz8    mixed             [-1,0]\n"
     ]
    }
   ],
   "source": [
    "print(feat_info[60:80])"
   ]
  },
  {
   "cell_type": "code",
   "execution_count": 11,
   "metadata": {
    "scrolled": true
   },
   "outputs": [
    {
     "name": "stdout",
     "output_type": "stream",
     "text": [
      "      attribute information_level     type missing_or_unknown\n",
      "80     PLZ8_HHZ    macrocell_plz8  ordinal               [-1]\n",
      "81     PLZ8_GBZ    macrocell_plz8  ordinal               [-1]\n",
      "82       ARBEIT         community  ordinal             [-1,9]\n",
      "83  ORTSGR_KLS9         community  ordinal             [-1,0]\n",
      "84     RELAT_AB         community  ordinal             [-1,9]\n"
     ]
    }
   ],
   "source": [
    "print(feat_info[80:])"
   ]
  },
  {
   "cell_type": "markdown",
   "metadata": {},
   "source": [
    "> **Tip**: Add additional cells to keep everything in reasonably-sized chunks! Keyboard shortcut `esc --> a` (press escape to enter command mode, then press the 'A' key) adds a new cell before the active cell, and `esc --> b` adds a new cell after the active cell. If you need to convert an active cell to a markdown cell, use `esc --> m` and to convert to a code cell, use `esc --> y`. \n",
    "\n",
    "## Step 1: Preprocessing\n",
    "\n",
    "### Step 1.1: Assess Missing Data\n",
    "\n",
    "The feature summary file contains a summary of properties for each demographics data column. You will use this file to help you make cleaning decisions during this stage of the project. First of all, you should assess the demographics data in terms of missing data. Pay attention to the following points as you perform your analysis, and take notes on what you observe. Make sure that you fill in the **Discussion** cell with your findings and decisions at the end of each step that has one!\n",
    "\n",
    "#### Step 1.1.1: Convert Missing Value Codes to NaNs\n",
    "The fourth column of the feature attributes summary (loaded in above as `feat_info`) documents the codes from the data dictionary that indicate missing or unknown data. While the file encodes this as a list (e.g. `[-1,0]`), this will get read in as a string object. You'll need to do a little bit of parsing to make use of it to identify and clean the data. Convert data that matches a 'missing' or 'unknown' value code into a numpy NaN value. You might want to see how much data takes on a 'missing' or 'unknown' code, and how much data is naturally missing, as a point of interest.\n",
    "\n",
    "**As one more reminder, you are encouraged to add additional cells to break up your analysis into manageable chunks.**"
   ]
  },
  {
   "cell_type": "code",
   "execution_count": 20,
   "metadata": {
    "scrolled": true
   },
   "outputs": [
    {
     "name": "stdout",
     "output_type": "stream",
     "text": [
      "NaN    98979\n",
      "6B     56672\n",
      "8A     52438\n",
      "4C     47819\n",
      "2D     35074\n",
      "3C     34769\n",
      "7A     34399\n",
      "3D     34307\n",
      "8B     33434\n",
      "4A     33155\n",
      "8C     30993\n",
      "9D     28593\n",
      "9B     27676\n",
      "9C     24987\n",
      "7B     24503\n",
      "9A     20542\n",
      "2C     19422\n",
      "8D     17576\n",
      "6E     16107\n",
      "2B     15486\n",
      "5D     14943\n",
      "6C     14820\n",
      "2A     13249\n",
      "5A     12214\n",
      "1D     11909\n",
      "1A     10850\n",
      "3A     10543\n",
      "5B     10354\n",
      "5C      9935\n",
      "7C      9065\n",
      "4B      9047\n",
      "4D      8570\n",
      "3B      7160\n",
      "6A      6810\n",
      "9E      6379\n",
      "6D      6073\n",
      "6F      5392\n",
      "7D      5333\n",
      "4E      5321\n",
      "1E      5065\n",
      "7E      4633\n",
      "1C      4317\n",
      "5F      4283\n",
      "1B      4071\n",
      "5E      3581\n",
      "XX       373\n",
      "Name: CAMEO_DEU_2015, dtype: int64\n"
     ]
    }
   ],
   "source": [
    "print(azdias['CAMEO_DEU_2015'].value_counts(dropna=False))"
   ]
  },
  {
   "cell_type": "code",
   "execution_count": 4,
   "metadata": {
    "scrolled": false
   },
   "outputs": [],
   "source": [
    "# Identify missing or unknown data values and convert them to NaNs.\n",
    "\n",
    "def replace_with_NaN(azdias, feat_info):\n",
    "    string_ints = ['-1','0','1','2','3','4','5','6','7','8','9']\n",
    "    # Dictionary to store processed missing or unknow values for each column of azdias\n",
    "    values_to_replace = {}\n",
    "    # Looping through each column of azdias dataframe\n",
    "    for col_num in range(feat_info.shape[0]):\n",
    "        # Get the missing or unknown values in the current column of the azdias dataframe\n",
    "        missing_unknown_values = feat_info.iloc[col_num, 3]\n",
    "        # Removing \"[\" and \"]\" from missing_unknown_values strings\n",
    "        for char in '[]':  \n",
    "            missing_unknown_values = missing_unknown_values.replace(char,'')\n",
    "        if ',' in missing_unknown_values: # More than one missing or unknow values\n",
    "            missing_unknown_values = missing_unknown_values.split(sep=',')\n",
    "        elif len(missing_unknown_values) > 0: # One missing or unknown value\n",
    "            value = missing_unknown_values\n",
    "            missing_unknown_values = []\n",
    "            missing_unknown_values.append(value)\n",
    "        else: # No missing or unknown value\n",
    "            missing_unknown_values = []\n",
    "        for i in range(len(missing_unknown_values)):\n",
    "            # Replace all string representations of integers into integers\n",
    "            if missing_unknown_values[i] in string_ints:\n",
    "                missing_unknown_values[i] = int(missing_unknown_values[i])\n",
    "        if len(missing_unknown_values) > 0: # If there are values to replace with NaN, add to dictionary\n",
    "            values_to_replace[feat_info.iloc[col_num, 0]] = missing_unknown_values\n",
    "    #print(values_to_replace)\n",
    "    azdias = azdias.replace(values_to_replace, np.nan)\n",
    "    return azdias\n",
    "azdias = replace_with_NaN(azdias, feat_info)"
   ]
  },
  {
   "cell_type": "code",
   "execution_count": 6,
   "metadata": {
    "scrolled": true
   },
   "outputs": [
    {
     "name": "stdout",
     "output_type": "stream",
     "text": [
      "Number of missing values per column:\n",
      "AGER_TYP                 685843\n",
      "ALTERSKATEGORIE_GROB       2881\n",
      "ANREDE_KZ                     0\n",
      "CJT_GESAMTTYP              4854\n",
      "FINANZ_MINIMALIST             0\n",
      "FINANZ_SPARER                 0\n",
      "FINANZ_VORSORGER              0\n",
      "FINANZ_ANLEGER                0\n",
      "FINANZ_UNAUFFAELLIGER         0\n",
      "FINANZ_HAUSBAUER              0\n",
      "FINANZTYP                     0\n",
      "GEBURTSJAHR              392318\n",
      "GFK_URLAUBERTYP            4854\n",
      "GREEN_AVANTGARDE              0\n",
      "HEALTH_TYP               111196\n",
      "LP_LEBENSPHASE_FEIN       97632\n",
      "LP_LEBENSPHASE_GROB       94572\n",
      "LP_FAMILIE_FEIN           77792\n",
      "LP_FAMILIE_GROB           77792\n",
      "LP_STATUS_FEIN             4854\n",
      "LP_STATUS_GROB             4854\n",
      "NATIONALITAET_KZ         108315\n",
      "PRAEGENDE_JUGENDJAHRE    108164\n",
      "RETOURTYP_BK_S             4854\n",
      "SEMIO_SOZ                     0\n",
      "SEMIO_FAM                     0\n",
      "SEMIO_REL                     0\n",
      "SEMIO_MAT                     0\n",
      "SEMIO_VERT                    0\n",
      "SEMIO_LUST                    0\n",
      "                          ...  \n",
      "OST_WEST_KZ               93148\n",
      "WOHNLAGE                  93148\n",
      "CAMEO_DEUG_2015           99352\n",
      "CAMEO_DEU_2015            99352\n",
      "CAMEO_INTL_2015           99352\n",
      "KBA05_ANTG1              133324\n",
      "KBA05_ANTG2              133324\n",
      "KBA05_ANTG3              133324\n",
      "KBA05_ANTG4              133324\n",
      "KBA05_BAUMAX             476524\n",
      "KBA05_GBZ                133324\n",
      "BALLRAUM                  93740\n",
      "EWDICHTE                  93740\n",
      "INNENSTADT                93740\n",
      "GEBAEUDETYP_RASTER        93155\n",
      "KKK                      158064\n",
      "MOBI_REGIO               133324\n",
      "ONLINE_AFFINITAET          4854\n",
      "REGIOTYP                 158064\n",
      "KBA13_ANZAHL_PKW         105800\n",
      "PLZ8_ANTG1               116515\n",
      "PLZ8_ANTG2               116515\n",
      "PLZ8_ANTG3               116515\n",
      "PLZ8_ANTG4               116515\n",
      "PLZ8_BAUMAX              116515\n",
      "PLZ8_HHZ                 116515\n",
      "PLZ8_GBZ                 116515\n",
      "ARBEIT                    97375\n",
      "ORTSGR_KLS9               97274\n",
      "RELAT_AB                  97375\n",
      "Length: 85, dtype: int64\n"
     ]
    }
   ],
   "source": [
    "# Testing, not needed\n",
    "def num_missing(x):\n",
    "    return sum(x.isnull())\n",
    "print(\"Number of missing values per column:\")\n",
    "print(azdias.apply(num_missing, axis=0))"
   ]
  },
  {
   "cell_type": "markdown",
   "metadata": {},
   "source": [
    "#### Step 1.1.2: Assess Missing Data in Each Column\n",
    "\n",
    "How much missing data is present in each column? There are a few columns that are outliers in terms of the proportion of values that are missing. You will want to use matplotlib's [`hist()`](https://matplotlib.org/api/_as_gen/matplotlib.pyplot.hist.html) function to visualize the distribution of missing value counts to find these columns. Identify and document these columns. While some of these columns might have justifications for keeping or re-encoding the data, for this project you should just remove them from the dataframe. (Feel free to make remarks about these outlier columns in the discussion, however!)\n",
    "\n",
    "For the remaining features, are there any patterns in which columns have, or share, missing data?"
   ]
  },
  {
   "cell_type": "code",
   "execution_count": 5,
   "metadata": {
    "scrolled": true
   },
   "outputs": [
    {
     "name": "stdout",
     "output_type": "stream",
     "text": [
      "Proportion of missing values per column:\n",
      "AGER_TYP                 0.769554\n",
      "ALTERSKATEGORIE_GROB     0.003233\n",
      "ANREDE_KZ                0.000000\n",
      "CJT_GESAMTTYP            0.005446\n",
      "FINANZ_MINIMALIST        0.000000\n",
      "FINANZ_SPARER            0.000000\n",
      "FINANZ_VORSORGER         0.000000\n",
      "FINANZ_ANLEGER           0.000000\n",
      "FINANZ_UNAUFFAELLIGER    0.000000\n",
      "FINANZ_HAUSBAUER         0.000000\n",
      "FINANZTYP                0.000000\n",
      "GEBURTSJAHR              0.440203\n",
      "GFK_URLAUBERTYP          0.005446\n",
      "GREEN_AVANTGARDE         0.000000\n",
      "HEALTH_TYP               0.124768\n",
      "LP_LEBENSPHASE_FEIN      0.109549\n",
      "LP_LEBENSPHASE_GROB      0.106115\n",
      "LP_FAMILIE_FEIN          0.087287\n",
      "LP_FAMILIE_GROB          0.087287\n",
      "LP_STATUS_FEIN           0.005446\n",
      "LP_STATUS_GROB           0.005446\n",
      "NATIONALITAET_KZ         0.121536\n",
      "PRAEGENDE_JUGENDJAHRE    0.121366\n",
      "RETOURTYP_BK_S           0.005446\n",
      "SEMIO_SOZ                0.000000\n",
      "SEMIO_FAM                0.000000\n",
      "SEMIO_REL                0.000000\n",
      "SEMIO_MAT                0.000000\n",
      "SEMIO_VERT               0.000000\n",
      "SEMIO_LUST               0.000000\n",
      "                           ...   \n",
      "OST_WEST_KZ              0.104517\n",
      "WOHNLAGE                 0.104517\n",
      "CAMEO_DEUG_2015          0.111479\n",
      "CAMEO_DEU_2015           0.111479\n",
      "CAMEO_INTL_2015          0.111479\n",
      "KBA05_ANTG1              0.149597\n",
      "KBA05_ANTG2              0.149597\n",
      "KBA05_ANTG3              0.149597\n",
      "KBA05_ANTG4              0.149597\n",
      "KBA05_BAUMAX             0.534687\n",
      "KBA05_GBZ                0.149597\n",
      "BALLRAUM                 0.105182\n",
      "EWDICHTE                 0.105182\n",
      "INNENSTADT               0.105182\n",
      "GEBAEUDETYP_RASTER       0.104525\n",
      "KKK                      0.177357\n",
      "MOBI_REGIO               0.149597\n",
      "ONLINE_AFFINITAET        0.005446\n",
      "REGIOTYP                 0.177357\n",
      "KBA13_ANZAHL_PKW         0.118714\n",
      "PLZ8_ANTG1               0.130736\n",
      "PLZ8_ANTG2               0.130736\n",
      "PLZ8_ANTG3               0.130736\n",
      "PLZ8_ANTG4               0.130736\n",
      "PLZ8_BAUMAX              0.130736\n",
      "PLZ8_HHZ                 0.130736\n",
      "PLZ8_GBZ                 0.130736\n",
      "ARBEIT                   0.109260\n",
      "ORTSGR_KLS9              0.109147\n",
      "RELAT_AB                 0.109260\n",
      "Length: 85, dtype: float64\n"
     ]
    }
   ],
   "source": [
    "# Perform an assessment of how much missing data there is in each column of the dataset.\n",
    "# Goal is to remove columns with a huge proportion of NaN values\n",
    "\n",
    "def proportion_missing_col(x):\n",
    "    return sum(x.isnull())/x.shape[0]\n",
    "print(\"Proportion of missing values per column:\")\n",
    "azdias_missing_col = azdias.apply(proportion_missing_col, axis=0)\n",
    "print(azdias_missing_col)\n"
   ]
  },
  {
   "cell_type": "code",
   "execution_count": 6,
   "metadata": {
    "scrolled": true
   },
   "outputs": [
    {
     "data": {
      "image/png": "[encoded data removed]",
      "text/plain": [
       "<matplotlib.figure.Figure at 0x7f2ac147ce48>"
      ]
     },
     "metadata": {},
     "output_type": "display_data"
    }
   ],
   "source": [
    "# Investigate patterns in the amount of missing data in each column.\n",
    "#azdias_missing_col.plot(kind='hist')\n",
    "bins = np.arange(0,azdias_missing_col.max()+0.05,0.05);\n",
    "plt.hist(azdias_missing_col,bins=bins);\n",
    "plt.title(\"Frequency of Missing Values Per Column\");\n",
    "plt.ylabel(\"Number of Columns\");\n",
    "plt.xlabel(\"Frequency\");"
   ]
  },
  {
   "cell_type": "code",
   "execution_count": 7,
   "metadata": {
    "scrolled": true
   },
   "outputs": [
    {
     "name": "stdout",
     "output_type": "stream",
     "text": [
      "Removing column: AGER_TYP with 76.9554 % missing values\n",
      "Removing column: GEBURTSJAHR with 44.0203 % missing values\n",
      "Removing column: TITEL_KZ with 99.7576 % missing values\n",
      "Removing column: ALTER_HH with 34.8137 % missing values\n",
      "Removing column: KK_KUNDENTYP with 65.5967 % missing values\n",
      "Removing column: KBA05_BAUMAX with 53.4687 % missing values\n",
      "   ALTERSKATEGORIE_GROB  ANREDE_KZ  CJT_GESAMTTYP  FINANZ_MINIMALIST  \\\n",
      "0                   2.0          1            2.0                  3   \n",
      "1                   1.0          2            5.0                  1   \n",
      "2                   3.0          2            3.0                  1   \n",
      "3                   4.0          2            2.0                  4   \n",
      "4                   3.0          1            5.0                  4   \n",
      "\n",
      "   FINANZ_SPARER  FINANZ_VORSORGER  FINANZ_ANLEGER  FINANZ_UNAUFFAELLIGER  \\\n",
      "0              4                 3               5                      5   \n",
      "1              5                 2               5                      4   \n",
      "2              4                 1               2                      3   \n",
      "3              2                 5               2                      1   \n",
      "4              3                 4               1                      3   \n",
      "\n",
      "   FINANZ_HAUSBAUER  FINANZTYP    ...     PLZ8_ANTG1  PLZ8_ANTG2  PLZ8_ANTG3  \\\n",
      "0                 3          4    ...            NaN         NaN         NaN   \n",
      "1                 5          1    ...            2.0         3.0         2.0   \n",
      "2                 5          1    ...            3.0         3.0         1.0   \n",
      "3                 2          6    ...            2.0         2.0         2.0   \n",
      "4                 2          5    ...            2.0         4.0         2.0   \n",
      "\n",
      "   PLZ8_ANTG4  PLZ8_BAUMAX  PLZ8_HHZ  PLZ8_GBZ  ARBEIT  ORTSGR_KLS9  RELAT_AB  \n",
      "0         NaN          NaN       NaN       NaN     NaN          NaN       NaN  \n",
      "1         1.0          1.0       5.0       4.0     3.0          5.0       4.0  \n",
      "2         0.0          1.0       4.0       4.0     3.0          5.0       2.0  \n",
      "3         0.0          1.0       3.0       4.0     2.0          3.0       3.0  \n",
      "4         1.0          2.0       3.0       3.0     4.0          6.0       5.0  \n",
      "\n",
      "[5 rows x 79 columns]\n"
     ]
    }
   ],
   "source": [
    "# Remove the outlier columns from the dataset. (You'll perform other data\n",
    "# engineering tasks such as re-encoding and imputation later.)\n",
    "\n",
    "def remove_outlier_col(df, prop_miss, cutoff):\n",
    "    \"\"\"\n",
    "    INPUTS:\n",
    "        df: Main dataframe to be reduced\n",
    "        prop_miss: Series containing proportion of missing values per df's column\n",
    "        cutoff: Threshold for missing values per column. Between 0 to 1.\n",
    "    OUTPUTS:\n",
    "        reduced_df: Subset of df containing columns with fewer missing values\n",
    "                    than the threshold\n",
    "        col_to_remove: Columns that are removed. These columns contain a higher\n",
    "                        proportion of missing values than the threshold \n",
    "    \"\"\"\n",
    "    col_to_remove = []\n",
    "    for col_num in range(df.shape[1]):\n",
    "        if prop_miss[col_num] > cutoff:\n",
    "            col_to_remove.append(df.columns.values[col_num])\n",
    "            print(\"Removing column: {} with {:.4f} % missing values\".format(df.columns.values[col_num],prop_miss[col_num]*100))\n",
    "    return df.drop(col_to_remove,axis=1), col_to_remove\n",
    "\n",
    "cutoff=0.3 # Set cutoff percentage for proportion of missing values for each column\n",
    "azdias_cleaned, removed_columns = remove_outlier_col(azdias, azdias_missing_col, cutoff)\n",
    "print(azdias_cleaned.head())"
   ]
  },
  {
   "cell_type": "markdown",
   "metadata": {},
   "source": [
    "#### Discussion 1.1.2: Assess Missing Data in Each Column\n",
    "\n",
    "(Double click this cell and replace this text with your own text, reporting your observations regarding the amount of missing data in each column. Are there any patterns in missing values? Which columns were removed from the dataset?)"
   ]
  },
  {
   "cell_type": "markdown",
   "metadata": {},
   "source": [
    "#### Step 1.1.3: Assess Missing Data in Each Row\n",
    "\n",
    "Now, you'll perform a similar assessment for the rows of the dataset. How much data is missing in each row? As with the columns, you should see some groups of points that have a very different numbers of missing values. Divide the data into two subsets: one for data points that are above some threshold for missing values, and a second subset for points below that threshold.\n",
    "\n",
    "In order to know what to do with the outlier rows, we should see if the distribution of data values on columns that are not missing data (or are missing very little data) are similar or different between the two groups. Select at least five of these columns and compare the distribution of values.\n",
    "- You can use seaborn's [`countplot()`](https://seaborn.pydata.org/generated/seaborn.countplot.html) function to create a bar chart of code frequencies and matplotlib's [`subplot()`](https://matplotlib.org/api/_as_gen/matplotlib.pyplot.subplot.html) function to put bar charts for the two subplots side by side.\n",
    "- To reduce repeated code, you might want to write a function that can perform this comparison, taking as one of its arguments a column to be compared.\n",
    "\n",
    "Depending on what you observe in your comparison, this will have implications on how you approach your conclusions later in the analysis. If the distributions of non-missing features look similar between the data with many missing values and the data with few or no missing values, then we could argue that simply dropping those points from the analysis won't present a major issue. On the other hand, if the data with many missing values looks very different from the data with few or no missing values, then we should make a note on those data as special. Make sure you report your observations in the discussion section. **Either way, you should continue your analysis below using just the subset of the data with few or no missing values.**"
   ]
  },
  {
   "cell_type": "code",
   "execution_count": 8,
   "metadata": {
    "scrolled": true
   },
   "outputs": [
    {
     "name": "stdout",
     "output_type": "stream",
     "text": [
      "Proportion of missing values per row:\n",
      "0    0.544304\n",
      "1    0.000000\n",
      "2    0.000000\n",
      "3    0.088608\n",
      "4    0.000000\n",
      "dtype: float64\n"
     ]
    }
   ],
   "source": [
    "# How much data is missing in each row of the dataset?\n",
    "def proportion_missing_row(x):\n",
    "    return sum(x.isnull())/len(x)\n",
    "print(\"Proportion of missing values per row:\")\n",
    "azdias_missing_row = azdias_cleaned.apply(proportion_missing_row, axis=1)\n",
    "print(azdias_missing_row.head())"
   ]
  },
  {
   "cell_type": "code",
   "execution_count": 9,
   "metadata": {
    "scrolled": true
   },
   "outputs": [
    {
     "data": {
      "image/png": "[encoded data removed]",
      "text/plain": [
       "<matplotlib.figure.Figure at 0x7f2a94b58cf8>"
      ]
     },
     "metadata": {},
     "output_type": "display_data"
    }
   ],
   "source": [
    "# Plotting histogram of missing values per column\n",
    "bins = np.arange(0,1.05,0.05);\n",
    "plt.hist(azdias_missing_row,bins=bins);\n",
    "plt.xlabel(\"Proportion of missing values per column\");\n",
    "plt.ylabel(\"Frequency\");"
   ]
  },
  {
   "cell_type": "code",
   "execution_count": 10,
   "metadata": {},
   "outputs": [],
   "source": [
    "# Write code to divide the data into two subsets based on the number of missing\n",
    "# values in each row.\n",
    "\n",
    "# Appending column containg info on proportion of missing values per row to the azdias dataframe from step 1.1.2\n",
    "azdias_cleaned_nan = pd.concat([azdias_cleaned, azdias_missing_row.rename('NaN_val')], axis=1, join_axes=[azdias_cleaned.index])\n",
    "# Set threshold for missing values\n",
    "threshold = 0.3\n",
    "# Subset containg rows of Azdias dataframe from step 1.1.2 that are below the threshold for missing values\n",
    "azdias_cleaned_below_thres = azdias_cleaned_nan[azdias_cleaned_nan['NaN_val'] < threshold]\n",
    "# Subset containg rows of Azdias dataframe from step 1.1.2 that are above the threshold for missing values\n",
    "azdias_cleaned_above_thres = azdias_cleaned_nan[azdias_cleaned_nan['NaN_val'] > threshold]\n",
    "\n",
    "#print(azdias_cleaned_below_thres.head())\n",
    "#print(azdias_cleaned_above_thres.head())"
   ]
  },
  {
   "cell_type": "code",
   "execution_count": 11,
   "metadata": {
    "scrolled": true
   },
   "outputs": [],
   "source": [
    "# Retrieving proportion of missing values per column for azdias dataframe in 1.1.2\n",
    "azdias_cleaned_col_miss = azdias_cleaned.apply(proportion_missing_col, axis=0)"
   ]
  },
  {
   "cell_type": "code",
   "execution_count": 12,
   "metadata": {},
   "outputs": [
    {
     "name": "stdout",
     "output_type": "stream",
     "text": [
      "['ANREDE_KZ', 'FINANZ_MINIMALIST', 'FINANZ_SPARER', 'FINANZ_VORSORGER', 'FINANZ_ANLEGER', 'FINANZ_UNAUFFAELLIGER', 'FINANZ_HAUSBAUER', 'FINANZTYP', 'GREEN_AVANTGARDE', 'SEMIO_SOZ', 'SEMIO_FAM', 'SEMIO_REL', 'SEMIO_MAT', 'SEMIO_VERT', 'SEMIO_LUST', 'SEMIO_ERL', 'SEMIO_KULT', 'SEMIO_RAT', 'SEMIO_KRIT', 'SEMIO_DOM', 'SEMIO_KAEM', 'SEMIO_PFLICHT', 'SEMIO_TRADV', 'ZABEOTYP']\n"
     ]
    }
   ],
   "source": [
    "# Find columns with no missing values\n",
    "\n",
    "def col_wo_missing(df1, df2):\n",
    "    \"\"\"\n",
    "    INPUTS\n",
    "        df1: The main dataframe containing all columns\n",
    "        df2: The series that contain the proportion of missing values in each df1 column\n",
    "    OUTPUTS\n",
    "        columns_wo_missing: The columns in df1 that do not contain any missing values\n",
    "    \"\"\"\n",
    "    columns_wo_missing = []\n",
    "    for col_num in range(len(df2)):\n",
    "        if df2[col_num] == 0:\n",
    "            columns_wo_missing.append(df1.columns.values[col_num])\n",
    "    return columns_wo_missing\n",
    "\n",
    "# Retrieving columns without missing values\n",
    "col_wo_missing_val = col_wo_missing(azdias_cleaned, azdias_cleaned_col_miss)\n",
    "print(col_wo_missing_val)"
   ]
  },
  {
   "cell_type": "code",
   "execution_count": 13,
   "metadata": {},
   "outputs": [],
   "source": [
    "# Subset containg rows of Azdias dataframe from step 1.1.2 that are below the threshold \n",
    "# for missing values and do not contain columns with missing values\n",
    "azdias_below_thres_wo_missing_val = azdias_cleaned_below_thres[col_wo_missing_val]\n",
    "# Subset containg rows of Azdias dataframe from step 1.1.2 that are above the threshold \n",
    "# for missing values and do not contain columns with missing values\n",
    "azdias_above_thres_wo_missing_val = azdias_cleaned_above_thres[col_wo_missing_val]\n",
    "\n",
    "#print(azdias_below_thres_wo_missing_val.head())\n",
    "#print(azdias_above_thres_wo_missing_val.head())"
   ]
  },
  {
   "cell_type": "code",
   "execution_count": 14,
   "metadata": {
    "scrolled": true
   },
   "outputs": [
    {
     "data": {
      "image/png": "[encoded data removed]",
      "text/plain": [
       "<matplotlib.figure.Figure at 0x7f29e140fc50>"
      ]
     },
     "metadata": {},
     "output_type": "display_data"
    }
   ],
   "source": [
    "# Compare the distribution of values for at least five columns where there are\n",
    "# no or few missing values, between the two subsets.\n",
    "\n",
    "# Plot histograms of values\n",
    "def plot_histogram(df1, df2, feature):\n",
    "    \"\"\" Plot two histrograms side by side comparing frequency of values from both df1 and df2.\n",
    "    INPUTS:\n",
    "        df1: Dataframe containing rows of data below the threshold of missing values per row\n",
    "        df2: Dataframe containing rows of data above the threshold of missing values per row\n",
    "        feature: The feature to be plotted\n",
    "    \"\"\"\n",
    "    plt.figure()\n",
    "    plt.subplot(1,3,1)\n",
    "    sns.countplot(data=df1,x=feature)\n",
    "    plt.title(\"Dataset below threshold\")\n",
    "    plt.xlabel(\"Feature: {}\".format(feature))\n",
    "    plt.ylabel(\"Frequency\")\n",
    "    \n",
    "    plt.subplot(1,3,3)\n",
    "    sns.countplot(data=df2,x=feature)\n",
    "    plt.title(\"Dataset above threshold\")\n",
    "    plt.xlabel(\"Feature: {}\".format(feature))\n",
    "    plt.ylabel(\"Frequency\")\n",
    "\n",
    "# Plotting first feature\n",
    "plot_histogram(azdias_below_thres_wo_missing_val, azdias_above_thres_wo_missing_val, col_wo_missing_val[0])"
   ]
  },
  {
   "cell_type": "code",
   "execution_count": 15,
   "metadata": {
    "scrolled": true
   },
   "outputs": [
    {
     "data": {
      "image/png": "[encoded data removed]",
      "text/plain": [
       "<matplotlib.figure.Figure at 0x7f2a72c74668>"
      ]
     },
     "metadata": {},
     "output_type": "display_data"
    }
   ],
   "source": [
    "# Plotting second feature\n",
    "plot_histogram(azdias_below_thres_wo_missing_val, azdias_above_thres_wo_missing_val, col_wo_missing_val[1])"
   ]
  },
  {
   "cell_type": "code",
   "execution_count": 16,
   "metadata": {
    "scrolled": false
   },
   "outputs": [
    {
     "data": {
      "image/png": "[encoded data removed]",
      "text/plain": [
       "<matplotlib.figure.Figure at 0x7f2a699c4780>"
      ]
     },
     "metadata": {},
     "output_type": "display_data"
    }
   ],
   "source": [
    "# Plotting third feature\n",
    "plot_histogram(azdias_below_thres_wo_missing_val, azdias_above_thres_wo_missing_val, col_wo_missing_val[2])"
   ]
  },
  {
   "cell_type": "code",
   "execution_count": 17,
   "metadata": {
    "scrolled": true
   },
   "outputs": [
    {
     "data": {
      "image/png": "[encoded data removed]",
      "text/plain": [
       "<matplotlib.figure.Figure at 0x7f2a69904940>"
      ]
     },
     "metadata": {},
     "output_type": "display_data"
    }
   ],
   "source": [
    "# Plotting fourth feature\n",
    "plot_histogram(azdias_below_thres_wo_missing_val, azdias_above_thres_wo_missing_val, col_wo_missing_val[3])"
   ]
  },
  {
   "cell_type": "code",
   "execution_count": 18,
   "metadata": {
    "scrolled": true
   },
   "outputs": [
    {
     "data": {
      "image/png": "[encoded data removed]",
      "text/plain": [
       "<matplotlib.figure.Figure at 0x7f2a69806668>"
      ]
     },
     "metadata": {},
     "output_type": "display_data"
    }
   ],
   "source": [
    "# Plotting fifth feature\n",
    "plot_histogram(azdias_below_thres_wo_missing_val, azdias_above_thres_wo_missing_val, col_wo_missing_val[4])"
   ]
  },
  {
   "cell_type": "code",
   "execution_count": 19,
   "metadata": {
    "scrolled": true
   },
   "outputs": [
    {
     "data": {
      "image/png": "[encoded data removed]",
      "text/plain": [
       "<matplotlib.figure.Figure at 0x7f2a69767400>"
      ]
     },
     "metadata": {},
     "output_type": "display_data"
    }
   ],
   "source": [
    "# Plotting sixth feature\n",
    "plot_histogram(azdias_below_thres_wo_missing_val, azdias_above_thres_wo_missing_val, col_wo_missing_val[5])"
   ]
  },
  {
   "cell_type": "code",
   "execution_count": 20,
   "metadata": {},
   "outputs": [
    {
     "data": {
      "image/png": "[encoded data removed]",
      "text/plain": [
       "<matplotlib.figure.Figure at 0x7f2a6968ac18>"
      ]
     },
     "metadata": {},
     "output_type": "display_data"
    }
   ],
   "source": [
    "# Plotting seventh feature\n",
    "plot_histogram(azdias_below_thres_wo_missing_val, azdias_above_thres_wo_missing_val, col_wo_missing_val[6])"
   ]
  },
  {
   "cell_type": "code",
   "execution_count": 21,
   "metadata": {},
   "outputs": [
    {
     "data": {
      "image/png": "[encoded data removed]",
      "text/plain": [
       "<matplotlib.figure.Figure at 0x7f2a695ec160>"
      ]
     },
     "metadata": {},
     "output_type": "display_data"
    }
   ],
   "source": [
    "# Plotting eight feature\n",
    "plot_histogram(azdias_below_thres_wo_missing_val, azdias_above_thres_wo_missing_val, col_wo_missing_val[7])"
   ]
  },
  {
   "cell_type": "code",
   "execution_count": 22,
   "metadata": {},
   "outputs": [
    {
     "data": {
      "image/png": "[encoded data removed]",
      "text/plain": [
       "<matplotlib.figure.Figure at 0x7f2a694a0438>"
      ]
     },
     "metadata": {},
     "output_type": "display_data"
    }
   ],
   "source": [
    "# Plotting ninth feature\n",
    "plot_histogram(azdias_below_thres_wo_missing_val, azdias_above_thres_wo_missing_val, col_wo_missing_val[8])"
   ]
  },
  {
   "cell_type": "code",
   "execution_count": 23,
   "metadata": {
    "scrolled": true
   },
   "outputs": [
    {
     "data": {
      "image/png": "[encoded data removed]",
      "text/plain": [
       "<matplotlib.figure.Figure at 0x7f2a69477ba8>"
      ]
     },
     "metadata": {},
     "output_type": "display_data"
    }
   ],
   "source": [
    "# Plotting tenth feature\n",
    "plot_histogram(azdias_below_thres_wo_missing_val, azdias_above_thres_wo_missing_val, col_wo_missing_val[9])"
   ]
  },
  {
   "cell_type": "code",
   "execution_count": 24,
   "metadata": {},
   "outputs": [
    {
     "data": {
      "image/png": "[encoded data removed]",
      "text/plain": [
       "<matplotlib.figure.Figure at 0x7f2a695946a0>"
      ]
     },
     "metadata": {},
     "output_type": "display_data"
    }
   ],
   "source": [
    "# Plotting tenth feature\n",
    "plot_histogram(azdias_below_thres_wo_missing_val, azdias_above_thres_wo_missing_val, col_wo_missing_val[-1])"
   ]
  },
  {
   "cell_type": "code",
   "execution_count": 25,
   "metadata": {
    "scrolled": true
   },
   "outputs": [
    {
     "name": "stdout",
     "output_type": "stream",
     "text": [
      "   ALTERSKATEGORIE_GROB  ANREDE_KZ  CJT_GESAMTTYP  FINANZ_MINIMALIST  \\\n",
      "1                   1.0          2            5.0                  1   \n",
      "2                   3.0          2            3.0                  1   \n",
      "3                   4.0          2            2.0                  4   \n",
      "4                   3.0          1            5.0                  4   \n",
      "5                   1.0          2            2.0                  3   \n",
      "\n",
      "   FINANZ_SPARER  FINANZ_VORSORGER  FINANZ_ANLEGER  FINANZ_UNAUFFAELLIGER  \\\n",
      "1              5                 2               5                      4   \n",
      "2              4                 1               2                      3   \n",
      "3              2                 5               2                      1   \n",
      "4              3                 4               1                      3   \n",
      "5              1                 5               2                      2   \n",
      "\n",
      "   FINANZ_HAUSBAUER  FINANZTYP    ...     PLZ8_ANTG1  PLZ8_ANTG2  PLZ8_ANTG3  \\\n",
      "1                 5          1    ...            2.0         3.0         2.0   \n",
      "2                 5          1    ...            3.0         3.0         1.0   \n",
      "3                 2          6    ...            2.0         2.0         2.0   \n",
      "4                 2          5    ...            2.0         4.0         2.0   \n",
      "5                 5          2    ...            2.0         3.0         1.0   \n",
      "\n",
      "   PLZ8_ANTG4  PLZ8_BAUMAX  PLZ8_HHZ  PLZ8_GBZ  ARBEIT  ORTSGR_KLS9  RELAT_AB  \n",
      "1         1.0          1.0       5.0       4.0     3.0          5.0       4.0  \n",
      "2         0.0          1.0       4.0       4.0     3.0          5.0       2.0  \n",
      "3         0.0          1.0       3.0       4.0     2.0          3.0       3.0  \n",
      "4         1.0          2.0       3.0       3.0     4.0          6.0       5.0  \n",
      "5         1.0          1.0       5.0       5.0     2.0          3.0       3.0  \n",
      "\n",
      "[5 rows x 79 columns]\n"
     ]
    }
   ],
   "source": [
    "# Final dataset comprised of rows containing fewer missing values per row than the selected threshold\n",
    "# Drop NaN_val column after all is done\n",
    "azdias_cleaned = azdias_cleaned_below_thres.drop('NaN_val',axis=1)\n",
    "print(azdias_cleaned.head())"
   ]
  },
  {
   "cell_type": "markdown",
   "metadata": {},
   "source": [
    "#### Discussion 1.1.3: Assess Missing Data in Each Row\n",
    "\n",
    "(Double-click this cell and replace this text with your own text, reporting your observations regarding missing data in rows. Are the data with lots of missing values are qualitatively different from data with few or no missing values?)"
   ]
  },
  {
   "cell_type": "markdown",
   "metadata": {},
   "source": [
    "### Step 1.2: Select and Re-Encode Features\n",
    "\n",
    "Checking for missing data isn't the only way in which you can prepare a dataset for analysis. Since the unsupervised learning techniques to be used will only work on data that is encoded numerically, you need to make a few encoding changes or additional assumptions to be able to make progress. In addition, while almost all of the values in the dataset are encoded using numbers, not all of them represent numeric values. Check the third column of the feature summary (`feat_info`) for a summary of types of measurement.\n",
    "- For numeric and interval data, these features can be kept without changes.\n",
    "- Most of the variables in the dataset are ordinal in nature. While ordinal values may technically be non-linear in spacing, make the simplifying assumption that the ordinal variables can be treated as being interval in nature (that is, kept without any changes).\n",
    "- Special handling may be necessary for the remaining two variable types: categorical, and 'mixed'.\n",
    "\n",
    "In the first two parts of this sub-step, you will perform an investigation of the categorical and mixed-type features and make a decision on each of them, whether you will keep, drop, or re-encode each. Then, in the last part, you will create a new data frame with only the selected and engineered columns.\n",
    "\n",
    "Data wrangling is often the trickiest part of the data analysis process, and there's a lot of it to be done here. But stick with it: once you're done with this step, you'll be ready to get to the machine learning parts of the project!"
   ]
  },
  {
   "cell_type": "code",
   "execution_count": 26,
   "metadata": {},
   "outputs": [
    {
     "name": "stdout",
     "output_type": "stream",
     "text": [
      "Number of oridnal variables: 49\n",
      "Number of categorical variables: 18\n",
      "Number of numeric variables: 6\n",
      "Number of mixed variables: 6\n"
     ]
    }
   ],
   "source": [
    "# How many features are there of each data type?\n",
    "\n",
    "# Finding all available features in cleaned and reduced dataset\n",
    "cleaned_features = azdias_cleaned.columns.values\n",
    "#print(cleaned_features)\n",
    "feat_info_cleaned = feat_info[feat_info['attribute'].isin(cleaned_features)]\n",
    "#print(feat_info_cleaned.head())\n",
    "\n",
    "type_counts = feat_info_cleaned['type'].value_counts()\n",
    "#print(type_counts)\n",
    "print(\"Number of oridnal variables: \"+str(type_counts['ordinal']))\n",
    "print(\"Number of categorical variables: \"+str(type_counts['categorical']))\n",
    "print(\"Number of numeric variables: \"+str(type_counts['numeric']))\n",
    "print(\"Number of mixed variables: \"+str(type_counts['mixed']))"
   ]
  },
  {
   "cell_type": "markdown",
   "metadata": {},
   "source": [
    "#### Step 1.2.1: Re-Encode Categorical Features\n",
    "\n",
    "For categorical data, you would ordinarily need to encode the levels as dummy variables. Depending on the number of categories, perform one of the following:\n",
    "- For binary (two-level) categoricals that take numeric values, you can keep them without needing to do anything.\n",
    "- There is one binary variable that takes on non-numeric values. For this one, you need to re-encode the values as numbers or create a dummy variable.\n",
    "- For multi-level categoricals (three or more values), you can choose to encode the values using multiple dummy variables (e.g. via [OneHotEncoder](http://scikit-learn.org/stable/modules/generated/sklearn.preprocessing.OneHotEncoder.html)), or (to keep things straightforward) just drop them from the analysis. As always, document your choices in the Discussion section."
   ]
  },
  {
   "cell_type": "code",
   "execution_count": 27,
   "metadata": {
    "scrolled": true
   },
   "outputs": [
    {
     "name": "stdout",
     "output_type": "stream",
     "text": [
      "2            ANREDE_KZ\n",
      "3        CJT_GESAMTTYP\n",
      "10           FINANZTYP\n",
      "12     GFK_URLAUBERTYP\n",
      "13    GREEN_AVANTGARDE\n",
      "Name: attribute, dtype: object\n"
     ]
    }
   ],
   "source": [
    "# Assess categorical variables: which are binary, which are multi-level, and\n",
    "# which one needs to be re-encoded?\n",
    "\n",
    "categorical_variables = feat_info_cleaned[feat_info_cleaned['type'] == 'categorical']['attribute']\n",
    "print(categorical_variables.head())      "
   ]
  },
  {
   "cell_type": "code",
   "execution_count": 28,
   "metadata": {
    "scrolled": true
   },
   "outputs": [
    {
     "name": "stdout",
     "output_type": "stream",
     "text": [
      "['CJT_GESAMTTYP', 'FINANZTYP', 'GFK_URLAUBERTYP', 'LP_FAMILIE_FEIN', 'LP_FAMILIE_GROB', 'LP_STATUS_FEIN', 'LP_STATUS_GROB', 'NATIONALITAET_KZ', 'SHOPPER_TYP', 'ZABEOTYP', 'GEBAEUDETYP', 'CAMEO_DEUG_2015', 'CAMEO_DEU_2015']\n",
      "['ANREDE_KZ', 'VERS_TYP']\n",
      "['OST_WEST_KZ']\n"
     ]
    }
   ],
   "source": [
    "def classify_categorical(df, cat_var):\n",
    "    \"\"\" Identify multi-level categorical variables, binary variables that are not 0 and 1,\n",
    "    and non-numeric binary variables.\n",
    "    \"\"\"\n",
    "    multi_cat = []\n",
    "    bin_cat_not_0_and_1 = []\n",
    "    bin_cat_non_num = []\n",
    "    for cat_feature in cat_var:\n",
    "        if len(df[cat_feature].value_counts()) > 2:\n",
    "            multi_cat.append(cat_feature)\n",
    "        elif len(df[cat_feature].value_counts()) == 2:\n",
    "            if isinstance(df[cat_feature].value_counts().index.sort_values()[0],str):\n",
    "                bin_cat_non_num.append(cat_feature)\n",
    "            # Check if values equal 0 and 1\n",
    "            elif (df[cat_feature].value_counts().index.sort_values()[0] != 0):\n",
    "                bin_cat_not_0_and_1.append(cat_feature)\n",
    "    return multi_cat, bin_cat_not_0_and_1, bin_cat_non_num\n",
    "\n",
    "multi_cat, bin_cat_not_0_and_1, bin_cat_non_num = classify_categorical(azdias_cleaned, categorical_variables)\n",
    "print(multi_cat)\n",
    "print(bin_cat_not_0_and_1)\n",
    "print(bin_cat_non_num)"
   ]
  },
  {
   "cell_type": "code",
   "execution_count": 29,
   "metadata": {},
   "outputs": [
    {
     "data": {
      "text/plain": [
       "W    629332\n",
       "O    168505\n",
       "Name: OST_WEST_KZ, dtype: int64"
      ]
     },
     "execution_count": 29,
     "metadata": {},
     "output_type": "execute_result"
    }
   ],
   "source": [
    "# Explore 'OST_WEST_KZ'\n",
    "azdias_cleaned['OST_WEST_KZ'].value_counts(dropna=False)"
   ]
  },
  {
   "cell_type": "code",
   "execution_count": 59,
   "metadata": {
    "scrolled": true
   },
   "outputs": [
    {
     "name": "stdout",
     "output_type": "stream",
     "text": [
      "['ALTERSKATEGORIE_GROB' 'FINANZ_MINIMALIST' 'FINANZ_SPARER'\n",
      " 'FINANZ_VORSORGER' 'FINANZ_ANLEGER' 'FINANZ_UNAUFFAELLIGER'\n",
      " 'FINANZ_HAUSBAUER' 'GREEN_AVANTGARDE' 'HEALTH_TYP' 'LP_LEBENSPHASE_FEIN'\n",
      " 'LP_LEBENSPHASE_GROB' 'PRAEGENDE_JUGENDJAHRE' 'RETOURTYP_BK_S' 'SEMIO_SOZ'\n",
      " 'SEMIO_FAM' 'SEMIO_REL' 'SEMIO_MAT' 'SEMIO_VERT' 'SEMIO_LUST' 'SEMIO_ERL'\n",
      " 'SEMIO_KULT' 'SEMIO_RAT' 'SEMIO_KRIT' 'SEMIO_DOM' 'SEMIO_KAEM'\n",
      " 'SEMIO_PFLICHT' 'SEMIO_TRADV' 'SOHO_KZ' 'ANZ_PERSONEN' 'ANZ_TITEL'\n",
      " 'HH_EINKOMMEN_SCORE' 'W_KEIT_KIND_HH' 'WOHNDAUER_2008'\n",
      " 'ANZ_HAUSHALTE_AKTIV' 'ANZ_HH_TITEL' 'KONSUMNAEHE' 'MIN_GEBAEUDEJAHR'\n",
      " 'WOHNLAGE' 'CAMEO_INTL_2015' 'KBA05_ANTG1' 'KBA05_ANTG2' 'KBA05_ANTG3'\n",
      " 'KBA05_ANTG4' 'KBA05_GBZ' 'BALLRAUM' 'EWDICHTE' 'INNENSTADT'\n",
      " 'GEBAEUDETYP_RASTER' 'KKK' 'MOBI_REGIO' 'ONLINE_AFFINITAET' 'REGIOTYP'\n",
      " 'KBA13_ANZAHL_PKW' 'PLZ8_ANTG1' 'PLZ8_ANTG2' 'PLZ8_ANTG3' 'PLZ8_ANTG4'\n",
      " 'PLZ8_BAUMAX' 'PLZ8_HHZ' 'PLZ8_GBZ' 'ARBEIT' 'ORTSGR_KLS9' 'RELAT_AB'\n",
      " 'CJT_GESAMTTYP_1.0' 'CJT_GESAMTTYP_2.0' 'CJT_GESAMTTYP_3.0'\n",
      " 'CJT_GESAMTTYP_4.0' 'CJT_GESAMTTYP_5.0' 'CJT_GESAMTTYP_6.0' 'FINANZTYP_1'\n",
      " 'FINANZTYP_2' 'FINANZTYP_3' 'FINANZTYP_4' 'FINANZTYP_5' 'FINANZTYP_6'\n",
      " 'GFK_URLAUBERTYP_1.0' 'GFK_URLAUBERTYP_2.0' 'GFK_URLAUBERTYP_3.0'\n",
      " 'GFK_URLAUBERTYP_4.0' 'GFK_URLAUBERTYP_5.0' 'GFK_URLAUBERTYP_6.0'\n",
      " 'GFK_URLAUBERTYP_7.0' 'GFK_URLAUBERTYP_8.0' 'GFK_URLAUBERTYP_9.0'\n",
      " 'GFK_URLAUBERTYP_10.0' 'GFK_URLAUBERTYP_11.0' 'GFK_URLAUBERTYP_12.0'\n",
      " 'LP_FAMILIE_FEIN_1.0' 'LP_FAMILIE_FEIN_2.0' 'LP_FAMILIE_FEIN_3.0'\n",
      " 'LP_FAMILIE_FEIN_4.0' 'LP_FAMILIE_FEIN_5.0' 'LP_FAMILIE_FEIN_6.0'\n",
      " 'LP_FAMILIE_FEIN_7.0' 'LP_FAMILIE_FEIN_8.0' 'LP_FAMILIE_FEIN_9.0'\n",
      " 'LP_FAMILIE_FEIN_10.0' 'LP_FAMILIE_FEIN_11.0' 'LP_FAMILIE_GROB_1.0'\n",
      " 'LP_FAMILIE_GROB_2.0' 'LP_FAMILIE_GROB_3.0' 'LP_FAMILIE_GROB_4.0'\n",
      " 'LP_FAMILIE_GROB_5.0' 'LP_STATUS_FEIN_1.0' 'LP_STATUS_FEIN_2.0'\n",
      " 'LP_STATUS_FEIN_3.0' 'LP_STATUS_FEIN_4.0' 'LP_STATUS_FEIN_5.0'\n",
      " 'LP_STATUS_FEIN_6.0' 'LP_STATUS_FEIN_7.0' 'LP_STATUS_FEIN_8.0'\n",
      " 'LP_STATUS_FEIN_9.0' 'LP_STATUS_FEIN_10.0' 'LP_STATUS_GROB_1.0'\n",
      " 'LP_STATUS_GROB_2.0' 'LP_STATUS_GROB_3.0' 'LP_STATUS_GROB_4.0'\n",
      " 'LP_STATUS_GROB_5.0' 'NATIONALITAET_KZ_1.0' 'NATIONALITAET_KZ_2.0'\n",
      " 'NATIONALITAET_KZ_3.0' 'SHOPPER_TYP_0.0' 'SHOPPER_TYP_1.0'\n",
      " 'SHOPPER_TYP_2.0' 'SHOPPER_TYP_3.0' 'ZABEOTYP_1' 'ZABEOTYP_2' 'ZABEOTYP_3'\n",
      " 'ZABEOTYP_4' 'ZABEOTYP_5' 'ZABEOTYP_6' 'GEBAEUDETYP_1.0' 'GEBAEUDETYP_2.0'\n",
      " 'GEBAEUDETYP_3.0' 'GEBAEUDETYP_4.0' 'GEBAEUDETYP_5.0' 'GEBAEUDETYP_6.0'\n",
      " 'GEBAEUDETYP_8.0' 'CAMEO_DEUG_2015_1' 'CAMEO_DEUG_2015_2'\n",
      " 'CAMEO_DEUG_2015_3' 'CAMEO_DEUG_2015_4' 'CAMEO_DEUG_2015_5'\n",
      " 'CAMEO_DEUG_2015_6' 'CAMEO_DEUG_2015_7' 'CAMEO_DEUG_2015_8'\n",
      " 'CAMEO_DEUG_2015_9' 'CAMEO_DEU_2015_1A' 'CAMEO_DEU_2015_1B'\n",
      " 'CAMEO_DEU_2015_1C' 'CAMEO_DEU_2015_1D' 'CAMEO_DEU_2015_1E'\n",
      " 'CAMEO_DEU_2015_2A' 'CAMEO_DEU_2015_2B' 'CAMEO_DEU_2015_2C'\n",
      " 'CAMEO_DEU_2015_2D' 'CAMEO_DEU_2015_3A' 'CAMEO_DEU_2015_3B'\n",
      " 'CAMEO_DEU_2015_3C' 'CAMEO_DEU_2015_3D' 'CAMEO_DEU_2015_4A'\n",
      " 'CAMEO_DEU_2015_4B' 'CAMEO_DEU_2015_4C' 'CAMEO_DEU_2015_4D'\n",
      " 'CAMEO_DEU_2015_4E' 'CAMEO_DEU_2015_5A' 'CAMEO_DEU_2015_5B'\n",
      " 'CAMEO_DEU_2015_5C' 'CAMEO_DEU_2015_5D' 'CAMEO_DEU_2015_5E'\n",
      " 'CAMEO_DEU_2015_5F' 'CAMEO_DEU_2015_6A' 'CAMEO_DEU_2015_6B'\n",
      " 'CAMEO_DEU_2015_6C' 'CAMEO_DEU_2015_6D' 'CAMEO_DEU_2015_6E'\n",
      " 'CAMEO_DEU_2015_6F' 'CAMEO_DEU_2015_7A' 'CAMEO_DEU_2015_7B'\n",
      " 'CAMEO_DEU_2015_7C' 'CAMEO_DEU_2015_7D' 'CAMEO_DEU_2015_7E'\n",
      " 'CAMEO_DEU_2015_8A' 'CAMEO_DEU_2015_8B' 'CAMEO_DEU_2015_8C'\n",
      " 'CAMEO_DEU_2015_8D' 'CAMEO_DEU_2015_9A' 'CAMEO_DEU_2015_9B'\n",
      " 'CAMEO_DEU_2015_9C' 'CAMEO_DEU_2015_9D' 'CAMEO_DEU_2015_9E' 'ANREDE_KZ_1'\n",
      " 'ANREDE_KZ_2' 'VERS_TYP_1.0' 'VERS_TYP_2.0' 'OST_WEST_KZ_O'\n",
      " 'OST_WEST_KZ_W']\n"
     ]
    }
   ],
   "source": [
    "# Re-encode categorical variable(s) to be kept in the analysis.\n",
    "\n",
    "all_var_to_be_encoded = multi_cat+bin_cat_not_0_and_1+bin_cat_non_num\n",
    "azdias_cleaned_dummies = pd.get_dummies(data=azdias_cleaned, columns=all_var_to_be_encoded, prefix=all_var_to_be_encoded)\n",
    "print(azdias_cleaned_dummies.columns.values)"
   ]
  },
  {
   "cell_type": "markdown",
   "metadata": {},
   "source": [
    "#### Discussion 1.2.1: Re-Encode Categorical Features\n",
    "\n",
    "(Double-click this cell and replace this text with your own text, reporting your findings and decisions regarding categorical features. Which ones did you keep, which did you drop, and what engineering steps did you perform?)"
   ]
  },
  {
   "cell_type": "markdown",
   "metadata": {},
   "source": [
    "#### Step 1.2.2: Engineer Mixed-Type Features\n",
    "\n",
    "There are a handful of features that are marked as \"mixed\" in the feature summary that require special treatment in order to be included in the analysis. There are two in particular that deserve attention; the handling of the rest are up to your own choices:\n",
    "- \"PRAEGENDE_JUGENDJAHRE\" combines information on three dimensions: generation by decade, movement (mainstream vs. avantgarde), and nation (east vs. west). While there aren't enough levels to disentangle east from west, you should create two new variables to capture the other two dimensions: an interval-type variable for decade, and a binary variable for movement.\n",
    "- \"CAMEO_INTL_2015\" combines information on two axes: wealth and life stage. Break up the two-digit codes by their 'tens'-place and 'ones'-place digits into two new ordinal variables (which, for the purposes of this project, is equivalent to just treating them as their raw numeric values).\n",
    "- If you decide to keep or engineer new features around the other mixed-type features, make sure you note your steps in the Discussion section.\n",
    "\n",
    "Be sure to check `Data_Dictionary.md` for the details needed to finish these tasks."
   ]
  },
  {
   "cell_type": "code",
   "execution_count": 60,
   "metadata": {
    "scrolled": true
   },
   "outputs": [
    {
     "name": "stdout",
     "output_type": "stream",
     "text": [
      "15      LP_LEBENSPHASE_FEIN\n",
      "16      LP_LEBENSPHASE_GROB\n",
      "22    PRAEGENDE_JUGENDJAHRE\n",
      "56                 WOHNLAGE\n",
      "59          CAMEO_INTL_2015\n",
      "79              PLZ8_BAUMAX\n",
      "Name: attribute, dtype: object\n"
     ]
    }
   ],
   "source": [
    "# Find all mixture variables\n",
    "mixed_variables = feat_info_cleaned[feat_info_cleaned['type'] == 'mixed']['attribute']\n",
    "print(mixed_variables)"
   ]
  },
  {
   "cell_type": "code",
   "execution_count": 61,
   "metadata": {
    "scrolled": true
   },
   "outputs": [
    {
     "data": {
      "text/plain": [
       "14.0    182951\n",
       "8.0     141590\n",
       "10.0     85790\n",
       "5.0      84679\n",
       "3.0      53838\n",
       "15.0     42533\n",
       "11.0     35744\n",
       "9.0      33568\n",
       "6.0      25652\n",
       "12.0     24445\n",
       "1.0      20674\n",
       "4.0      20450\n",
       "2.0       7479\n",
       "13.0      5762\n",
       "7.0       4009\n",
       "Name: PRAEGENDE_JUGENDJAHRE, dtype: int64"
      ]
     },
     "execution_count": 61,
     "metadata": {},
     "output_type": "execute_result"
    }
   ],
   "source": [
    "azdias_cleaned_dummies['PRAEGENDE_JUGENDJAHRE'].value_counts(dropna=False)\n",
    "#azdias_cleaned_dummies_eng.isnull().sum()"
   ]
  },
  {
   "cell_type": "code",
   "execution_count": 62,
   "metadata": {},
   "outputs": [
    {
     "name": "stdout",
     "output_type": "stream",
     "text": [
      "1.0    593967\n",
      "0.0    132664\n",
      "Name: PRAEGENDE_JUGENDJAHRE_MOVEMENT, dtype: int64\n",
      "5.0    225484\n",
      "3.0    175158\n",
      "4.0    151741\n",
      "2.0    114340\n",
      "1.0     74288\n",
      "0.0     28153\n",
      "Name: PRAEGENDE_JUGENDJAHRE_DECADE, dtype: int64\n"
     ]
    }
   ],
   "source": [
    "# Investigate \"PRAEGENDE_JUGENDJAHRE\" and engineer two new variables.\n",
    "\n",
    "def process_praegende_jugendjahre(df):\n",
    "    \"\"\"\n",
    "    NEW FEATURES:\n",
    "        PRAEGENDE_JUGENDJAHRE_MOVEMENT: 0 for AVANTGARDE, 1 for MAINSTREAM\n",
    "        PRAEGENDE_JUGENDJAHRE_DECADE: 0 for 1940s, 1 for 1950s, 2 for 1960s, 3 for 1970s, 4 for 1980s, 5 for 1990s \n",
    "    \"\"\"\n",
    "    mainstream = [1,3,5,8,10,12,14]\n",
    "    avantgarde = [2,4,6,7,9,11,13]\n",
    "    decade = {1:0,2:0,3:1,4:1,5:2,6:2,7:2,8:3,9:3,10:4,11:4,12:4,13:4,14:5,15:5}\n",
    "    PRAEGENDE_JUGENDJAHRE_MOVEMENT = []\n",
    "    PRAEGENDE_JUGENDJAHRE_DECADE = []\n",
    "    for value in df[\"PRAEGENDE_JUGENDJAHRE\"]:\n",
    "        if value in mainstream: # Movement is mainstream\n",
    "            PRAEGENDE_JUGENDJAHRE_MOVEMENT.append(1) # 1 for mainstream\n",
    "        elif value in avantgarde: # Movement is avantgarde\n",
    "            PRAEGENDE_JUGENDJAHRE_MOVEMENT.append(0) # 0 for avantgarde\n",
    "        else: # value is NaN\n",
    "            PRAEGENDE_JUGENDJAHRE_MOVEMENT.append(np.nan)\n",
    "        if value in decade.keys():\n",
    "            PRAEGENDE_JUGENDJAHRE_DECADE.append(decade[value])\n",
    "        else:\n",
    "            PRAEGENDE_JUGENDJAHRE_DECADE.append(np.nan)\n",
    "    df[\"PRAEGENDE_JUGENDJAHRE_MOVEMENT\"] = PRAEGENDE_JUGENDJAHRE_MOVEMENT\n",
    "    df[\"PRAEGENDE_JUGENDJAHRE_DECADE\"] = PRAEGENDE_JUGENDJAHRE_DECADE\n",
    "    df.drop(\"PRAEGENDE_JUGENDJAHRE\", axis=1,inplace=True)\n",
    "    return df\n",
    "\n",
    "azdias_cleaned_dummies_eng = process_praegende_jugendjahre(azdias_cleaned_dummies)\n",
    "print(azdias_cleaned_dummies_eng[\"PRAEGENDE_JUGENDJAHRE_MOVEMENT\"].value_counts())\n",
    "print(azdias_cleaned_dummies_eng[\"PRAEGENDE_JUGENDJAHRE_DECADE\"].value_counts())\n",
    "#print(azdias_cleaned_dummies_eng.columns.values)"
   ]
  },
  {
   "cell_type": "code",
   "execution_count": null,
   "metadata": {},
   "outputs": [],
   "source": [
    "azdias_cleaned_dummies['CAMEO_INTL_2015'].value_counts(dropna=False)"
   ]
  },
  {
   "cell_type": "code",
   "execution_count": 63,
   "metadata": {},
   "outputs": [
    {
     "name": "stdout",
     "output_type": "stream",
     "text": [
      "5.0    223574\n",
      "2.0    190638\n",
      "4.0    189957\n",
      "1.0    119425\n",
      "3.0     68174\n",
      "Name: CAMEO_INTL_2015_WEALTH, dtype: int64\n",
      "1.0    245036\n",
      "4.0    232752\n",
      "3.0    119661\n",
      "5.0    117033\n",
      "2.0     77286\n",
      "Name: CAMEO_INTL_2015_LIFE_STAGE, dtype: int64\n"
     ]
    }
   ],
   "source": [
    "# Investigate \"CAMEO_INTL_2015\" and engineer two new variables.\n",
    "\n",
    "def process_cameo_intl_2015(df):\n",
    "    \"\"\"\n",
    "    NEW FEATURES:\n",
    "        CAMEO_INTL_2015_WEALTH: 1 for WEALTHY, 2 for PROSPEROUS, 3 for COMFORTABLE, 4 for LESS AFFLUENT\n",
    "        CAMEO_INTL_2015_LIFE_STAGE: 1 for Pre-Family Couples & Singles, 2 for Young Couples With Children,\n",
    "                                    3 for Families With School Age Children, 4 for Older Families &  Mature Couples\n",
    "                                    5 for Elders In Retirement\n",
    "    \"\"\"\n",
    "    wealth = []\n",
    "    life_stage = []\n",
    "    for value in df['CAMEO_INTL_2015']:\n",
    "        if len(str(value)) == 2:\n",
    "            wealth.append(int(str(value[0])))\n",
    "            life_stage.append(int(str(value[1])))\n",
    "        else:\n",
    "            # value is NaN\n",
    "            wealth.append(np.nan)\n",
    "            life_stage.append(np.nan)\n",
    "    df['CAMEO_INTL_2015_WEALTH'] = wealth\n",
    "    df['CAMEO_INTL_2015_LIFE_STAGE'] = life_stage\n",
    "    df.drop('CAMEO_INTL_2015', axis=1, inplace=True)\n",
    "    return df\n",
    "\n",
    "azdias_cleaned_dummies_eng = process_cameo_intl_2015(azdias_cleaned_dummies_eng)\n",
    "print(azdias_cleaned_dummies_eng[\"CAMEO_INTL_2015_WEALTH\"].value_counts())\n",
    "print(azdias_cleaned_dummies_eng[\"CAMEO_INTL_2015_LIFE_STAGE\"].value_counts())"
   ]
  },
  {
   "cell_type": "code",
   "execution_count": 64,
   "metadata": {
    "scrolled": false
   },
   "outputs": [
    {
     "name": "stdout",
     "output_type": "stream",
     "text": [
      "1.0    499549\n",
      "5.0     97333\n",
      "2.0     70407\n",
      "4.0     56684\n",
      "3.0     50732\n",
      "Name: PLZ8_BAUMAX, dtype: int64\n"
     ]
    }
   ],
   "source": [
    "print(azdias_cleaned_dummies_eng[\"PLZ8_BAUMAX\"].value_counts(dropna=False))"
   ]
  },
  {
   "cell_type": "code",
   "execution_count": 70,
   "metadata": {
    "scrolled": true
   },
   "outputs": [
    {
     "name": "stdout",
     "output_type": "stream",
     "text": [
      "1.0    499549\n",
      "0.0     97333\n",
      "2.0     70407\n",
      "4.0     56684\n",
      "3.0     50732\n",
      "Name: PLZ8_BAUMAX_RES, dtype: int64\n",
      "0    700504\n",
      "1     97333\n",
      "Name: PLZ8_BAUMAX_COMM, dtype: int64\n"
     ]
    }
   ],
   "source": [
    "# Investigate \"PLZ8_BAUMAX\" and engineer two new variables.\n",
    "\n",
    "def process_plz8_baumax(df):\n",
    "    \"\"\"\n",
    "    NEW FEATURES:\n",
    "        PLZ8_BAUMAX_RES: 1 for mainly 1-2 family homes, 2 for mainly 3-5 family homes, 3 for mainly 6-10 family homes, \n",
    "                        4 for mainly 10+ family homes\n",
    "        PLZ8_BAUMAX_COMM: 0 for mainly family homes, 1 for mainly business buidlings\n",
    "    \"\"\"\n",
    "    residential = []\n",
    "    commercial = []\n",
    "    for value in df[\"PLZ8_BAUMAX\"]:\n",
    "        if isinstance(value, float) and value != 5.0:\n",
    "            residential.append(value)\n",
    "            commercial.append(0)\n",
    "        elif isinstance(value, float) and value == 5.0:\n",
    "            residential.append(0)\n",
    "            commercial.append(1)\n",
    "        else:\n",
    "            # value is NaN\n",
    "            residential.append(np.nan)\n",
    "            commercial.append(np.nan)\n",
    "    df['PLZ8_BAUMAX_RES'] = residential\n",
    "    df['PLZ8_BAUMAX_COMM'] = commercial\n",
    "    df.drop('PLZ8_BAUMAX', axis=1, inplace=True)\n",
    "    return df\n",
    "\n",
    "azdias_cleaned_dummies_eng = process_plz8_baumax(azdias_cleaned_dummies_eng)\n",
    "print(azdias_cleaned_dummies_eng[\"PLZ8_BAUMAX_RES\"].value_counts())\n",
    "print(azdias_cleaned_dummies_eng[\"PLZ8_BAUMAX_COMM\"].value_counts())"
   ]
  },
  {
   "cell_type": "code",
   "execution_count": 71,
   "metadata": {
    "scrolled": true
   },
   "outputs": [
    {
     "name": "stdout",
     "output_type": "stream",
     "text": [
      "3.0    249672\n",
      "7.0    169299\n",
      "4.0    135954\n",
      "2.0    100359\n",
      "5.0     74333\n",
      "1.0     43910\n",
      "8.0     17448\n",
      "0.0      6862\n",
      "Name: WOHNLAGE, dtype: int64\n"
     ]
    }
   ],
   "source": [
    "print(azdias_cleaned_dummies_eng[\"WOHNLAGE\"].value_counts(dropna=False))"
   ]
  },
  {
   "cell_type": "code",
   "execution_count": 74,
   "metadata": {
    "scrolled": true
   },
   "outputs": [
    {
     "name": "stdout",
     "output_type": "stream",
     "text": [
      "3.0    249672\n",
      "0.0    186747\n",
      "4.0    135954\n",
      "2.0    100359\n",
      "5.0     74333\n",
      "1.0     43910\n",
      "Name: WOHNLAGE_URBAN, dtype: int64\n",
      "0.0    604228\n",
      "1.0    169299\n",
      "2.0     17448\n",
      "Name: WOHNLAGE_RURAL, dtype: int64\n"
     ]
    }
   ],
   "source": [
    "def process_wohnlage(df):\n",
    "    \"\"\"\n",
    "    NEW FEATURES:\n",
    "        WOHNLAGE_URBAN: 0 for rural area, 1 for very good neighborhood, 2 for good neighborhood, 3 for average neighborhood\n",
    "                        4 for poor neighborhood and 5 for very poor neighborhood\n",
    "        WOHNLAGE_RURAL: 0 for urban area, 1 for rural neighbourhood, 2 for new building in rural neighbourhood\n",
    "    \"\"\"\n",
    "    urban = []\n",
    "    rural = []\n",
    "    for value in df[\"WOHNLAGE\"]:\n",
    "        if isinstance(value, float) and value == 0:\n",
    "            # No score provided\n",
    "            urban.append(np.nan)\n",
    "            rural.append(np.nan)\n",
    "        elif isinstance(value, float) and value < 7:\n",
    "            # Urban neighbourhood\n",
    "            urban.append(value)\n",
    "            rural.append(0)\n",
    "        elif isinstance(value, float) and value == 7:\n",
    "            # Rural neighbourhood\n",
    "            urban.append(0)\n",
    "            rural.append(1)\n",
    "        elif isinstance(value, float) and value == 8:\n",
    "            # New buidlings in rural neighbourhood\n",
    "            urban.append(0)\n",
    "            rural.append(2)\n",
    "        else:\n",
    "            # value is NaN\n",
    "            urban.append(np.nan)\n",
    "            rural.append(np.nan)\n",
    "    df[\"WOHNLAGE_URBAN\"] = urban\n",
    "    df[\"WOHNLAGE_RURAL\"] = rural\n",
    "    df.drop('WOHNLAGE', axis=1, inplace=True)\n",
    "    return df\n",
    "\n",
    "azdias_cleaned_dummies_eng = process_wohnlage(azdias_cleaned_dummies_eng)\n",
    "print(azdias_cleaned_dummies_eng[\"WOHNLAGE_URBAN\"].value_counts())\n",
    "print(azdias_cleaned_dummies_eng[\"WOHNLAGE_RURAL\"].value_counts())"
   ]
  },
  {
   "cell_type": "code",
   "execution_count": 79,
   "metadata": {},
   "outputs": [],
   "source": [
    "# Drop both LP_LEBENSPHASE_FEIN and LP_LEBENSPHASE_GROB columns\n",
    "azdias_cleaned_dummies_eng.drop(\"LP_LEBENSPHASE_FEIN\", axis=1, inplace=True)\n",
    "azdias_cleaned_dummies_eng.drop(\"LP_LEBENSPHASE_GROB\", axis=1, inplace=True)"
   ]
  },
  {
   "cell_type": "markdown",
   "metadata": {},
   "source": [
    "#### Discussion 1.2.2: Engineer Mixed-Type Features\n",
    "\n",
    "(Double-click this cell and replace this text with your own text, reporting your findings and decisions regarding mixed-value features. Which ones did you keep, which did you drop, and what engineering steps did you perform?)\n",
    "\n",
    "There are 6 mixed type variables left in the dataset at this stage of cleaning.\n",
    "1. LP_LEBENSPHASE_FEIN\n",
    "2. LP_LEBENSPHASE_GROB\n",
    "3. PRAEGENDE_JUGENDJAHRE\n",
    "4. WOHNLAGE\n",
    "5. CAMEO_INTL_2015\n",
    "6. PLZ8_BAUMAX\n",
    "\n",
    "Both LP_LEBENSPHASE_FEIN and LP_LEBENSPHASE_GROB were dropped from the dataset as both variables were tracking information such as: age, wealth, homeownership and relationship status. These information were already tracked by other features. For example, age is tracked by the feature ALTERSKATEGORIE_GROB, wealth by CAMEO_INTL_2015_WEALTH and to some extent LP_STATUS_Fein, homeownership by LP_STATUS_FEIN and realtionship status by LP_FAMILIE_FEIN. Hence, I opted not to engineer new features from both LP_LEBENSPHASE_FEIN and LP_LEBENSPHASE_GROB andto drop them from the dataset.\n",
    "\n",
    "PRAEGENDE_JUGENDJAHRE was modified to engineer two new variables: PRAEGENDE_JUGENDJAHRE_MOVEMENT and PRAEGENDE_JUGENDJAHRE_DECADE. PRAEGENDE_JUGENDJAHRE_MOVEMENT was a binary variable that tracked the dominating movement of the person's youth and the possible values for the variable were 0 for Avantgarde movement and 1 for mainstream movement. PRAEGENDE_JUGENDJAHRE_DECADE was an interval variable that tacked the dominating decade of the person's youth: 0 for 1940s, 1 for 1950s, 2 for 1960s, 3 for 1970s, 4 for 1980s, 5 for 1990s.\n",
    "\n",
    "The original WOHNLAGE assigned lower values to very good urban neighbourhood quality, higher values to poorer urban neighbourhood quality and the highest values to rural areas (7 for rural neighourhood and 8 for new building in rural neighborhood). Since a rural neighbourhood comprising of new buiding should generally be of higher quality than a typical rural neighbourhood, it did not make sense to assign a higher number (8) to this neighbourhood. Hence, WOHNLAGE was modified to engineer two new variables: WOHNLAGE_URBAN and WOHNLAGE_RURAL to seperate the two classes. WOHNLAGE_URBAN will have non-zero values for urban neighbourhoods with lower values corresponding to better quality, while WOHNLAGE_RURAL will have non-zero values for rural areas with higher values corresponding to beter quality (new buildings in rural areas).\n",
    "\n",
    "CAMEO_INTL_2015 was engineered to create two new ordinal variables, CAMEO_INTL_2015_WEALTH and CAMEO_INTL_2015_LIFE_STAGE. CAMEO_INTL_2015_WEALTH tracked the wealth of the individual with lower values corresponding to more affluent status and higher values corresponding to less affluent status. On the other hand, CAMEO_INTL_2015_LIFE_STAGE tracked the life stage of the person, for example: pre-family couples and single, young-couples with children, etc.\n",
    "\n",
    "PLZ8_BAUMAX was also modified to engineer two new variables: PLZ8_BAUMAX_RES and PLZ8_BAUMAX_COMM. The original PLZ8_BAUMAX variable tracks the most common building type within the PLZ8 region, usually family homes of various sizes or business buildings. Smaller values for PLZ8_BAUMAX indicated smaller family homes, while larger values indicated larger family home. However, the largest value for PLZ8_BAUMAX refers to business building. Since it did not make sense to rank business buildings higher than family homes, I decided to split the variable into two. A non zero value for PLZ8_BAUMAX_RES will indicate that family buildings are the most common buiding type: 1 for mainly 1-2 family homes, 2 for mainly 3-5 family homes, 3 for mainly 6-10 family homes and 4 for mainly 10+ family homes. On the other hand, PLZ8_BAUMAX_COMM will be 0 if family homes are the most common buidling type in the region and 1 if business buildings are the most common buiding type."
   ]
  },
  {
   "cell_type": "markdown",
   "metadata": {},
   "source": [
    "#### Step 1.2.3: Complete Feature Selection\n",
    "\n",
    "In order to finish this step up, you need to make sure that your data frame now only has the columns that you want to keep. To summarize, the dataframe should consist of the following:\n",
    "- All numeric, interval, and ordinal type columns from the original dataset.\n",
    "- Binary categorical features (all numerically-encoded).\n",
    "- Engineered features from other multi-level categorical features and mixed features.\n",
    "\n",
    "Make sure that for any new columns that you have engineered, that you've excluded the original columns from the final dataset. Otherwise, their values will interfere with the analysis later on the project. For example, you should not keep \"PRAEGENDE_JUGENDJAHRE\", since its values won't be useful for the algorithm: only the values derived from it in the engineered features you created should be retained. As a reminder, your data should only be from **the subset with few or no missing values**."
   ]
  },
  {
   "cell_type": "code",
   "execution_count": null,
   "metadata": {},
   "outputs": [],
   "source": [
    "# If there are other re-engineering tasks you need to perform, make sure you\n",
    "# take care of them here. (Dealing with missing data will come in step 2.1.)\n",
    "\n"
   ]
  },
  {
   "cell_type": "code",
   "execution_count": 80,
   "metadata": {},
   "outputs": [
    {
     "name": "stdout",
     "output_type": "stream",
     "text": [
      "False\n",
      "False\n",
      "False\n",
      "False\n",
      "False\n",
      "False\n"
     ]
    }
   ],
   "source": [
    "# Do whatever you need to in order to ensure that the dataframe only contains\n",
    "# the columns that should be passed to the algorithm functions.\n",
    "\n",
    "print(\"LP_LEBENSPHASE_FEIN\" in azdias_cleaned_dummies_eng.columns.values)\n",
    "print(\"LP_LEBENSPHASE_GROB\" in azdias_cleaned_dummies_eng.columns.values)\n",
    "print(\"PRAEGENDE_JUGENDJAHRE\" in azdias_cleaned_dummies_eng.columns.values)\n",
    "print(\"WOHNLAGE\" in azdias_cleaned_dummies_eng.columns.values)\n",
    "print(\"CAMEO_INTL_2015\" in azdias_cleaned_dummies_eng.columns.values)\n",
    "print(\"PLZ8_BAUMAX\" in azdias_cleaned_dummies_eng.columns.values)"
   ]
  },
  {
   "cell_type": "markdown",
   "metadata": {},
   "source": [
    "### Step 1.3: Create a Cleaning Function\n",
    "\n",
    "Even though you've finished cleaning up the general population demographics data, it's important to look ahead to the future and realize that you'll need to perform the same cleaning steps on the customer demographics data. In this substep, complete the function below to execute the main feature selection, encoding, and re-engineering steps you performed above. Then, when it comes to looking at the customer data in Step 3, you can just run this function on that DataFrame to get the trimmed dataset in a single step."
   ]
  },
  {
   "cell_type": "code",
   "execution_count": 1,
   "metadata": {},
   "outputs": [],
   "source": [
    "def clean_data(df):\n",
    "    \"\"\"\n",
    "    Perform feature trimming, re-encoding, and engineering for demographics\n",
    "    data\n",
    "    \n",
    "    INPUT: Demographics DataFrame\n",
    "    OUTPUT: Trimmed and cleaned demographics DataFrame\n",
    "    \"\"\"\n",
    "    \n",
    "    # Put in code here to execute all main cleaning steps:\n",
    "    # convert missing value codes into NaNs, ...\n",
    "    \n",
    "    \n",
    "    # remove selected columns and rows, ...\n",
    "\n",
    "    \n",
    "    # select, re-encode, and engineer column values.\n",
    "\n",
    "    \n",
    "    # Return the cleaned dataframe.\n",
    "    \n",
    "    "
   ]
  },
  {
   "cell_type": "code",
   "execution_count": null,
   "metadata": {},
   "outputs": [],
   "source": []
  },
  {
   "cell_type": "markdown",
   "metadata": {},
   "source": [
    "## Step 2: Feature Transformation\n",
    "\n",
    "### Step 2.1: Apply Feature Scaling\n",
    "\n",
    "Before we apply dimensionality reduction techniques to the data, we need to perform feature scaling so that the principal component vectors are not influenced by the natural differences in scale for features. Starting from this part of the project, you'll want to keep an eye on the [API reference page for sklearn](http://scikit-learn.org/stable/modules/classes.html) to help you navigate to all of the classes and functions that you'll need. In this substep, you'll need to check the following:\n",
    "\n",
    "- sklearn requires that data not have missing values in order for its estimators to work properly. So, before applying the scaler to your data, make sure that you've cleaned the DataFrame of the remaining missing values before applying your scaler. This can be as simple as just removing all data points with missing data, or applying an [Imputer](http://scikit-learn.org/stable/modules/generated/sklearn.preprocessing.Imputer.html) to replace all missing values. You might also try a more complicated procedure where you temporarily remove missing values in order to compute the scaling parameters before re-introducing those missing values and applying imputation. Think about how much missing data you have and what possible effects each approach might have on your analysis, and justify your decision in the discussion section below.\n",
    "- For the actual scaling function, a [StandardScaler](http://scikit-learn.org/stable/modules/generated/sklearn.preprocessing.StandardScaler.html) instance is suggested, scaling each feature to mean 0 and standard deviation 1.\n",
    "- For these classes, you can make use of the `.fit_transform()` method to both fit a procedure to the data as well as apply the transformation to the data at the same time. Don't forget to keep the fit sklearn objects handy, since you'll be applying them to the customer demographics data towards the end of the project."
   ]
  },
  {
   "cell_type": "code",
   "execution_count": null,
   "metadata": {},
   "outputs": [],
   "source": [
    "# If you've not yet cleaned the dataset of all NaN values, then investigate and\n",
    "# do that now.\n",
    "\n"
   ]
  },
  {
   "cell_type": "code",
   "execution_count": null,
   "metadata": {},
   "outputs": [],
   "source": [
    "# Apply feature scaling to the general population demographics data.\n",
    "\n"
   ]
  },
  {
   "cell_type": "markdown",
   "metadata": {},
   "source": [
    "### Discussion 2.1: Apply Feature Scaling\n",
    "\n",
    "(Double-click this cell and replace this text with your own text, reporting your decisions regarding feature scaling.)"
   ]
  },
  {
   "cell_type": "markdown",
   "metadata": {},
   "source": [
    "### Step 2.2: Perform Dimensionality Reduction\n",
    "\n",
    "On your scaled data, you are now ready to apply dimensionality reduction techniques.\n",
    "\n",
    "- Use sklearn's [PCA](http://scikit-learn.org/stable/modules/generated/sklearn.decomposition.PCA.html) class to apply principal component analysis on the data, thus finding the vectors of maximal variance in the data. To start, you should not set any parameters (so all components are computed) or set a number of components that is at least half the number of features (so there's enough features to see the general trend in variability).\n",
    "- Check out the ratio of variance explained by each principal component as well as the cumulative variance explained. Try plotting the cumulative or sequential values using matplotlib's [`plot()`](https://matplotlib.org/api/_as_gen/matplotlib.pyplot.plot.html) function. Based on what you find, select a value for the number of transformed features you'll retain for the clustering part of the project.\n",
    "- Once you've made a choice for the number of components to keep, make sure you re-fit a PCA instance to perform the decided-on transformation."
   ]
  },
  {
   "cell_type": "code",
   "execution_count": null,
   "metadata": {},
   "outputs": [],
   "source": [
    "# Apply PCA to the data.\n",
    "\n"
   ]
  },
  {
   "cell_type": "code",
   "execution_count": null,
   "metadata": {},
   "outputs": [],
   "source": [
    "# Investigate the variance accounted for by each principal component.\n",
    "\n"
   ]
  },
  {
   "cell_type": "code",
   "execution_count": null,
   "metadata": {},
   "outputs": [],
   "source": [
    "# Re-apply PCA to the data while selecting for number of components to retain.\n",
    "\n"
   ]
  },
  {
   "cell_type": "markdown",
   "metadata": {},
   "source": [
    "### Discussion 2.2: Perform Dimensionality Reduction\n",
    "\n",
    "(Double-click this cell and replace this text with your own text, reporting your findings and decisions regarding dimensionality reduction. How many principal components / transformed features are you retaining for the next step of the analysis?)"
   ]
  },
  {
   "cell_type": "markdown",
   "metadata": {},
   "source": [
    "### Step 2.3: Interpret Principal Components\n",
    "\n",
    "Now that we have our transformed principal components, it's a nice idea to check out the weight of each variable on the first few components to see if they can be interpreted in some fashion.\n",
    "\n",
    "As a reminder, each principal component is a unit vector that points in the direction of highest variance (after accounting for the variance captured by earlier principal components). The further a weight is from zero, the more the principal component is in the direction of the corresponding feature. If two features have large weights of the same sign (both positive or both negative), then increases in one tend expect to be associated with increases in the other. To contrast, features with different signs can be expected to show a negative correlation: increases in one variable should result in a decrease in the other.\n",
    "\n",
    "- To investigate the features, you should map each weight to their corresponding feature name, then sort the features according to weight. The most interesting features for each principal component, then, will be those at the beginning and end of the sorted list. Use the data dictionary document to help you understand these most prominent features, their relationships, and what a positive or negative value on the principal component might indicate.\n",
    "- You should investigate and interpret feature associations from the first three principal components in this substep. To help facilitate this, you should write a function that you can call at any time to print the sorted list of feature weights, for the *i*-th principal component. This might come in handy in the next step of the project, when you interpret the tendencies of the discovered clusters."
   ]
  },
  {
   "cell_type": "code",
   "execution_count": null,
   "metadata": {},
   "outputs": [],
   "source": [
    "# Map weights for the first principal component to corresponding feature names\n",
    "# and then print the linked values, sorted by weight.\n",
    "# HINT: Try defining a function here or in a new cell that you can reuse in the\n",
    "# other cells.\n",
    "\n"
   ]
  },
  {
   "cell_type": "code",
   "execution_count": null,
   "metadata": {},
   "outputs": [],
   "source": [
    "# Map weights for the second principal component to corresponding feature names\n",
    "# and then print the linked values, sorted by weight.\n",
    "\n"
   ]
  },
  {
   "cell_type": "code",
   "execution_count": null,
   "metadata": {},
   "outputs": [],
   "source": [
    "# Map weights for the third principal component to corresponding feature names\n",
    "# and then print the linked values, sorted by weight.\n",
    "\n"
   ]
  },
  {
   "cell_type": "markdown",
   "metadata": {},
   "source": [
    "### Discussion 2.3: Interpret Principal Components\n",
    "\n",
    "(Double-click this cell and replace this text with your own text, reporting your observations from detailed investigation of the first few principal components generated. Can we interpret positive and negative values from them in a meaningful way?)"
   ]
  },
  {
   "cell_type": "markdown",
   "metadata": {},
   "source": [
    "## Step 3: Clustering\n",
    "\n",
    "### Step 3.1: Apply Clustering to General Population\n",
    "\n",
    "You've assessed and cleaned the demographics data, then scaled and transformed them. Now, it's time to see how the data clusters in the principal components space. In this substep, you will apply k-means clustering to the dataset and use the average within-cluster distances from each point to their assigned cluster's centroid to decide on a number of clusters to keep.\n",
    "\n",
    "- Use sklearn's [KMeans](http://scikit-learn.org/stable/modules/generated/sklearn.cluster.KMeans.html#sklearn.cluster.KMeans) class to perform k-means clustering on the PCA-transformed data.\n",
    "- Then, compute the average difference from each point to its assigned cluster's center. **Hint**: The KMeans object's `.score()` method might be useful here, but note that in sklearn, scores tend to be defined so that larger is better. Try applying it to a small, toy dataset, or use an internet search to help your understanding.\n",
    "- Perform the above two steps for a number of different cluster counts. You can then see how the average distance decreases with an increasing number of clusters. However, each additional cluster provides a smaller net benefit. Use this fact to select a final number of clusters in which to group the data. **Warning**: because of the large size of the dataset, it can take a long time for the algorithm to resolve. The more clusters to fit, the longer the algorithm will take. You should test for cluster counts through at least 10 clusters to get the full picture, but you shouldn't need to test for a number of clusters above about 30.\n",
    "- Once you've selected a final number of clusters to use, re-fit a KMeans instance to perform the clustering operation. Make sure that you also obtain the cluster assignments for the general demographics data, since you'll be using them in the final Step 3.3."
   ]
  },
  {
   "cell_type": "code",
   "execution_count": null,
   "metadata": {},
   "outputs": [],
   "source": [
    "# Over a number of different cluster counts...\n",
    "\n",
    "\n",
    "    # run k-means clustering on the data and...\n",
    "    \n",
    "    \n",
    "    # compute the average within-cluster distances.\n",
    "    \n",
    "    "
   ]
  },
  {
   "cell_type": "code",
   "execution_count": null,
   "metadata": {},
   "outputs": [],
   "source": [
    "# Investigate the change in within-cluster distance across number of clusters.\n",
    "# HINT: Use matplotlib's plot function to visualize this relationship.\n",
    "\n"
   ]
  },
  {
   "cell_type": "code",
   "execution_count": null,
   "metadata": {},
   "outputs": [],
   "source": [
    "# Re-fit the k-means model with the selected number of clusters and obtain\n",
    "# cluster predictions for the general population demographics data.\n",
    "\n"
   ]
  },
  {
   "cell_type": "markdown",
   "metadata": {},
   "source": [
    "### Discussion 3.1: Apply Clustering to General Population\n",
    "\n",
    "(Double-click this cell and replace this text with your own text, reporting your findings and decisions regarding clustering. Into how many clusters have you decided to segment the population?)"
   ]
  },
  {
   "cell_type": "markdown",
   "metadata": {},
   "source": [
    "### Step 3.2: Apply All Steps to the Customer Data\n",
    "\n",
    "Now that you have clusters and cluster centers for the general population, it's time to see how the customer data maps on to those clusters. Take care to not confuse this for re-fitting all of the models to the customer data. Instead, you're going to use the fits from the general population to clean, transform, and cluster the customer data. In the last step of the project, you will interpret how the general population fits apply to the customer data.\n",
    "\n",
    "- Don't forget when loading in the customers data, that it is semicolon (`;`) delimited.\n",
    "- Apply the same feature wrangling, selection, and engineering steps to the customer demographics using the `clean_data()` function you created earlier. (You can assume that the customer demographics data has similar meaning behind missing data patterns as the general demographics data.)\n",
    "- Use the sklearn objects from the general demographics data, and apply their transformations to the customers data. That is, you should not be using a `.fit()` or `.fit_transform()` method to re-fit the old objects, nor should you be creating new sklearn objects! Carry the data through the feature scaling, PCA, and clustering steps, obtaining cluster assignments for all of the data in the customer demographics data."
   ]
  },
  {
   "cell_type": "code",
   "execution_count": 81,
   "metadata": {},
   "outputs": [
    {
     "name": "stdout",
     "output_type": "stream",
     "text": [
      "   AGER_TYP  ALTERSKATEGORIE_GROB  ANREDE_KZ  CJT_GESAMTTYP  \\\n",
      "0         2                     4          1            5.0   \n",
      "1        -1                     4          1            NaN   \n",
      "2        -1                     4          2            2.0   \n",
      "3         1                     4          1            2.0   \n",
      "4        -1                     3          1            6.0   \n",
      "\n",
      "   FINANZ_MINIMALIST  FINANZ_SPARER  FINANZ_VORSORGER  FINANZ_ANLEGER  \\\n",
      "0                  5              1                 5               1   \n",
      "1                  5              1                 5               1   \n",
      "2                  5              1                 5               1   \n",
      "3                  5              1                 5               2   \n",
      "4                  3              1                 4               4   \n",
      "\n",
      "   FINANZ_UNAUFFAELLIGER  FINANZ_HAUSBAUER    ...     PLZ8_ANTG1  PLZ8_ANTG2  \\\n",
      "0                      2                 2    ...            3.0         3.0   \n",
      "1                      3                 2    ...            NaN         NaN   \n",
      "2                      4                 4    ...            2.0         3.0   \n",
      "3                      1                 2    ...            3.0         2.0   \n",
      "4                      5                 2    ...            2.0         4.0   \n",
      "\n",
      "   PLZ8_ANTG3  PLZ8_ANTG4  PLZ8_BAUMAX  PLZ8_HHZ  PLZ8_GBZ  ARBEIT  \\\n",
      "0         1.0         0.0          1.0       5.0       5.0     1.0   \n",
      "1         NaN         NaN          NaN       NaN       NaN     NaN   \n",
      "2         3.0         1.0          3.0       3.0       2.0     3.0   \n",
      "3         1.0         0.0          1.0       3.0       4.0     1.0   \n",
      "4         2.0         1.0          2.0       3.0       3.0     3.0   \n",
      "\n",
      "   ORTSGR_KLS9  RELAT_AB  \n",
      "0          2.0       1.0  \n",
      "1          NaN       NaN  \n",
      "2          5.0       3.0  \n",
      "3          3.0       1.0  \n",
      "4          5.0       1.0  \n",
      "\n",
      "[5 rows x 85 columns]\n"
     ]
    }
   ],
   "source": [
    "# Load in the customer demographics data.\n",
    "customers = pd.read_csv('Udacity_CUSTOMERS_Subset.csv', sep=';')\n",
    "print(customers.head())"
   ]
  },
  {
   "cell_type": "code",
   "execution_count": null,
   "metadata": {},
   "outputs": [],
   "source": [
    "# Apply preprocessing, feature transformation, and clustering from the general\n",
    "# demographics onto the customer data, obtaining cluster predictions for the\n",
    "# customer demographics data.\n",
    "\n"
   ]
  },
  {
   "cell_type": "markdown",
   "metadata": {},
   "source": [
    "### Step 3.3: Compare Customer Data to Demographics Data\n",
    "\n",
    "At this point, you have clustered data based on demographics of the general population of Germany, and seen how the customer data for a mail-order sales company maps onto those demographic clusters. In this final substep, you will compare the two cluster distributions to see where the strongest customer base for the company is.\n",
    "\n",
    "Consider the proportion of persons in each cluster for the general population, and the proportions for the customers. If we think the company's customer base to be universal, then the cluster assignment proportions should be fairly similar between the two. If there are only particular segments of the population that are interested in the company's products, then we should see a mismatch from one to the other. If there is a higher proportion of persons in a cluster for the customer data compared to the general population (e.g. 5% of persons are assigned to a cluster for the general population, but 15% of the customer data is closest to that cluster's centroid) then that suggests the people in that cluster to be a target audience for the company. On the other hand, the proportion of the data in a cluster being larger in the general population than the customer data (e.g. only 2% of customers closest to a population centroid that captures 6% of the data) suggests that group of persons to be outside of the target demographics.\n",
    "\n",
    "Take a look at the following points in this step:\n",
    "\n",
    "- Compute the proportion of data points in each cluster for the general population and the customer data. Visualizations will be useful here: both for the individual dataset proportions, but also to visualize the ratios in cluster representation between groups. Seaborn's [`countplot()`](https://seaborn.pydata.org/generated/seaborn.countplot.html) or [`barplot()`](https://seaborn.pydata.org/generated/seaborn.barplot.html) function could be handy.\n",
    "  - Recall the analysis you performed in step 1.1.3 of the project, where you separated out certain data points from the dataset if they had more than a specified threshold of missing values. If you found that this group was qualitatively different from the main bulk of the data, you should treat this as an additional data cluster in this analysis. Make sure that you account for the number of data points in this subset, for both the general population and customer datasets, when making your computations!\n",
    "- Which cluster or clusters are overrepresented in the customer dataset compared to the general population? Select at least one such cluster and infer what kind of people might be represented by that cluster. Use the principal component interpretations from step 2.3 or look at additional components to help you make this inference. Alternatively, you can use the `.inverse_transform()` method of the PCA and StandardScaler objects to transform centroids back to the original data space and interpret the retrieved values directly.\n",
    "- Perform a similar investigation for the underrepresented clusters. Which cluster or clusters are underrepresented in the customer dataset compared to the general population, and what kinds of people are typified by these clusters?"
   ]
  },
  {
   "cell_type": "code",
   "execution_count": null,
   "metadata": {},
   "outputs": [],
   "source": [
    "# Compare the proportion of data in each cluster for the customer data to the\n",
    "# proportion of data in each cluster for the general population.\n",
    "\n"
   ]
  },
  {
   "cell_type": "code",
   "execution_count": null,
   "metadata": {},
   "outputs": [],
   "source": [
    "# What kinds of people are part of a cluster that is overrepresented in the\n",
    "# customer data compared to the general population?\n",
    "\n"
   ]
  },
  {
   "cell_type": "code",
   "execution_count": null,
   "metadata": {},
   "outputs": [],
   "source": [
    "# What kinds of people are part of a cluster that is underrepresented in the\n",
    "# customer data compared to the general population?\n",
    "\n"
   ]
  },
  {
   "cell_type": "markdown",
   "metadata": {},
   "source": [
    "### Discussion 3.3: Compare Customer Data to Demographics Data\n",
    "\n",
    "(Double-click this cell and replace this text with your own text, reporting findings and conclusions from the clustering analysis. Can we describe segments of the population that are relatively popular with the mail-order company, or relatively unpopular with the company?)"
   ]
  },
  {
   "cell_type": "markdown",
   "metadata": {},
   "source": [
    "> Congratulations on making it this far in the project! Before you finish, make sure to check through the entire notebook from top to bottom to make sure that your analysis follows a logical flow and all of your findings are documented in **Discussion** cells. Once you've checked over all of your work, you should export the notebook as an HTML document to submit for evaluation. You can do this from the menu, navigating to **File -> Download as -> HTML (.html)**. You will submit both that document and this notebook for your project submission."
   ]
  },
  {
   "cell_type": "code",
   "execution_count": null,
   "metadata": {},
   "outputs": [],
   "source": []
  }
 ],
 "metadata": {
  "kernelspec": {
   "display_name": "Python [default]",
   "language": "python",
   "name": "python3"
  },
  "language_info": {
   "codemirror_mode": {
    "name": "ipython",
    "version": 3
   },
   "file_extension": ".py",
   "mimetype": "text/x-python",
   "name": "python",
   "nbconvert_exporter": "python",
   "pygments_lexer": "ipython3",
   "version": "3.6.5"
  }
 },
 "nbformat": 4,
 "nbformat_minor": 2
}
