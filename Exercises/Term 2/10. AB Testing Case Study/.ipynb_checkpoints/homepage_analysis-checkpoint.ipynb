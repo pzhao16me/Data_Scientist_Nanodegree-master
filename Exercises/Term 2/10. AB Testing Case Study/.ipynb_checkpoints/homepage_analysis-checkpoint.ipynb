{
 "cells": [
  {
   "cell_type": "code",
   "execution_count": 7,
   "metadata": {},
   "outputs": [],
   "source": [
    "import numpy as np\n",
    "import pandas as pd\n",
    "import scipy.stats as stats"
   ]
  },
  {
   "cell_type": "code",
   "execution_count": 2,
   "metadata": {},
   "outputs": [
    {
     "data": {
      "text/html": [
       "<div>\n",
       "<style scoped>\n",
       "    .dataframe tbody tr th:only-of-type {\n",
       "        vertical-align: middle;\n",
       "    }\n",
       "\n",
       "    .dataframe tbody tr th {\n",
       "        vertical-align: top;\n",
       "    }\n",
       "\n",
       "    .dataframe thead th {\n",
       "        text-align: right;\n",
       "    }\n",
       "</style>\n",
       "<table border=\"1\" class=\"dataframe\">\n",
       "  <thead>\n",
       "    <tr style=\"text-align: right;\">\n",
       "      <th></th>\n",
       "      <th>Day</th>\n",
       "      <th>Control Cookies</th>\n",
       "      <th>Control Downloads</th>\n",
       "      <th>Control Licenses</th>\n",
       "      <th>Experiment Cookies</th>\n",
       "      <th>Experiment Downloads</th>\n",
       "      <th>Experiment Licenses</th>\n",
       "    </tr>\n",
       "  </thead>\n",
       "  <tbody>\n",
       "    <tr>\n",
       "      <th>0</th>\n",
       "      <td>1</td>\n",
       "      <td>1764</td>\n",
       "      <td>246</td>\n",
       "      <td>1</td>\n",
       "      <td>1850</td>\n",
       "      <td>339</td>\n",
       "      <td>3</td>\n",
       "    </tr>\n",
       "    <tr>\n",
       "      <th>1</th>\n",
       "      <td>2</td>\n",
       "      <td>1541</td>\n",
       "      <td>234</td>\n",
       "      <td>2</td>\n",
       "      <td>1590</td>\n",
       "      <td>281</td>\n",
       "      <td>2</td>\n",
       "    </tr>\n",
       "    <tr>\n",
       "      <th>2</th>\n",
       "      <td>3</td>\n",
       "      <td>1457</td>\n",
       "      <td>240</td>\n",
       "      <td>1</td>\n",
       "      <td>1515</td>\n",
       "      <td>274</td>\n",
       "      <td>1</td>\n",
       "    </tr>\n",
       "    <tr>\n",
       "      <th>3</th>\n",
       "      <td>4</td>\n",
       "      <td>1587</td>\n",
       "      <td>224</td>\n",
       "      <td>1</td>\n",
       "      <td>1541</td>\n",
       "      <td>284</td>\n",
       "      <td>2</td>\n",
       "    </tr>\n",
       "    <tr>\n",
       "      <th>4</th>\n",
       "      <td>5</td>\n",
       "      <td>1606</td>\n",
       "      <td>253</td>\n",
       "      <td>2</td>\n",
       "      <td>1643</td>\n",
       "      <td>292</td>\n",
       "      <td>3</td>\n",
       "    </tr>\n",
       "  </tbody>\n",
       "</table>\n",
       "</div>"
      ],
      "text/plain": [
       "   Day  Control Cookies  Control Downloads  Control Licenses  \\\n",
       "0    1             1764                246                 1   \n",
       "1    2             1541                234                 2   \n",
       "2    3             1457                240                 1   \n",
       "3    4             1587                224                 1   \n",
       "4    5             1606                253                 2   \n",
       "\n",
       "   Experiment Cookies  Experiment Downloads  Experiment Licenses  \n",
       "0                1850                   339                    3  \n",
       "1                1590                   281                    2  \n",
       "2                1515                   274                    1  \n",
       "3                1541                   284                    2  \n",
       "4                1643                   292                    3  "
      ]
     },
     "execution_count": 2,
     "metadata": {},
     "output_type": "execute_result"
    }
   ],
   "source": [
    "data = pd.read_csv('homepage-experiment-data.csv')\n",
    "data.head()"
   ]
  },
  {
   "cell_type": "markdown",
   "metadata": {},
   "source": [
    "## Check Invariant Metric\n",
    "\n",
    "Check the number of cookies assigned to each group\n",
    "\n",
    "$$H_0: \\mu_{cont} = 0.5$$\n",
    "$$H_0: \\mu_{cont} \\neq 0.5$$"
   ]
  },
  {
   "cell_type": "code",
   "execution_count": 22,
   "metadata": {},
   "outputs": [
    {
     "data": {
      "text/plain": [
       "46851"
      ]
     },
     "execution_count": 22,
     "metadata": {},
     "output_type": "execute_result"
    }
   ],
   "source": [
    "n_control = data['Control Cookies'].sum()\n",
    "n_control"
   ]
  },
  {
   "cell_type": "code",
   "execution_count": 23,
   "metadata": {},
   "outputs": [
    {
     "data": {
      "text/plain": [
       "94197"
      ]
     },
     "execution_count": 23,
     "metadata": {},
     "output_type": "execute_result"
    }
   ],
   "source": [
    "n_obs = data['Experiment Cookies'].sum() + n_control\n",
    "n_obs"
   ]
  },
  {
   "cell_type": "code",
   "execution_count": 24,
   "metadata": {},
   "outputs": [
    {
     "name": "stdout",
     "output_type": "stream",
     "text": [
      "-1.6095646049678511\n",
      "0.10749294050130412\n"
     ]
    }
   ],
   "source": [
    "# should have 50% prob of being assigned to control homepage\n",
    "p = 0.5\n",
    "\n",
    "sd = np.sqrt(p * (1-p) * n_obs)\n",
    "\n",
    "# with continuity correction\n",
    "z = ((n_control + 0.5) - p * n_obs) / sd\n",
    "\n",
    "print(z)\n",
    "print(2 * stats.norm.cdf(z))"
   ]
  },
  {
   "cell_type": "code",
   "execution_count": 36,
   "metadata": {},
   "outputs": [
    {
     "name": "stdout",
     "output_type": "stream",
     "text": [
      "0.10786\n"
     ]
    }
   ],
   "source": [
    "# simulation approach\n",
    "\n",
    "# # simulate outcomes under null, compare to observed outcome\n",
    "p = 0.5\n",
    "n_trials = 200_000\n",
    "\n",
    "samples = np.random.binomial(n_obs, p, n_trials)\n",
    "\n",
    "p_val = np.logical_or(samples <= n_control, samples >= (n_obs - n_control)).mean()\n",
    "\n",
    "print(p_val)"
   ]
  },
  {
   "cell_type": "code",
   "execution_count": 34,
   "metadata": {},
   "outputs": [
    {
     "name": "stdout",
     "output_type": "stream",
     "text": [
      "46851\n",
      "47098.5\n"
     ]
    }
   ],
   "source": [
    "# alternate simulation approach (for 2 sided hypothesis)\n",
    "print(n_control)\n",
    "\n",
    "null_mean = 0.5 * n_obs\n",
    "\n",
    "print(null_mean)"
   ]
  },
  {
   "cell_type": "code",
   "execution_count": 35,
   "metadata": {},
   "outputs": [
    {
     "data": {
      "text/plain": [
       "0.104965"
      ]
     },
     "execution_count": 35,
     "metadata": {},
     "output_type": "execute_result"
    }
   ],
   "source": [
    "null_mean = 0.5 * n_obs\n",
    "\n",
    "# since n_control is lower than null_mean\n",
    "lower_bound = n_control\n",
    "upper_bound = null_mean + (null_mean - n_control)\n",
    "\n",
    "prob_more_extreme_high = (samples > upper_bound).mean()\n",
    "prob_more_extreme_low = (samples < lower_bound).mean()\n",
    "\n",
    "pval = prob_more_extreme_low + prob_more_extreme_high\n",
    "pval"
   ]
  },
  {
   "cell_type": "markdown",
   "metadata": {},
   "source": [
    "## Check Evaluation Metric\n",
    "\n",
    "Download Rate:\n",
    "$$H_0: \\mu_{exper} - \\mu_{cont} \\leq 0$$\n",
    "$$H_0: \\mu_{exper} - \\mu_{cont} > 0$$\n",
    "\n",
    "License Purchasing Rate:\n",
    "$$H_0: \\mu_{exper} - \\mu_{cont} \\leq 0$$\n",
    "$$H_0: \\mu_{exper} - \\mu_{cont} > 0$$"
   ]
  },
  {
   "cell_type": "code",
   "execution_count": 19,
   "metadata": {},
   "outputs": [
    {
     "name": "stdout",
     "output_type": "stream",
     "text": [
      "0.1709396265273841\n",
      "0.16123455209067042\n",
      "0.180543234908968\n"
     ]
    }
   ],
   "source": [
    "# Check evaluation metric: download rate\n",
    "n_downloads_control = data['Control Downloads'].sum()\n",
    "n_downloads_experiment = data['Experiment Downloads'].sum()\n",
    "\n",
    "n_cookies_control = data['Control Cookies'].sum()\n",
    "n_cookies_experiment = data['Experiment Cookies'].sum()\n",
    "\n",
    "p_null = (n_downloads_control + n_downloads_experiment) / (n_cookies_control + n_cookies_experiment)\n",
    "p_downloads_control = n_downloads_control / n_cookies_control\n",
    "p_downloads_experiment = n_downloads_experiment / n_cookies_experiment\n",
    "\n",
    "print(p_null)\n",
    "print(p_downloads_control)\n",
    "print(p_downloads_experiment)"
   ]
  },
  {
   "cell_type": "code",
   "execution_count": 20,
   "metadata": {},
   "outputs": [
    {
     "name": "stdout",
     "output_type": "stream",
     "text": [
      "7.870833726066236\n",
      "1.7763568394002505e-15\n"
     ]
    }
   ],
   "source": [
    "# compute standard error, z-score, and p-value\n",
    "se_p = np.sqrt(p_null * (1-p_null) * (1/n_cookies_control + 1/n_cookies_experiment))\n",
    "\n",
    "z = (p_downloads_experiment - p_downloads_control) / se_p\n",
    "p_val = 1-stats.norm.cdf(z)\n",
    "print(z)\n",
    "print(p_val)"
   ]
  },
  {
   "cell_type": "code",
   "execution_count": 21,
   "metadata": {},
   "outputs": [
    {
     "name": "stdout",
     "output_type": "stream",
     "text": [
      "0.0\n"
     ]
    }
   ],
   "source": [
    "# simulation approach\n",
    "\n",
    "# simulate outcomes under null, compare to observed outcome\n",
    "n_trials = 200_000\n",
    "\n",
    "num_downloads_control = np.random.binomial(n_cookies_control, p_null, n_trials)\n",
    "num_downloads_experiment = np.random.binomial(n_cookies_experiment, p_null, n_trials)\n",
    "samples = num_downloads_experiment / n_cookies_experiment - num_downloads_control / n_cookies_control\n",
    "\n",
    "p_val = (samples >= (p_downloads_experiment - p_downloads_control)).mean()\n",
    "print(p_val)"
   ]
  },
  {
   "cell_type": "code",
   "execution_count": 14,
   "metadata": {},
   "outputs": [],
   "source": [
    "# Check evaluation metric: license purchasing rate\n",
    "\n",
    "n_licenses_control = data['Control Licenses'].sum()\n",
    "n_licenses_experiment = data['Experiment Licenses'].sum()\n",
    "\n",
    "# get number of cookies for each group till day 21\n",
    "n_cookies_control = data[data['Day'] <= 21]['Control Cookies'].sum()\n",
    "n_cookies_experiment = data[data['Day'] <= 21]['Experiment Cookies'].sum()"
   ]
  },
  {
   "cell_type": "code",
   "execution_count": 15,
   "metadata": {},
   "outputs": [
    {
     "name": "stdout",
     "output_type": "stream",
     "text": [
      "0.021175986842105265\n",
      "0.021032051661828307\n",
      "0.021317490826489604\n"
     ]
    }
   ],
   "source": [
    "p_null = (n_licenses_control + n_licenses_experiment) / (n_cookies_control + n_cookies_experiment)\n",
    "p_licenses_control = n_licenses_control / n_cookies_control\n",
    "p_licenses_experiment = n_licenses_experiment / n_cookies_experiment\n",
    "\n",
    "print(p_null)\n",
    "print(p_licenses_control)\n",
    "print(p_licenses_experiment)"
   ]
  },
  {
   "cell_type": "code",
   "execution_count": 16,
   "metadata": {},
   "outputs": [
    {
     "name": "stdout",
     "output_type": "stream",
     "text": [
      "0.2586750111658684\n",
      "0.3979430008399871\n"
     ]
    }
   ],
   "source": [
    "# compute standard error, z-score, and p-value\n",
    "se_p = np.sqrt(p_null * (1-p_null) * (1/n_cookies_control + 1/n_cookies_experiment))\n",
    "\n",
    "z = (p_licenses_experiment - p_licenses_control) / se_p\n",
    "p_val = 1-stats.norm.cdf(z)\n",
    "print(z)\n",
    "print(p_val)"
   ]
  },
  {
   "cell_type": "code",
   "execution_count": 18,
   "metadata": {},
   "outputs": [
    {
     "name": "stdout",
     "output_type": "stream",
     "text": [
      "0.39982\n"
     ]
    }
   ],
   "source": [
    "# simulation approach\n",
    "\n",
    "# simulate outcomes under null, compare to observed outcome\n",
    "n_trials = 200_000\n",
    "\n",
    "num_licenses_control = np.random.binomial(n_cookies_control, p_null, n_trials)\n",
    "num_licenses_experiment = np.random.binomial(n_cookies_experiment, p_null, n_trials)\n",
    "samples = num_licenses_experiment / n_cookies_experiment - num_licenses_control / n_cookies_control\n",
    "\n",
    "p_val = (samples >= (p_licenses_experiment - p_licenses_control)).mean()\n",
    "print(p_val)"
   ]
  },
  {
   "cell_type": "code",
   "execution_count": null,
   "metadata": {},
   "outputs": [],
   "source": []
  }
 ],
 "metadata": {
  "kernelspec": {
   "display_name": "Python 3",
   "language": "python",
   "name": "python3"
  },
  "language_info": {
   "codemirror_mode": {
    "name": "ipython",
    "version": 3
   },
   "file_extension": ".py",
   "mimetype": "text/x-python",
   "name": "python",
   "nbconvert_exporter": "python",
   "pygments_lexer": "ipython3",
   "version": "3.6.6"
  }
 },
 "nbformat": 4,
 "nbformat_minor": 2
}
