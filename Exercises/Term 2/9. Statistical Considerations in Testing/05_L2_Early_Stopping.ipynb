{
 "cells": [
  {
   "cell_type": "markdown",
   "metadata": {},
   "source": [
    "# Early Stopping\n",
    "\n",
    "If you peek at the results of an experiment before data collection is complete, and choose to stop early because the test is showing statistical significance, you run the risk of a significant increase in your Type I error rate: believing that your experiment had an effect, when in fact it did not. In this notebook, you'll duplicate the assertions made in the video: namely that for an experiment based off of a single traditional statistical test, doing a single peek halfway through the run-time will increase a base Type I error rate from 5% to about 8.6%."
   ]
  },
  {
   "cell_type": "code",
   "execution_count": 8,
   "metadata": {},
   "outputs": [],
   "source": [
    "import numpy as np\n",
    "import scipy.stats as stats\n",
    "import math"
   ]
  },
  {
   "cell_type": "markdown",
   "metadata": {},
   "source": [
    "The simulation function below uses a bernoulli / binomial success model for the outcome metric, measuring against a historic baseline. That is, each observation is a single coin flip with success probability \"p\". If we see a number of successes that is unusual for our baseline value of \"p\", then we declare a statistically significant result. We will divide the experiment length into multiple 'blocks', checking the status of the experiment after each block is complete. Our outputs of interest are the proportion of trials that are statistically significant in _any_ test, and the proportion of trials that are statistically significant after _each_ individual block.\n",
    "\n",
    "There are three main steps to filling out the `peeking_sim()` function.\n",
    "\n",
    "1. Simulate some data\n",
    " - Compute the number of trials per block. For simplicity, just round up any fractions so that each block has the same number of trials: we might end up with slightly more trials per block than the corresponding function parameter.\n",
    " - Generate a data matrix with the number of successes observed in each block: the number of rows should be the number of simulations and the number of columns the number of blocks. You can do this with a single call to numpy's [`random.binomial`](https://docs.scipy.org/doc/numpy/reference/generated/numpy.random.binomial.html) function.\n",
    "2. Compute z-scores at each 'peek'\n",
    " - For each row, compute the cumulative number of successes after each 'block' of the experiment using numpy's [`cumsum`](https://docs.scipy.org/doc/numpy/reference/generated/numpy.cumsum.html) function. The result should be a matrix with the same dimensions as the data, but each column cumulatively adds up the values in each row up to that point.\n",
    " - Compute the expected mean and standard deviation for the number of successes after each 'block' of the experiment. Remember that this will be based on the [binomial distribution](https://en.wikipedia.org/wiki/Binomial_distribution) and is centered on the raw counts, rather than proportion of successes. It'll be useful to create a vector with the cumulative sum of trials after each block to facilitate these calculations.\n",
    " - Use the cumulative counts, the expected counts, and the standard deviations, to compute the z-scores for each peek at the experiment.\n",
    "3. Aggregate test outcomes\n",
    " - Compute a critical z-value using the supposed Type I error rate. Use this critical value to flag which of the z-scores would be counted as statistically significant, and which would not.\n",
    " - The proportion of trials that are significant at _any_ test will be the proportion of rows that have at least one flagged value. The proportion of trials that are significant at _each_ block will be the mean number of flagged values in each column; this will be a 1-d array. Return both of these values as the output of the function."
   ]
  },
  {
   "cell_type": "code",
   "execution_count": 18,
   "metadata": {},
   "outputs": [],
   "source": [
    "def peeking_sim(alpha = .05, p = .5, n_trials = 1000, n_blocks = 2, n_sims = 10000):\n",
    "    \"\"\"\n",
    "    This function simulates the rate of Type I errors made if an early\n",
    "    stopping decision is made based on a significant result when peeking ahead.\n",
    "    \n",
    "    Input parameters:\n",
    "        alpha: Supposed Type I error rate\n",
    "        p: Probability of individual trial success\n",
    "        n_trials: Number of trials in a full experiment\n",
    "        n_blocks: Number of times data is looked at (including end)\n",
    "        n_sims: Number of simulated experiments run\n",
    "        \n",
    "    Return:\n",
    "        p_sig_any: Proportion of simulations significant at any check point, \n",
    "        p_sig_each: Proportion of simulations significant at each check point\n",
    "    \"\"\"\n",
    "    \n",
    "    # generate data\n",
    "    trials_per_block = math.ceil(n_trials/n_blocks)\n",
    "    data = np.random.binomial(trials_per_block, p, [n_sims, n_blocks])\n",
    "    \n",
    "    # standardize data\n",
    "    data_cumsum = np.cumsum(data, axis = 1)\n",
    "    # cumulative sum of trials after each block\n",
    "    # in this case it is array([ 500, 1000])\n",
    "    block_sizes = trials_per_block * np.arange(1, n_blocks+1, 1)\n",
    "    block_means = block_sizes * p\n",
    "    block_sds   = np.sqrt(block_sizes * p * (1-p))\n",
    "    data_zscores = (data_cumsum - block_means) / block_sds\n",
    "    \n",
    "    # test outcomes\n",
    "    z_crit = stats.norm.ppf(1-alpha/2)\n",
    "    sig_flags = np.abs(data_zscores) > z_crit\n",
    "    p_sig_any = (sig_flags.sum(axis = 1) > 0).mean()\n",
    "    p_sig_each = sig_flags.mean(axis = 0)\n",
    "    \n",
    "    return (p_sig_any, p_sig_each)\n",
    "    "
   ]
  },
  {
   "cell_type": "markdown",
   "metadata": {},
   "source": [
    "Running the function on the default parameters as given should return a tuple of results where the probability of any significant test outcome across the two blocks is around 8.6% and the probability of a significant test outcome at each individual block checkpoint is around 5%. Increase the number of trials and number of simulations to get more accurate estimates. You should also see how the overall Type I error rate increases with additional peeks!"
   ]
  },
  {
   "cell_type": "code",
   "execution_count": 19,
   "metadata": {},
   "outputs": [
    {
     "data": {
      "text/plain": [
       "(0.084400000000000003, array([ 0.0516,  0.05  ]))"
      ]
     },
     "execution_count": 19,
     "metadata": {},
     "output_type": "execute_result"
    }
   ],
   "source": [
    "peeking_sim()"
   ]
  },
  {
   "cell_type": "code",
   "execution_count": null,
   "metadata": {},
   "outputs": [],
   "source": [
    "# below is just to break the code into steps"
   ]
  },
  {
   "cell_type": "code",
   "execution_count": 3,
   "metadata": {},
   "outputs": [
    {
     "data": {
      "text/plain": [
       "array([ 500, 1000])"
      ]
     },
     "execution_count": 3,
     "metadata": {},
     "output_type": "execute_result"
    }
   ],
   "source": [
    "trials_per_block = 500\n",
    "n_blocks = 2\n",
    "block_sizes = trials_per_block * np.arange(1, n_blocks+1, 1)\n",
    "block_sizes"
   ]
  },
  {
   "cell_type": "code",
   "execution_count": 4,
   "metadata": {},
   "outputs": [
    {
     "data": {
      "text/plain": [
       "array([[251, 238],\n",
       "       [242, 252],\n",
       "       [255, 257],\n",
       "       ..., \n",
       "       [246, 260],\n",
       "       [236, 257],\n",
       "       [230, 264]])"
      ]
     },
     "execution_count": 4,
     "metadata": {},
     "output_type": "execute_result"
    }
   ],
   "source": [
    "trials_per_block = 500\n",
    "p=0.5\n",
    "n_blocks = 2\n",
    "n_sims = 10000\n",
    "data = np.random.binomial(trials_per_block, p, [n_sims, n_blocks])\n",
    "data"
   ]
  },
  {
   "cell_type": "code",
   "execution_count": 6,
   "metadata": {},
   "outputs": [
    {
     "data": {
      "text/plain": [
       "array([[251, 489],\n",
       "       [242, 494],\n",
       "       [255, 512],\n",
       "       ..., \n",
       "       [246, 506],\n",
       "       [236, 493],\n",
       "       [230, 494]])"
      ]
     },
     "execution_count": 6,
     "metadata": {},
     "output_type": "execute_result"
    }
   ],
   "source": [
    "data_cumsum = np.cumsum(data, axis = 1)\n",
    "data_cumsum"
   ]
  },
  {
   "cell_type": "code",
   "execution_count": 7,
   "metadata": {},
   "outputs": [
    {
     "data": {
      "text/plain": [
       "array([[ 0.08944272, -0.69570109],\n",
       "       [-0.71554175, -0.37947332],\n",
       "       [ 0.4472136 ,  0.75894664],\n",
       "       ..., \n",
       "       [-0.35777088,  0.37947332],\n",
       "       [-1.25219807, -0.44271887],\n",
       "       [-1.78885438, -0.37947332]])"
      ]
     },
     "execution_count": 7,
     "metadata": {},
     "output_type": "execute_result"
    }
   ],
   "source": [
    "block_means = block_sizes * p\n",
    "block_sds   = np.sqrt(block_sizes * p * (1-p))\n",
    "data_zscores = (data_cumsum - block_means) / block_sds\n",
    "data_zscores"
   ]
  },
  {
   "cell_type": "code",
   "execution_count": 9,
   "metadata": {},
   "outputs": [
    {
     "data": {
      "text/plain": [
       "1.959963984540054"
      ]
     },
     "execution_count": 9,
     "metadata": {},
     "output_type": "execute_result"
    }
   ],
   "source": [
    "alpha = .05\n",
    "z_crit = stats.norm.ppf(1-alpha/2)\n",
    "z_crit"
   ]
  },
  {
   "cell_type": "code",
   "execution_count": 13,
   "metadata": {},
   "outputs": [
    {
     "data": {
      "text/plain": [
       "array([[False, False],\n",
       "       [False, False],\n",
       "       [False, False],\n",
       "       ..., \n",
       "       [False, False],\n",
       "       [False, False],\n",
       "       [False, False]], dtype=bool)"
      ]
     },
     "execution_count": 13,
     "metadata": {},
     "output_type": "execute_result"
    }
   ],
   "source": [
    "sig_flags = np.abs(data_zscores) > z_crit\n",
    "sig_flags"
   ]
  },
  {
   "cell_type": "code",
   "execution_count": 15,
   "metadata": {},
   "outputs": [
    {
     "data": {
      "text/plain": [
       "array([False, False, False, ..., False, False, False], dtype=bool)"
      ]
     },
     "execution_count": 15,
     "metadata": {},
     "output_type": "execute_result"
    }
   ],
   "source": [
    "sig_flags.sum(axis = 1) > 0"
   ]
  },
  {
   "cell_type": "code",
   "execution_count": 16,
   "metadata": {},
   "outputs": [
    {
     "data": {
      "text/plain": [
       "0.087800000000000003"
      ]
     },
     "execution_count": 16,
     "metadata": {},
     "output_type": "execute_result"
    }
   ],
   "source": [
    "p_sig_any = (sig_flags.sum(axis = 1) > 0).mean()\n",
    "p_sig_any"
   ]
  },
  {
   "cell_type": "code",
   "execution_count": 17,
   "metadata": {},
   "outputs": [
    {
     "data": {
      "text/plain": [
       "array([ 0.0523,  0.0543])"
      ]
     },
     "execution_count": 17,
     "metadata": {},
     "output_type": "execute_result"
    }
   ],
   "source": [
    "p_sig_each = sig_flags.mean(axis = 0)\n",
    "p_sig_each"
   ]
  },
  {
   "cell_type": "markdown",
   "metadata": {},
   "source": [
    "## A Multiple Comparisons Approach to Early Peeking\n",
    "\n",
    "The safest way we could deal with performing multiple checks and making poor early stopping decisions is to simply not do it. Once an experiment has been planned and all assignment procedures checked, you should just let the experiment run to completion and just assess the results at the very end. That's not to say that you can't perform early stopping, but it does require additional planning.\n",
    "\n",
    "One way in which you could solve for multiple peeking is to adjust the significance level of individual tests so that the overall error rate is at its desired level. But applying the Bonferroni or Šidák corrections as shown earlier in the lesson will definitely be too conservative, since we know that there is a correlation in test results between peeks. If we see some simulated run with z-score above the threshold at the halfway point, it's more likely to be above that threshold at the end point, compared to some other simulated run that is not statistically significant at the halfway point. One way in which we can obtain a better significance threshold is through the power of simulation. After performing the same steps 1 and 2 above, we want to find a significance level that would call our desired proportion of simulated tests as statistically significant:\n",
    "\n",
    "1. Simulate some data (as above)\n",
    "2. Compute z-scores at each 'peek' (as above)\n",
    "3. Obtain required individual-test error rate\n",
    "  - A run is considered statistically significant if it exceeds the critical bounds at _any_ peek. Obtain the maximum z-score from each row as a worst-case scenario for a null run to be falsely rejected.\n",
    "  - Find the z-score threshold that would reject our desired overall Type I error rate.\n",
    "  - Convert that z-score into an equivalent individual-test error rate."
   ]
  },
  {
   "cell_type": "code",
   "execution_count": 25,
   "metadata": {},
   "outputs": [],
   "source": [
    "def peeking_correction(alpha = .05, p = .5, n_trials = 1000, n_blocks = 2, n_sims = 10000):\n",
    "    \"\"\"\n",
    "    This function uses simulations to estimate the individual error rate necessary\n",
    "    to limit the Type I error rate, if an early stopping decision is made based on\n",
    "    a significant result when peeking ahead.\n",
    "    \n",
    "    Input parameters:\n",
    "        alpha: Desired overall Type I error rate\n",
    "        p: Probability of individual trial success\n",
    "        n_trials: Number of trials in a full experiment\n",
    "        n_blocks: Number of times data is looked at (including end)\n",
    "        n_sims: Number of simulated experiments run\n",
    "        \n",
    "    Return:\n",
    "        alpha_ind: Individual error rate required to achieve overall error rate\n",
    "    \"\"\"\n",
    "    \n",
    "    # generate data\n",
    "    # You can copy the code from the previous function.\n",
    "    trials_per_block = math.ceil(n_trials/n_blocks)\n",
    "    data = np.random.binomial(trials_per_block, p, [n_sims, n_blocks])\n",
    "    \n",
    "    # standardize data\n",
    "    # You can copy the code from the previous function.\n",
    "    data_cumsum = np.cumsum(data, axis = 1)\n",
    "    block_sizes = trials_per_block * np.arange(1, n_blocks+1, 1)\n",
    "    block_means = block_sizes * p\n",
    "    block_sds   = np.sqrt(block_sizes * p * (1-p))\n",
    "    data_zscores = (data_cumsum - block_means) / block_sds\n",
    "    \n",
    "    # find necessary individual error rate\n",
    "    max_zscores = np.abs(data_zscores).max(axis=1)\n",
    "    z_crit_ind = np.percentile(max_zscores, 100 * (1 - alpha))\n",
    "    alpha_ind = 2 * (1 - stats.norm.cdf(z_crit_ind))\n",
    "    \n",
    "    return alpha_ind"
   ]
  },
  {
   "cell_type": "markdown",
   "metadata": {},
   "source": [
    "Running the function on the default parameters should give a required individual error rate of about .029. Note how this is somewhat higher than the .025 or .0253 that would have been generated from the Bonferroni and Šidák corrections, respectively. Test with a higher number of simulations and trials to get more accurate estimates, and try out different numbers of blocks to see how it changes the individual error rate needed. The results should approximately match up with the numbers given in the table in the middle of [this article](https://www.evanmiller.org/how-not-to-run-an-ab-test.html); note that peeking $n$ times means splitting the experiment into $n + 1$ blocks."
   ]
  },
  {
   "cell_type": "code",
   "execution_count": 24,
   "metadata": {},
   "outputs": [
    {
     "ename": "AttributeError",
     "evalue": "'int' object has no attribute 'astype'",
     "output_type": "error",
     "traceback": [
      "\u001b[0;31m---------------------------------------------------------------------------\u001b[0m",
      "\u001b[0;31mAttributeError\u001b[0m                            Traceback (most recent call last)",
      "\u001b[0;32m<ipython-input-24-af0c83c38a2a>\u001b[0m in \u001b[0;36m<module>\u001b[0;34m()\u001b[0m\n\u001b[0;32m----> 1\u001b[0;31m \u001b[0mpeeking_correction\u001b[0m\u001b[0;34m(\u001b[0m\u001b[0;34m)\u001b[0m\u001b[0;34m\u001b[0m\u001b[0m\n\u001b[0m",
      "\u001b[0;32m<ipython-input-23-8c5718b62788>\u001b[0m in \u001b[0;36mpeeking_correction\u001b[0;34m(alpha, p, n_trials, n_blocks, n_sims)\u001b[0m\n\u001b[1;32m     18\u001b[0m     \u001b[0;31m# generate data\u001b[0m\u001b[0;34m\u001b[0m\u001b[0;34m\u001b[0m\u001b[0m\n\u001b[1;32m     19\u001b[0m     \u001b[0;31m# You can copy the code from the previous function.\u001b[0m\u001b[0;34m\u001b[0m\u001b[0;34m\u001b[0m\u001b[0m\n\u001b[0;32m---> 20\u001b[0;31m     \u001b[0mtrials_per_block\u001b[0m \u001b[0;34m=\u001b[0m \u001b[0mmath\u001b[0m\u001b[0;34m.\u001b[0m\u001b[0mceil\u001b[0m\u001b[0;34m(\u001b[0m\u001b[0mn_trials\u001b[0m\u001b[0;34m/\u001b[0m\u001b[0mn_blocks\u001b[0m\u001b[0;34m)\u001b[0m\u001b[0;34m.\u001b[0m\u001b[0mastype\u001b[0m\u001b[0;34m(\u001b[0m\u001b[0mint\u001b[0m\u001b[0;34m)\u001b[0m\u001b[0;34m\u001b[0m\u001b[0m\n\u001b[0m\u001b[1;32m     21\u001b[0m     \u001b[0mdata\u001b[0m \u001b[0;34m=\u001b[0m \u001b[0mnp\u001b[0m\u001b[0;34m.\u001b[0m\u001b[0mrandom\u001b[0m\u001b[0;34m.\u001b[0m\u001b[0mbinomial\u001b[0m\u001b[0;34m(\u001b[0m\u001b[0mtrials_per_block\u001b[0m\u001b[0;34m,\u001b[0m \u001b[0mp\u001b[0m\u001b[0;34m,\u001b[0m \u001b[0;34m[\u001b[0m\u001b[0mn_sims\u001b[0m\u001b[0;34m,\u001b[0m \u001b[0mn_blocks\u001b[0m\u001b[0;34m]\u001b[0m\u001b[0;34m)\u001b[0m\u001b[0;34m\u001b[0m\u001b[0m\n\u001b[1;32m     22\u001b[0m \u001b[0;34m\u001b[0m\u001b[0m\n",
      "\u001b[0;31mAttributeError\u001b[0m: 'int' object has no attribute 'astype'"
     ]
    }
   ],
   "source": [
    "peeking_correction()"
   ]
  },
  {
   "cell_type": "code",
   "execution_count": null,
   "metadata": {},
   "outputs": [],
   "source": []
  }
 ],
 "metadata": {
  "kernelspec": {
   "display_name": "Python 3",
   "language": "python",
   "name": "python3"
  },
  "language_info": {
   "codemirror_mode": {
    "name": "ipython",
    "version": 3
   },
   "file_extension": ".py",
   "mimetype": "text/x-python",
   "name": "python",
   "nbconvert_exporter": "python",
   "pygments_lexer": "ipython3",
   "version": "3.6.3"
  }
 },
 "nbformat": 4,
 "nbformat_minor": 2
}
