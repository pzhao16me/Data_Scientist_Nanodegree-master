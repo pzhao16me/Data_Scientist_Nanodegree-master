{
 "cells": [
  {
   "cell_type": "markdown",
   "metadata": {},
   "source": [
    "### Implementing FunkSVD\n",
    "\n",
    "In this notebook we will take a look at writing our own function that performs FunkSVD, which will follow the steps you saw in the previous video.  If you find that you aren't ready to tackle this task on your own, feel free to skip to the following video where you can watch as I walk through the steps.\n",
    "\n",
    "To test our algorithm, we will run it on the subset of the data you worked with earlier.  Run the cell below to get started."
   ]
  },
  {
   "cell_type": "code",
   "execution_count": 1,
   "metadata": {},
   "outputs": [
    {
     "name": "stdout",
     "output_type": "stream",
     "text": [
      "[[ 10.  10.  10.  10.]\n",
      " [ 10.   4.   9.  10.]\n",
      " [  8.   9.  10.   5.]\n",
      " [  9.   8.  10.  10.]\n",
      " [ 10.   5.   9.   9.]\n",
      " [  6.   4.  10.   6.]\n",
      " [  9.   8.  10.   9.]\n",
      " [ 10.   5.   9.   8.]\n",
      " [  7.   8.  10.   8.]\n",
      " [  9.   5.   9.   7.]\n",
      " [  9.   8.  10.   8.]\n",
      " [  9.  10.  10.   9.]\n",
      " [ 10.   9.  10.   8.]\n",
      " [  5.   8.   5.   8.]\n",
      " [ 10.   8.  10.  10.]\n",
      " [  9.   9.  10.  10.]\n",
      " [  9.   8.   8.   8.]\n",
      " [ 10.   8.   1.  10.]\n",
      " [  5.   6.  10.  10.]\n",
      " [  8.   7.  10.   7.]]\n"
     ]
    }
   ],
   "source": [
    "import numpy as np\n",
    "import pandas as pd\n",
    "import matplotlib.pyplot as plt\n",
    "from scipy import sparse\n",
    "import svd_tests as t\n",
    "%matplotlib inline\n",
    "\n",
    "# Read in the datasets\n",
    "movies = pd.read_csv('data/movies_clean.csv')\n",
    "reviews = pd.read_csv('data/reviews_clean.csv')\n",
    "\n",
    "del movies['Unnamed: 0']\n",
    "del reviews['Unnamed: 0']\n",
    "\n",
    "# Create user-by-item matrix\n",
    "user_items = reviews[['user_id', 'movie_id', 'rating', 'timestamp']]\n",
    "user_by_movie = user_items.groupby(['user_id', 'movie_id'])['rating'].max().unstack()\n",
    "\n",
    "# Create data subset\n",
    "user_movie_subset = user_by_movie[[73486, 75314,  68646, 99685]].dropna(axis=0)\n",
    "ratings_mat = np.matrix(user_movie_subset)\n",
    "print(ratings_mat)"
   ]
  },
  {
   "cell_type": "markdown",
   "metadata": {},
   "source": [
    "`1.` You will use the **user_movie_subset** matrix to show that your FunkSVD algorithm will converge.  In the below cell, use the comments and document string to assist you as you complete writing your own function to complete FunkSVD.  You may also want to try to complete the function on your own without the assistance of comments.  You may feel free to remove and add to the function in any way that gets you a working solution! \n",
    "\n",
    "**Notice:** There isn't a sigma matrix in this version of the matrix factorization."
   ]
  },
  {
   "cell_type": "code",
   "execution_count": 2,
   "metadata": {},
   "outputs": [
    {
     "data": {
      "text/plain": [
       "(20, 4)"
      ]
     },
     "execution_count": 2,
     "metadata": {},
     "output_type": "execute_result"
    }
   ],
   "source": [
    "ratings_mat.shape"
   ]
  },
  {
   "cell_type": "code",
   "execution_count": 3,
   "metadata": {},
   "outputs": [
    {
     "data": {
      "text/plain": [
       "matrix([[ 11.,  11.,  11.,  11.],\n",
       "        [ 11.,   5.,  10.,  11.],\n",
       "        [  9.,  10.,  11.,   6.],\n",
       "        [ 10.,   9.,  11.,  11.],\n",
       "        [ 11.,   6.,  10.,  10.],\n",
       "        [  7.,   5.,  11.,   7.],\n",
       "        [ 10.,   9.,  11.,  10.],\n",
       "        [ 11.,   6.,  10.,   9.],\n",
       "        [  8.,   9.,  11.,   9.],\n",
       "        [ 10.,   6.,  10.,   8.],\n",
       "        [ 10.,   9.,  11.,   9.],\n",
       "        [ 10.,  11.,  11.,  10.],\n",
       "        [ 11.,  10.,  11.,   9.],\n",
       "        [  6.,   9.,   6.,   9.],\n",
       "        [ 11.,   9.,  11.,  11.],\n",
       "        [ 10.,  10.,  11.,  11.],\n",
       "        [ 10.,   9.,   9.,   9.],\n",
       "        [ 11.,   9.,   2.,  11.],\n",
       "        [  6.,   7.,  11.,  11.],\n",
       "        [  9.,   8.,  11.,   8.]])"
      ]
     },
     "execution_count": 3,
     "metadata": {},
     "output_type": "execute_result"
    }
   ],
   "source": [
    "ratings_mat + 1"
   ]
  },
  {
   "cell_type": "code",
   "execution_count": 4,
   "metadata": {},
   "outputs": [
    {
     "data": {
      "text/plain": [
       "80"
      ]
     },
     "execution_count": 4,
     "metadata": {},
     "output_type": "execute_result"
    }
   ],
   "source": [
    "np.count_nonzero(~np.isnan(ratings_mat))"
   ]
  },
  {
   "cell_type": "code",
   "execution_count": 6,
   "metadata": {
    "scrolled": true
   },
   "outputs": [],
   "source": [
    "movie_mat = np.random.rand(4, 10)"
   ]
  },
  {
   "cell_type": "code",
   "execution_count": 8,
   "metadata": {},
   "outputs": [
    {
     "data": {
      "text/plain": [
       "array([[ 0.03888291,  0.58672513,  0.48148495,  0.58523449,  0.9737133 ,\n",
       "         0.00200978,  0.71722153,  0.50733538,  0.04283902,  0.60157473],\n",
       "       [ 0.05870592,  0.28230569,  0.90508168,  0.58606695,  0.3248322 ,\n",
       "         0.98897169,  0.91385777,  0.05441572,  0.18184051,  0.19949277],\n",
       "       [ 0.19498962,  0.09915174,  0.86443116,  0.9798474 ,  0.48664927,\n",
       "         0.42481596,  0.77792114,  0.21469554,  0.86083377,  0.27614076],\n",
       "       [ 0.98686239,  0.68614739,  0.76117112,  0.14508018,  0.57821164,\n",
       "         0.50538175,  0.14727079,  0.95060334,  0.1549616 ,  0.12901388]])"
      ]
     },
     "execution_count": 8,
     "metadata": {},
     "output_type": "execute_result"
    }
   ],
   "source": [
    "movie_mat"
   ]
  },
  {
   "cell_type": "code",
   "execution_count": 7,
   "metadata": {
    "scrolled": true
   },
   "outputs": [
    {
     "data": {
      "text/plain": [
       "array([ 0.58523449,  0.58606695,  0.9798474 ,  0.14508018])"
      ]
     },
     "execution_count": 7,
     "metadata": {},
     "output_type": "execute_result"
    }
   ],
   "source": [
    "movie_mat[:,3]"
   ]
  },
  {
   "cell_type": "code",
   "execution_count": 31,
   "metadata": {},
   "outputs": [],
   "source": [
    "def FunkSVD(ratings_mat, latent_features=4, learning_rate=0.0001, iters=100):\n",
    "    '''\n",
    "    This function performs matrix factorization using a basic form of FunkSVD with no regularization\n",
    "    \n",
    "    INPUT:\n",
    "    ratings_mat - (numpy array) a matrix with users as rows, movies as columns, and ratings as values\n",
    "    latent_features - (int) the number of latent features used\n",
    "    learning_rate - (float) the learning rate \n",
    "    iters - (int) the number of iterations\n",
    "    \n",
    "    OUTPUT:\n",
    "    user_mat - (numpy array) a user by latent feature matrix\n",
    "    movie_mat - (numpy array) a latent feature by movie matrix\n",
    "    '''\n",
    "    \n",
    "    # Set up useful values to be used through the rest of the function\n",
    "    n_users = ratings_mat.shape[0] # number of rows in the matrix\n",
    "    n_movies = ratings_mat.shape[1] # number of movies in the matrix\n",
    "    # from https://stackoverflow.com/questions/21778118/counting-the-number-of-non-nan-elements-in-a-numpy-ndarray-matrix-in-python\n",
    "    num_ratings =  np.count_nonzero(~np.isnan(ratings_mat)) # total number of ratings in the matrix, not counting nan values\n",
    "    \n",
    "    # initialize the user and movie matrices with random values\n",
    "    # helpful link: https://docs.scipy.org/doc/numpy/reference/generated/numpy.random.rand.html\n",
    "    user_mat = np.random.rand(n_users, latent_features) # user matrix filled with random values of shape user x latent \n",
    "    movie_mat = np.random.rand(latent_features, n_movies) # movie matrix filled with random values of shape latent x movies\n",
    "    \n",
    "    # initialize sse at 0 for first iteration\n",
    "    sse_accum = 0\n",
    "    \n",
    "    # header for running results\n",
    "    print(\"Optimization Statistics\")\n",
    "    print(\"Iterations | Mean Squared Error \")\n",
    "    \n",
    "    # for each iteration\n",
    "    for iteration in range(iters):\n",
    "\n",
    "        # update our sse\n",
    "        old_sse = sse_accum\n",
    "        sse_accum = 0\n",
    "        \n",
    "        # For each user-movie pair\n",
    "        for i in range(n_users):\n",
    "            for j in range(n_movies):\n",
    "                \n",
    "                # if the rating exists\n",
    "                if ratings_mat[i,j] >= 0:\n",
    "                    \n",
    "                    # compute the error as the actual minus the dot product of the user and movie latent features\n",
    "                    predicted = np.dot(user_mat[i,:], movie_mat[:,j])\n",
    "                    error = ratings_mat[i,j] - predicted\n",
    "\n",
    "                    # Keep track of the total sum of squared errors for the matrix\n",
    "                    sse_accum += error**2\n",
    "                    \n",
    "                    # update the values in each matrix in the direction of the gradient\n",
    "                    user_mat[i,:] = user_mat[i,:] + learning_rate*2*error*movie_mat[:,j]\n",
    "                    movie_mat[:,j] = movie_mat[:,j] + learning_rate*2*error*user_mat[i,:]\n",
    "\n",
    "        # print results for iteration\n",
    "        print(\"%d \\t\\t %f\" % (iteration+1, sse_accum / num_ratings))\n",
    "        \n",
    "    return user_mat, movie_mat "
   ]
  },
  {
   "cell_type": "markdown",
   "metadata": {},
   "source": [
    "`2.` Try out your function on the **user_movie_subset** dataset.  First try 4 latent features, a learning rate of 0.005, and 10 iterations.  When you take the dot product of the resulting U and V matrices, how does the resulting **user_movie** matrix compare to the original subset of the data?"
   ]
  },
  {
   "cell_type": "code",
   "execution_count": 32,
   "metadata": {
    "scrolled": true
   },
   "outputs": [
    {
     "name": "stdout",
     "output_type": "stream",
     "text": [
      "Optimization Statistics\n",
      "Iterations | Mean Squared Error \n",
      "1 \t\t 40.277140\n",
      "2 \t\t 12.799380\n",
      "3 \t\t 3.778217\n",
      "4 \t\t 2.791963\n",
      "5 \t\t 2.683747\n",
      "6 \t\t 2.642323\n",
      "7 \t\t 2.607722\n",
      "8 \t\t 2.570437\n",
      "9 \t\t 2.527924\n",
      "10 \t\t 2.479077\n"
     ]
    }
   ],
   "source": [
    "user_mat, movie_mat = FunkSVD(ratings_mat, latent_features=4, learning_rate=0.005, iters=10)# use your function with 4 latent features, lr of 0.005 and 10 iterations"
   ]
  },
  {
   "cell_type": "code",
   "execution_count": 33,
   "metadata": {},
   "outputs": [
    {
     "name": "stdout",
     "output_type": "stream",
     "text": [
      "[[ 10.04782278   9.03396499  10.84319081   9.86092612]\n",
      " [  8.6932083    7.36584957   9.07381625   8.79289093]\n",
      " [  7.84258226   6.92684596   8.31280042   7.77241465]\n",
      " [  9.45135225   8.49079583  10.15023074   9.41332683]\n",
      " [  8.41849422   7.53960699   9.14462349   8.38068208]\n",
      " [  6.90357487   6.05574741   7.10092983   6.8942555 ]\n",
      " [  9.15805518   7.83646231   9.69406779   9.32293171]\n",
      " [  8.25080358   7.24981117   8.65820471   8.09294577]\n",
      " [  8.46484094   7.55142541   8.8585771    8.47153683]\n",
      " [  7.54037585   6.53896298   8.19309621   7.76083576]\n",
      " [  9.03096933   7.81498383   9.10698816   8.9388521 ]\n",
      " [  9.61545842   8.42967432  10.01453255   9.57834596]\n",
      " [  9.47628304   8.12324505   9.4096842    9.4256346 ]\n",
      " [  6.56386059   5.76061084   7.0437286    6.55830878]\n",
      " [  9.74633959   8.67848821  10.08779486   9.76067127]\n",
      " [  9.58785571   8.42754119  10.42414358   9.70096842]\n",
      " [  8.49253296   7.23136941   8.39956957   8.44601294]\n",
      " [  7.53100728   6.34343294   6.36467275   7.62658898]\n",
      " [  8.21002329   7.12131534   9.16457585   8.26409105]\n",
      " [  8.06421415   7.16965233   8.68249511   8.02906192]]\n",
      "[[ 10.  10.  10.  10.]\n",
      " [ 10.   4.   9.  10.]\n",
      " [  8.   9.  10.   5.]\n",
      " [  9.   8.  10.  10.]\n",
      " [ 10.   5.   9.   9.]\n",
      " [  6.   4.  10.   6.]\n",
      " [  9.   8.  10.   9.]\n",
      " [ 10.   5.   9.   8.]\n",
      " [  7.   8.  10.   8.]\n",
      " [  9.   5.   9.   7.]\n",
      " [  9.   8.  10.   8.]\n",
      " [  9.  10.  10.   9.]\n",
      " [ 10.   9.  10.   8.]\n",
      " [  5.   8.   5.   8.]\n",
      " [ 10.   8.  10.  10.]\n",
      " [  9.   9.  10.  10.]\n",
      " [  9.   8.   8.   8.]\n",
      " [ 10.   8.   1.  10.]\n",
      " [  5.   6.  10.  10.]\n",
      " [  8.   7.  10.   7.]]\n"
     ]
    }
   ],
   "source": [
    "#Compare the predicted and actual results\n",
    "print(np.dot(user_mat, movie_mat))\n",
    "print(ratings_mat)"
   ]
  },
  {
   "cell_type": "markdown",
   "metadata": {},
   "source": [
    "**Write your summary here.**"
   ]
  },
  {
   "cell_type": "markdown",
   "metadata": {},
   "source": [
    "`3.` Let's try out the function again on the **user_movie_subset** dataset.  This time we will again use 4 latent features and a learning rate of 0.005.  However, let's bump up the number of iterations to 250.  When you take the dot product of the resulting U and V matrices, how does the resulting **user_movie** matrix compare to the original subset of the data?  What do you notice about your error at the end of the 250 iterations?"
   ]
  },
  {
   "cell_type": "code",
   "execution_count": 34,
   "metadata": {},
   "outputs": [
    {
     "name": "stdout",
     "output_type": "stream",
     "text": [
      "Optimization Statistics\n",
      "Iterations | Mean Squared Error \n",
      "1 \t\t 42.754234\n",
      "2 \t\t 13.866708\n",
      "3 \t\t 3.830413\n",
      "4 \t\t 2.782343\n",
      "5 \t\t 2.693630\n",
      "6 \t\t 2.664450\n",
      "7 \t\t 2.642387\n",
      "8 \t\t 2.619710\n",
      "9 \t\t 2.594438\n",
      "10 \t\t 2.565822\n",
      "11 \t\t 2.533310\n",
      "12 \t\t 2.496336\n",
      "13 \t\t 2.454302\n",
      "14 \t\t 2.406584\n",
      "15 \t\t 2.352563\n",
      "16 \t\t 2.291655\n",
      "17 \t\t 2.223351\n",
      "18 \t\t 2.147271\n",
      "19 \t\t 2.063220\n",
      "20 \t\t 1.971266\n",
      "21 \t\t 1.871801\n",
      "22 \t\t 1.765609\n",
      "23 \t\t 1.653909\n",
      "24 \t\t 1.538350\n",
      "25 \t\t 1.420969\n",
      "26 \t\t 1.304067\n",
      "27 \t\t 1.190049\n",
      "28 \t\t 1.081205\n",
      "29 \t\t 0.979501\n",
      "30 \t\t 0.886402\n",
      "31 \t\t 0.802769\n",
      "32 \t\t 0.728843\n",
      "33 \t\t 0.664312\n",
      "34 \t\t 0.608442\n",
      "35 \t\t 0.560225\n",
      "36 \t\t 0.518527\n",
      "37 \t\t 0.482210\n",
      "38 \t\t 0.450213\n",
      "39 \t\t 0.421604\n",
      "40 \t\t 0.395599\n",
      "41 \t\t 0.371562\n",
      "42 \t\t 0.348999\n",
      "43 \t\t 0.327536\n",
      "44 \t\t 0.306907\n",
      "45 \t\t 0.286929\n",
      "46 \t\t 0.267494\n",
      "47 \t\t 0.248551\n",
      "48 \t\t 0.230091\n",
      "49 \t\t 0.212142\n",
      "50 \t\t 0.194753\n",
      "51 \t\t 0.177989\n",
      "52 \t\t 0.161921\n",
      "53 \t\t 0.146620\n",
      "54 \t\t 0.132151\n",
      "55 \t\t 0.118569\n",
      "56 \t\t 0.105914\n",
      "57 \t\t 0.094211\n",
      "58 \t\t 0.083469\n",
      "59 \t\t 0.073680\n",
      "60 \t\t 0.064820\n",
      "61 \t\t 0.056854\n",
      "62 \t\t 0.049736\n",
      "63 \t\t 0.043411\n",
      "64 \t\t 0.037820\n",
      "65 \t\t 0.032901\n",
      "66 \t\t 0.028590\n",
      "67 \t\t 0.024826\n",
      "68 \t\t 0.021548\n",
      "69 \t\t 0.018702\n",
      "70 \t\t 0.016234\n",
      "71 \t\t 0.014098\n",
      "72 \t\t 0.012250\n",
      "73 \t\t 0.010653\n",
      "74 \t\t 0.009272\n",
      "75 \t\t 0.008079\n",
      "76 \t\t 0.007047\n",
      "77 \t\t 0.006154\n",
      "78 \t\t 0.005381\n",
      "79 \t\t 0.004710\n",
      "80 \t\t 0.004127\n",
      "81 \t\t 0.003621\n",
      "82 \t\t 0.003180\n",
      "83 \t\t 0.002796\n",
      "84 \t\t 0.002460\n",
      "85 \t\t 0.002167\n",
      "86 \t\t 0.001911\n",
      "87 \t\t 0.001686\n",
      "88 \t\t 0.001488\n",
      "89 \t\t 0.001315\n",
      "90 \t\t 0.001163\n",
      "91 \t\t 0.001029\n",
      "92 \t\t 0.000910\n",
      "93 \t\t 0.000806\n",
      "94 \t\t 0.000714\n",
      "95 \t\t 0.000633\n",
      "96 \t\t 0.000561\n",
      "97 \t\t 0.000497\n",
      "98 \t\t 0.000441\n",
      "99 \t\t 0.000391\n",
      "100 \t\t 0.000347\n",
      "101 \t\t 0.000308\n",
      "102 \t\t 0.000274\n",
      "103 \t\t 0.000243\n",
      "104 \t\t 0.000216\n",
      "105 \t\t 0.000192\n",
      "106 \t\t 0.000170\n",
      "107 \t\t 0.000151\n",
      "108 \t\t 0.000134\n",
      "109 \t\t 0.000119\n",
      "110 \t\t 0.000106\n",
      "111 \t\t 0.000094\n",
      "112 \t\t 0.000084\n",
      "113 \t\t 0.000074\n",
      "114 \t\t 0.000066\n",
      "115 \t\t 0.000059\n",
      "116 \t\t 0.000052\n",
      "117 \t\t 0.000046\n",
      "118 \t\t 0.000041\n",
      "119 \t\t 0.000037\n",
      "120 \t\t 0.000033\n",
      "121 \t\t 0.000029\n",
      "122 \t\t 0.000026\n",
      "123 \t\t 0.000023\n",
      "124 \t\t 0.000020\n",
      "125 \t\t 0.000018\n",
      "126 \t\t 0.000016\n",
      "127 \t\t 0.000014\n",
      "128 \t\t 0.000013\n",
      "129 \t\t 0.000011\n",
      "130 \t\t 0.000010\n",
      "131 \t\t 0.000009\n",
      "132 \t\t 0.000008\n",
      "133 \t\t 0.000007\n",
      "134 \t\t 0.000006\n",
      "135 \t\t 0.000006\n",
      "136 \t\t 0.000005\n",
      "137 \t\t 0.000004\n",
      "138 \t\t 0.000004\n",
      "139 \t\t 0.000003\n",
      "140 \t\t 0.000003\n",
      "141 \t\t 0.000003\n",
      "142 \t\t 0.000002\n",
      "143 \t\t 0.000002\n",
      "144 \t\t 0.000002\n",
      "145 \t\t 0.000002\n",
      "146 \t\t 0.000002\n",
      "147 \t\t 0.000001\n",
      "148 \t\t 0.000001\n",
      "149 \t\t 0.000001\n",
      "150 \t\t 0.000001\n",
      "151 \t\t 0.000001\n",
      "152 \t\t 0.000001\n",
      "153 \t\t 0.000001\n",
      "154 \t\t 0.000001\n",
      "155 \t\t 0.000001\n",
      "156 \t\t 0.000000\n",
      "157 \t\t 0.000000\n",
      "158 \t\t 0.000000\n",
      "159 \t\t 0.000000\n",
      "160 \t\t 0.000000\n",
      "161 \t\t 0.000000\n",
      "162 \t\t 0.000000\n",
      "163 \t\t 0.000000\n",
      "164 \t\t 0.000000\n",
      "165 \t\t 0.000000\n",
      "166 \t\t 0.000000\n",
      "167 \t\t 0.000000\n",
      "168 \t\t 0.000000\n",
      "169 \t\t 0.000000\n",
      "170 \t\t 0.000000\n",
      "171 \t\t 0.000000\n",
      "172 \t\t 0.000000\n",
      "173 \t\t 0.000000\n",
      "174 \t\t 0.000000\n",
      "175 \t\t 0.000000\n",
      "176 \t\t 0.000000\n",
      "177 \t\t 0.000000\n",
      "178 \t\t 0.000000\n",
      "179 \t\t 0.000000\n",
      "180 \t\t 0.000000\n",
      "181 \t\t 0.000000\n",
      "182 \t\t 0.000000\n",
      "183 \t\t 0.000000\n",
      "184 \t\t 0.000000\n",
      "185 \t\t 0.000000\n",
      "186 \t\t 0.000000\n",
      "187 \t\t 0.000000\n",
      "188 \t\t 0.000000\n",
      "189 \t\t 0.000000\n",
      "190 \t\t 0.000000\n",
      "191 \t\t 0.000000\n",
      "192 \t\t 0.000000\n",
      "193 \t\t 0.000000\n",
      "194 \t\t 0.000000\n",
      "195 \t\t 0.000000\n",
      "196 \t\t 0.000000\n",
      "197 \t\t 0.000000\n",
      "198 \t\t 0.000000\n",
      "199 \t\t 0.000000\n",
      "200 \t\t 0.000000\n",
      "201 \t\t 0.000000\n",
      "202 \t\t 0.000000\n",
      "203 \t\t 0.000000\n",
      "204 \t\t 0.000000\n",
      "205 \t\t 0.000000\n",
      "206 \t\t 0.000000\n",
      "207 \t\t 0.000000\n",
      "208 \t\t 0.000000\n",
      "209 \t\t 0.000000\n",
      "210 \t\t 0.000000\n",
      "211 \t\t 0.000000\n",
      "212 \t\t 0.000000\n",
      "213 \t\t 0.000000\n",
      "214 \t\t 0.000000\n",
      "215 \t\t 0.000000\n",
      "216 \t\t 0.000000\n",
      "217 \t\t 0.000000\n",
      "218 \t\t 0.000000\n",
      "219 \t\t 0.000000\n",
      "220 \t\t 0.000000\n",
      "221 \t\t 0.000000\n",
      "222 \t\t 0.000000\n",
      "223 \t\t 0.000000\n",
      "224 \t\t 0.000000\n",
      "225 \t\t 0.000000\n",
      "226 \t\t 0.000000\n",
      "227 \t\t 0.000000\n",
      "228 \t\t 0.000000\n",
      "229 \t\t 0.000000\n",
      "230 \t\t 0.000000\n",
      "231 \t\t 0.000000\n",
      "232 \t\t 0.000000\n",
      "233 \t\t 0.000000\n",
      "234 \t\t 0.000000\n",
      "235 \t\t 0.000000\n",
      "236 \t\t 0.000000\n",
      "237 \t\t 0.000000\n",
      "238 \t\t 0.000000\n",
      "239 \t\t 0.000000\n",
      "240 \t\t 0.000000\n",
      "241 \t\t 0.000000\n",
      "242 \t\t 0.000000\n",
      "243 \t\t 0.000000\n",
      "244 \t\t 0.000000\n",
      "245 \t\t 0.000000\n",
      "246 \t\t 0.000000\n",
      "247 \t\t 0.000000\n",
      "248 \t\t 0.000000\n",
      "249 \t\t 0.000000\n",
      "250 \t\t 0.000000\n"
     ]
    }
   ],
   "source": [
    "user_mat, movie_mat = FunkSVD(ratings_mat, latent_features=4, learning_rate=0.005, iters=250)#use your function with 4 latent features, lr of 0.005 and 250 iterations"
   ]
  },
  {
   "cell_type": "code",
   "execution_count": 35,
   "metadata": {},
   "outputs": [
    {
     "name": "stdout",
     "output_type": "stream",
     "text": [
      "[[  9.99999961   9.99999977   9.99999988  10.00000046]\n",
      " [  9.99999969   3.99999986   8.99999993  10.00000033]\n",
      " [  8.00000422   9.00000215  10.00000123   4.99999532]\n",
      " [  9.00000379   8.00000182  10.00000102   9.99999584]\n",
      " [  9.99999642   4.99999813   8.99999889   9.00000394]\n",
      " [  6.00000171   4.00000085  10.00000047   5.99999808]\n",
      " [  9.00000085   8.00000035  10.00000017   8.99999906]\n",
      " [ 10.00000058   5.00000025   9.00000012   7.99999935]\n",
      " [  6.99999519   7.99999748   9.99999852   8.00000531]\n",
      " [  8.99999977   4.99999986   8.99999993   7.00000026]\n",
      " [  9.00000174   8.00000091  10.0000005    7.99999803]\n",
      " [  8.99999533   9.99999759   9.99999861   9.00000516]\n",
      " [ 10.00000327   9.0000017   10.00000099   7.99999637]\n",
      " [  4.99999717   7.99999858   4.99999919   8.00000314]\n",
      " [  9.999999     7.99999958   9.99999976  10.00000106]\n",
      " [  9.00000192   9.00000099  10.0000006    9.9999979 ]\n",
      " [  8.99999645   7.99999824   7.99999899   8.0000039 ]\n",
      " [ 10.0000023    8.0000012    1.00000073   9.99999753]\n",
      " [  5.00000361   6.00000189  10.0000011    9.99999601]\n",
      " [  7.99999791   6.99999892   9.99999937   7.00000231]]\n",
      "[[ 10.  10.  10.  10.]\n",
      " [ 10.   4.   9.  10.]\n",
      " [  8.   9.  10.   5.]\n",
      " [  9.   8.  10.  10.]\n",
      " [ 10.   5.   9.   9.]\n",
      " [  6.   4.  10.   6.]\n",
      " [  9.   8.  10.   9.]\n",
      " [ 10.   5.   9.   8.]\n",
      " [  7.   8.  10.   8.]\n",
      " [  9.   5.   9.   7.]\n",
      " [  9.   8.  10.   8.]\n",
      " [  9.  10.  10.   9.]\n",
      " [ 10.   9.  10.   8.]\n",
      " [  5.   8.   5.   8.]\n",
      " [ 10.   8.  10.  10.]\n",
      " [  9.   9.  10.  10.]\n",
      " [  9.   8.   8.   8.]\n",
      " [ 10.   8.   1.  10.]\n",
      " [  5.   6.  10.  10.]\n",
      " [  8.   7.  10.   7.]]\n"
     ]
    }
   ],
   "source": [
    "#Compare the predicted and actual results\n",
    "print(np.dot(user_mat, movie_mat))\n",
    "print(ratings_mat)"
   ]
  },
  {
   "cell_type": "markdown",
   "metadata": {},
   "source": [
    "**Write your summary here.**"
   ]
  },
  {
   "cell_type": "markdown",
   "metadata": {},
   "source": [
    "The last time we placed an **np.nan** value into this matrix the entire svd algorithm in python broke.  Let's see if that is still the case using your FunkSVD function.  In the below cell, I have placed a nan into the first cell of your numpy array.  \n",
    "\n",
    "`4.` Use 4 latent features, a learning rate of 0.005, and 250 iterations.  Are you able to run your SVD without it breaking (something that was not true about the python built in)?  Do you get a prediction for the nan value?  What is your prediction for the missing value? Use the cells below to answer these questions."
   ]
  },
  {
   "cell_type": "code",
   "execution_count": 36,
   "metadata": {},
   "outputs": [
    {
     "data": {
      "text/plain": [
       "matrix([[ nan,  10.,  10.,  10.],\n",
       "        [ 10.,   4.,   9.,  10.],\n",
       "        [  8.,   9.,  10.,   5.],\n",
       "        [  9.,   8.,  10.,  10.],\n",
       "        [ 10.,   5.,   9.,   9.],\n",
       "        [  6.,   4.,  10.,   6.],\n",
       "        [  9.,   8.,  10.,   9.],\n",
       "        [ 10.,   5.,   9.,   8.],\n",
       "        [  7.,   8.,  10.,   8.],\n",
       "        [  9.,   5.,   9.,   7.],\n",
       "        [  9.,   8.,  10.,   8.],\n",
       "        [  9.,  10.,  10.,   9.],\n",
       "        [ 10.,   9.,  10.,   8.],\n",
       "        [  5.,   8.,   5.,   8.],\n",
       "        [ 10.,   8.,  10.,  10.],\n",
       "        [  9.,   9.,  10.,  10.],\n",
       "        [  9.,   8.,   8.,   8.],\n",
       "        [ 10.,   8.,   1.,  10.],\n",
       "        [  5.,   6.,  10.,  10.],\n",
       "        [  8.,   7.,  10.,   7.]])"
      ]
     },
     "execution_count": 36,
     "metadata": {},
     "output_type": "execute_result"
    }
   ],
   "source": [
    "# Here we are placing a nan into our original subset matrix\n",
    "ratings_mat[0, 0] = np.nan\n",
    "ratings_mat"
   ]
  },
  {
   "cell_type": "code",
   "execution_count": 37,
   "metadata": {},
   "outputs": [
    {
     "name": "stdout",
     "output_type": "stream",
     "text": [
      "Optimization Statistics\n",
      "Iterations | Mean Squared Error \n",
      "1 \t\t 44.897694\n",
      "2 \t\t 16.600978\n",
      "3 \t\t 4.849597\n",
      "4 \t\t 3.101654\n",
      "5 \t\t 2.874084\n",
      "6 \t\t 2.815173\n",
      "7 \t\t 2.787477\n",
      "8 \t\t 2.766718\n",
      "9 \t\t 2.747184\n",
      "10 \t\t 2.727277\n"
     ]
    }
   ],
   "source": [
    "# run SVD on the matrix with the missing value\n",
    "user_mat, movie_mat = FunkSVD(ratings_mat, latent_features=4, learning_rate=0.005, iters=10)#use your function with 4 latent features, lr of 0.005 and 250 iterations"
   ]
  },
  {
   "cell_type": "code",
   "execution_count": 38,
   "metadata": {},
   "outputs": [
    {
     "name": "stdout",
     "output_type": "stream",
     "text": [
      "The predicted value for the missing rating is 9.583616336932513:\n",
      "\n",
      "The actual value for the missing rating is nan:\n",
      "\n",
      "That's right! You just predicted a rating for a user-movie pair that was never rated!\n",
      "But if you look in the original matrix, this was actually a value of 10. Not bad!\n"
     ]
    }
   ],
   "source": [
    "# Run this cell to see if you were able to predict for the missing value\n",
    "preds = np.dot(user_mat, movie_mat)\n",
    "print(\"The predicted value for the missing rating is {}:\".format(preds[0,0]))\n",
    "print()\n",
    "print(\"The actual value for the missing rating is {}:\".format(ratings_mat[0,0]))\n",
    "print()\n",
    "assert np.isnan(preds[0,0]) == False\n",
    "print(\"That's right! You just predicted a rating for a user-movie pair that was never rated!\")\n",
    "print(\"But if you look in the original matrix, this was actually a value of 10. Not bad!\")"
   ]
  },
  {
   "cell_type": "markdown",
   "metadata": {},
   "source": [
    "Now let's extend this to a more realistic example. Unfortunately, running this function on your entire user-movie matrix is still not something you likely want to do on your local machine.  However, we can see how well this example extends to 1000 users.  In the above portion, you were using a very small subset of data with no missing values.\n",
    "\n",
    "`5.` Given the size of this matrix, this will take quite a bit of time.  Consider the following hyperparameters: 4 latent features, 0.005 learning rate, and 20 iterations.  Grab a snack, take a walk, and this should be done running in a bit."
   ]
  },
  {
   "cell_type": "code",
   "execution_count": 40,
   "metadata": {},
   "outputs": [
    {
     "name": "stdout",
     "output_type": "stream",
     "text": [
      "Optimization Statistics\n",
      "Iterations | Mean Squared Error \n",
      "1 \t\t 23.412629\n",
      "2 \t\t 10.862651\n",
      "3 \t\t 7.462594\n",
      "4 \t\t 5.762082\n",
      "5 \t\t 4.687212\n",
      "6 \t\t 3.933672\n",
      "7 \t\t 3.372411\n",
      "8 \t\t 2.937491\n",
      "9 \t\t 2.591246\n",
      "10 \t\t 2.310237\n",
      "11 \t\t 2.078835\n",
      "12 \t\t 1.886069\n",
      "13 \t\t 1.723944\n",
      "14 \t\t 1.586457\n",
      "15 \t\t 1.469000\n",
      "16 \t\t 1.367964\n",
      "17 \t\t 1.280485\n",
      "18 \t\t 1.204269\n",
      "19 \t\t 1.137466\n",
      "20 \t\t 1.078579\n"
     ]
    }
   ],
   "source": [
    "# Setting up a matrix of the first 1000 users with movie ratings\n",
    "first_1000_users = np.matrix(user_by_movie.head(1000))\n",
    "\n",
    "# perform funkSVD on the matrix of the top 1000 users\n",
    "user_mat, movie_mat = FunkSVD(first_1000_users, latent_features=4, learning_rate=0.005, iters=20)#fit to 1000 users with 4 latent features, lr of 0.005, and 20 iterations"
   ]
  },
  {
   "cell_type": "markdown",
   "metadata": {},
   "source": [
    "`6.` Now that you have a set of predictions for each user-movie pair,  let's answer a few questions about your results. Provide the correct values for each of the variables below, and check your solutions using the tests below."
   ]
  },
  {
   "cell_type": "code",
   "execution_count": 41,
   "metadata": {},
   "outputs": [
    {
     "name": "stdout",
     "output_type": "stream",
     "text": [
      "The number of actual ratings in the first_1000_users is 10852.\n",
      "\n",
      "The number of ratings made for user-movie pairs that didn't have ratings is 31234148\n"
     ]
    }
   ],
   "source": [
    "# Replace each of the comments below with the correct values\n",
    "num_ratings = np.count_nonzero(~np.isnan(first_1000_users))# How many actual ratings exist in first_1000_users\n",
    "print(\"The number of actual ratings in the first_1000_users is {}.\".format(num_ratings))\n",
    "print()\n",
    "\n",
    "\n",
    "ratings_for_missing = np.count_nonzero(np.isnan(first_1000_users))# How many ratings did we make for user-movie pairs that didn't actually have ratings\n",
    "print(\"The number of ratings made for user-movie pairs that didn't have ratings is {}\".format(ratings_for_missing))"
   ]
  },
  {
   "cell_type": "code",
   "execution_count": 42,
   "metadata": {},
   "outputs": [
    {
     "name": "stdout",
     "output_type": "stream",
     "text": [
      "Nice job!  Looks like you have predictions made for all the missing user-movie pairs! But I still have one question... How good are they?\n"
     ]
    }
   ],
   "source": [
    "# Test your results against the solution\n",
    "assert num_ratings == 10852, \"Oops!  The number of actual ratings doesn't quite look right.\"\n",
    "assert ratings_for_missing == 31234148, \"Oops!  The number of movie-user pairs that you made ratings for that didn't actually have ratings doesn't look right.\"\n",
    "\n",
    "# Make sure you made predictions on all the missing user-movie pairs\n",
    "preds = np.dot(user_mat, movie_mat)\n",
    "assert np.isnan(preds).sum() == 0\n",
    "print(\"Nice job!  Looks like you have predictions made for all the missing user-movie pairs! But I still have one question... How good are they?\")"
   ]
  },
  {
   "cell_type": "code",
   "execution_count": null,
   "metadata": {
    "collapsed": true
   },
   "outputs": [],
   "source": []
  }
 ],
 "metadata": {
  "kernelspec": {
   "display_name": "Python 3",
   "language": "python",
   "name": "python3"
  },
  "language_info": {
   "codemirror_mode": {
    "name": "ipython",
    "version": 3
   },
   "file_extension": ".py",
   "mimetype": "text/x-python",
   "name": "python",
   "nbconvert_exporter": "python",
   "pygments_lexer": "ipython3",
   "version": "3.6.6"
  }
 },
 "nbformat": 4,
 "nbformat_minor": 2
}
