{
 "cells": [
  {
   "cell_type": "markdown",
   "metadata": {},
   "source": [
    "# Classifying Fashion-MNIST\n",
    "\n",
    "Now it's your turn to build and train a neural network. You'll be using the [Fashion-MNIST dataset](https://github.com/zalandoresearch/fashion-mnist), a drop-in replacement for the MNIST dataset. MNIST is actually quite trivial with neural networks where you can easily achieve better than 97% accuracy. Fashion-MNIST is a set of 28x28 greyscale images of clothes. It's more complex than MNIST, so it's a better representation of the actual performance of your network, and a better representation of datasets you'll use in the real world.\n",
    "\n",
    "<img src='assets/fashion-mnist-sprite.png' width=500px>\n",
    "\n",
    "In this notebook, you'll build your own neural network. For the most part, you could just copy and paste the code from Part 3, but you wouldn't be learning. It's important for you to write the code yourself and get it to work. Feel free to consult the previous notebook though as you work through this.\n",
    "\n",
    "First off, let's load the dataset through torchvision."
   ]
  },
  {
   "cell_type": "code",
   "execution_count": 2,
   "metadata": {},
   "outputs": [],
   "source": [
    "import torch\n",
    "from torchvision import datasets, transforms\n",
    "import helper\n",
    "\n",
    "# Define a transform to normalize the data\n",
    "transform = transforms.Compose([transforms.ToTensor(),\n",
    "                                transforms.Normalize((0.5, 0.5, 0.5), (0.5, 0.5, 0.5))])\n",
    "# Download and load the training data\n",
    "trainset = datasets.FashionMNIST('F_MNIST_data/', download=True, train=True, transform=transform)\n",
    "trainloader = torch.utils.data.DataLoader(trainset, batch_size=64, shuffle=True)\n",
    "\n",
    "# Download and load the test data\n",
    "testset = datasets.FashionMNIST('F_MNIST_data/', download=True, train=False, transform=transform)\n",
    "testloader = torch.utils.data.DataLoader(testset, batch_size=64, shuffle=True)"
   ]
  },
  {
   "cell_type": "markdown",
   "metadata": {},
   "source": [
    "Here we can see one of the images."
   ]
  },
  {
   "cell_type": "code",
   "execution_count": 3,
   "metadata": {},
   "outputs": [
    {
     "data": {
      "image/png": "[encoded data removed]",
      "text/plain": [
       "<matplotlib.figure.Figure at 0x7fb6d1687ba8>"
      ]
     },
     "metadata": {},
     "output_type": "display_data"
    }
   ],
   "source": [
    "image, label = next(iter(trainloader))\n",
    "helper.imshow(image[0,:]);"
   ]
  },
  {
   "cell_type": "markdown",
   "metadata": {},
   "source": [
    "With the data loaded, it's time to import the necessary packages."
   ]
  },
  {
   "cell_type": "code",
   "execution_count": 4,
   "metadata": {},
   "outputs": [],
   "source": [
    "%matplotlib inline\n",
    "%config InlineBackend.figure_format = 'retina'\n",
    "\n",
    "import matplotlib.pyplot as plt\n",
    "import numpy as np\n",
    "import time\n",
    "\n",
    "import torch\n",
    "from torch import nn\n",
    "from torch import optim\n",
    "import torch.nn.functional as F\n",
    "from torchvision import datasets, transforms\n",
    "\n",
    "import helper"
   ]
  },
  {
   "cell_type": "markdown",
   "metadata": {},
   "source": [
    "## Building the network\n",
    "\n",
    "Here you should define your network. As with MNIST, each image is 28x28 which is a total of 784 pixels, and there are 10 classes. You should include at least one hidden layer. We suggest you use ReLU activations for the layers and to return the logits from the forward pass. It's up to you how many layers you add and the size of those layers."
   ]
  },
  {
   "cell_type": "code",
   "execution_count": 17,
   "metadata": {},
   "outputs": [],
   "source": [
    "# TODO: Define your network architecture here\n",
    "class Network(nn.Module):\n",
    "    def __init__(self):\n",
    "        super().__init__()\n",
    "        self.fc1 = nn.Linear(784, 512)\n",
    "        self.dropout = nn.Dropout(p=0.2)\n",
    "        self.fc2 = nn.Linear(512, 256)\n",
    "        self.dropout2 = nn.Dropout(p=0.2)\n",
    "        # Output layer, 10 units - one for each digit\n",
    "        self.fc3 = nn.Linear(256, 10)\n",
    "    def forward(self, x):\n",
    "        x = self.fc1(x)\n",
    "        x = F.relu(x)\n",
    "        x = self.fc2(x)\n",
    "        x = F.relu(x)\n",
    "        x = self.fc3(x)\n",
    "        # log softmax works but not softmax. FInd out why?\n",
    "        x = F.log_softmax(x, dim=1)\n",
    "        \n",
    "        return x"
   ]
  },
  {
   "cell_type": "markdown",
   "metadata": {},
   "source": [
    "# Train the network\n",
    "\n",
    "Now you should create your network and train it. First you'll want to define [the criterion](http://pytorch.org/docs/master/nn.html#loss-functions) ( something like `nn.CrossEntropyLoss`) and [the optimizer](http://pytorch.org/docs/master/optim.html) (typically `optim.SGD` or `optim.Adam`).\n",
    "\n",
    "Then write the training code. Remember the training pass is a fairly straightforward process:\n",
    "\n",
    "* Make a forward pass through the network to get the logits \n",
    "* Use the logits to calculate the loss\n",
    "* Perform a backward pass through the network with `loss.backward()` to calculate the gradients\n",
    "* Take a step with the optimizer to update the weights\n",
    "\n",
    "By adjusting the hyperparameters (hidden units, learning rate, etc), you should be able to get the training loss below 0.4."
   ]
  },
  {
   "cell_type": "code",
   "execution_count": 18,
   "metadata": {
    "scrolled": true
   },
   "outputs": [],
   "source": [
    "# TODO: Create the network, define the criterion and optimizer\n",
    "model = Network()\n",
    "criterion = nn.CrossEntropyLoss()\n",
    "#criterion = nn.NLLLoss()\n",
    "optimizer = optim.Adam(model.parameters(), lr=0.005)"
   ]
  },
  {
   "cell_type": "code",
   "execution_count": 19,
   "metadata": {
    "scrolled": false
   },
   "outputs": [
    {
     "name": "stdout",
     "output_type": "stream",
     "text": [
      "Epoch: 1/5...  Loss: 0.0443\n",
      "Epoch: 1/5...  Loss: 0.0252\n",
      "Epoch: 1/5...  Loss: 0.0247\n",
      "Epoch: 1/5...  Loss: 0.0252\n",
      "Epoch: 1/5...  Loss: 0.0238\n",
      "Epoch: 1/5...  Loss: 0.0227\n",
      "Epoch: 1/5...  Loss: 0.0218\n",
      "Epoch: 1/5...  Loss: 0.0229\n",
      "Epoch: 1/5...  Loss: 0.0219\n",
      "Epoch: 1/5...  Loss: 0.0216\n",
      "Epoch: 1/5...  Loss: 0.0211\n",
      "Epoch: 1/5...  Loss: 0.0224\n",
      "Epoch: 1/5...  Loss: 0.0205\n",
      "Epoch: 1/5...  Loss: 0.0190\n",
      "Epoch: 1/5...  Loss: 0.0208\n",
      "Epoch: 1/5...  Loss: 0.0180\n",
      "Epoch: 1/5...  Loss: 0.0193\n",
      "Epoch: 1/5...  Loss: 0.0192\n",
      "Epoch: 1/5...  Loss: 0.0204\n",
      "Epoch: 1/5...  Loss: 0.0195\n",
      "Epoch: 1/5...  Loss: 0.0205\n",
      "Epoch: 1/5...  Loss: 0.0211\n",
      "Epoch: 1/5...  Loss: 0.0184\n",
      "Epoch: 2/5...  Loss: 0.0172\n",
      "Epoch: 2/5...  Loss: 0.0179\n",
      "Epoch: 2/5...  Loss: 0.0188\n",
      "Epoch: 2/5...  Loss: 0.0180\n",
      "Epoch: 2/5...  Loss: 0.0180\n",
      "Epoch: 2/5...  Loss: 0.0179\n",
      "Epoch: 2/5...  Loss: 0.0189\n",
      "Epoch: 2/5...  Loss: 0.0158\n",
      "Epoch: 2/5...  Loss: 0.0187\n",
      "Epoch: 2/5...  Loss: 0.0181\n",
      "Epoch: 2/5...  Loss: 0.0192\n",
      "Epoch: 2/5...  Loss: 0.0188\n",
      "Epoch: 2/5...  Loss: 0.0187\n",
      "Epoch: 2/5...  Loss: 0.0173\n",
      "Epoch: 2/5...  Loss: 0.0174\n",
      "Epoch: 2/5...  Loss: 0.0164\n",
      "Epoch: 2/5...  Loss: 0.0158\n",
      "Epoch: 2/5...  Loss: 0.0176\n",
      "Epoch: 2/5...  Loss: 0.0168\n",
      "Epoch: 2/5...  Loss: 0.0173\n",
      "Epoch: 2/5...  Loss: 0.0160\n",
      "Epoch: 2/5...  Loss: 0.0168\n",
      "Epoch: 2/5...  Loss: 0.0171\n",
      "Epoch: 3/5...  Loss: 0.0181\n",
      "Epoch: 3/5...  Loss: 0.0159\n",
      "Epoch: 3/5...  Loss: 0.0153\n",
      "Epoch: 3/5...  Loss: 0.0162\n",
      "Epoch: 3/5...  Loss: 0.0164\n",
      "Epoch: 3/5...  Loss: 0.0161\n",
      "Epoch: 3/5...  Loss: 0.0153\n",
      "Epoch: 3/5...  Loss: 0.0159\n",
      "Epoch: 3/5...  Loss: 0.0166\n",
      "Epoch: 3/5...  Loss: 0.0157\n",
      "Epoch: 3/5...  Loss: 0.0169\n",
      "Epoch: 3/5...  Loss: 0.0161\n",
      "Epoch: 3/5...  Loss: 0.0161\n",
      "Epoch: 3/5...  Loss: 0.0160\n",
      "Epoch: 3/5...  Loss: 0.0174\n",
      "Epoch: 3/5...  Loss: 0.0142\n",
      "Epoch: 3/5...  Loss: 0.0166\n",
      "Epoch: 3/5...  Loss: 0.0162\n",
      "Epoch: 3/5...  Loss: 0.0163\n",
      "Epoch: 3/5...  Loss: 0.0161\n",
      "Epoch: 3/5...  Loss: 0.0149\n",
      "Epoch: 3/5...  Loss: 0.0154\n",
      "Epoch: 3/5...  Loss: 0.0164\n",
      "Epoch: 3/5...  Loss: 0.0169\n",
      "Epoch: 4/5...  Loss: 0.0149\n",
      "Epoch: 4/5...  Loss: 0.0152\n",
      "Epoch: 4/5...  Loss: 0.0154\n",
      "Epoch: 4/5...  Loss: 0.0150\n",
      "Epoch: 4/5...  Loss: 0.0153\n",
      "Epoch: 4/5...  Loss: 0.0133\n",
      "Epoch: 4/5...  Loss: 0.0157\n",
      "Epoch: 4/5...  Loss: 0.0161\n",
      "Epoch: 4/5...  Loss: 0.0150\n",
      "Epoch: 4/5...  Loss: 0.0148\n",
      "Epoch: 4/5...  Loss: 0.0158\n",
      "Epoch: 4/5...  Loss: 0.0155\n",
      "Epoch: 4/5...  Loss: 0.0153\n",
      "Epoch: 4/5...  Loss: 0.0154\n",
      "Epoch: 4/5...  Loss: 0.0155\n",
      "Epoch: 4/5...  Loss: 0.0155\n",
      "Epoch: 4/5...  Loss: 0.0162\n",
      "Epoch: 4/5...  Loss: 0.0158\n",
      "Epoch: 4/5...  Loss: 0.0145\n",
      "Epoch: 4/5...  Loss: 0.0158\n",
      "Epoch: 4/5...  Loss: 0.0133\n",
      "Epoch: 4/5...  Loss: 0.0146\n",
      "Epoch: 4/5...  Loss: 0.0148\n",
      "Epoch: 5/5...  Loss: 0.0154\n",
      "Epoch: 5/5...  Loss: 0.0148\n",
      "Epoch: 5/5...  Loss: 0.0147\n",
      "Epoch: 5/5...  Loss: 0.0146\n",
      "Epoch: 5/5...  Loss: 0.0148\n",
      "Epoch: 5/5...  Loss: 0.0144\n",
      "Epoch: 5/5...  Loss: 0.0157\n",
      "Epoch: 5/5...  Loss: 0.0150\n",
      "Epoch: 5/5...  Loss: 0.0149\n",
      "Epoch: 5/5...  Loss: 0.0139\n",
      "Epoch: 5/5...  Loss: 0.0149\n",
      "Epoch: 5/5...  Loss: 0.0143\n",
      "Epoch: 5/5...  Loss: 0.0138\n",
      "Epoch: 5/5...  Loss: 0.0135\n",
      "Epoch: 5/5...  Loss: 0.0152\n",
      "Epoch: 5/5...  Loss: 0.0170\n",
      "Epoch: 5/5...  Loss: 0.0148\n",
      "Epoch: 5/5...  Loss: 0.0136\n",
      "Epoch: 5/5...  Loss: 0.0148\n",
      "Epoch: 5/5...  Loss: 0.0151\n",
      "Epoch: 5/5...  Loss: 0.0154\n",
      "Epoch: 5/5...  Loss: 0.0149\n",
      "Epoch: 5/5...  Loss: 0.0149\n",
      "Epoch: 5/5...  Loss: 0.0157\n"
     ]
    }
   ],
   "source": [
    "# TODO: Train the network here\n",
    "epochs = 5\n",
    "print_every = 40\n",
    "steps = 0\n",
    "running_loss = 0\n",
    "for e in range(epochs):\n",
    "    for images, labels in trainloader:\n",
    "        steps += 1\n",
    "        # Flatten MNIST images into a 784 long vector\n",
    "        images.resize_(images.size()[0], 784)\n",
    "        \n",
    "        optimizer.zero_grad()\n",
    "        \n",
    "        # Forward and backward passes\n",
    "        output = model.forward(images)\n",
    "        loss = criterion(output, labels)\n",
    "        loss.backward()\n",
    "        optimizer.step()\n",
    "        \n",
    "        running_loss += loss.item()\n",
    "        \n",
    "        if steps % print_every == 0:\n",
    "            print(\"Epoch: {}/{}... \".format(e+1, epochs),\n",
    "                  \"Loss: {:.4f}\".format(running_loss/len(trainloader)))\n",
    "            \n",
    "            running_loss = 0"
   ]
  },
  {
   "cell_type": "code",
   "execution_count": 20,
   "metadata": {},
   "outputs": [
    {
     "data": {
      "image/png": "[encoded data removed]",
      "text/plain": [
       "<matplotlib.figure.Figure at 0x7fb678846b00>"
      ]
     },
     "metadata": {
      "image/png": {
       "height": 204,
       "width": 423
      }
     },
     "output_type": "display_data"
    }
   ],
   "source": [
    "# Test out your network!\n",
    "\n",
    "dataiter = iter(testloader)\n",
    "images, labels = dataiter.next()\n",
    "img = images[0]\n",
    "# Convert 2D image to 1D vector\n",
    "img = img.resize_(1, 784)\n",
    "\n",
    "# TODO: Calculate the class probabilities (softmax) for img\n",
    "# Don't track this gradient\n",
    "with torch.no_grad():\n",
    "    output = model.forward(img)\n",
    "\n",
    "ps = torch.exp(output)\n",
    "\n",
    "# Plot the image and probabilities\n",
    "helper.view_classify(img.resize_(1, 28, 28), ps, version='Fashion')"
   ]
  },
  {
   "cell_type": "markdown",
   "metadata": {},
   "source": [
    "Now that your network is trained, you'll want to save it to disk so you can load it later instead of training it again. Obviously, it's impractical to train a network every time you need one. In practice, you'll train it once, save the model, then reload it for further training or making predictions. In the next part, I'll show you how to save and load trained models."
   ]
  }
 ],
 "metadata": {
  "kernelspec": {
   "display_name": "Python 3",
   "language": "python",
   "name": "python3"
  },
  "language_info": {
   "codemirror_mode": {
    "name": "ipython",
    "version": 3
   },
   "file_extension": ".py",
   "mimetype": "text/x-python",
   "name": "python",
   "nbconvert_exporter": "python",
   "pygments_lexer": "ipython3",
   "version": "3.6.3"
  }
 },
 "nbformat": 4,
 "nbformat_minor": 2
}
